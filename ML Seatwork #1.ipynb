{
 "cells": [
  {
   "cell_type": "code",
   "execution_count": 1,
   "id": "e0770e22-c46d-4db5-a7d8-34aa03420fed",
   "metadata": {},
   "outputs": [],
   "source": [
    "import numpy as np\n",
    "import pandas as pd"
   ]
  },
  {
   "cell_type": "markdown",
   "id": "a14dcafd-9ea4-4fba-8dc0-16e6fcff6dbe",
   "metadata": {},
   "source": [
    "# SEATWORK: Problem 1"
   ]
  },
  {
   "cell_type": "markdown",
   "id": "0ca2158a-871c-4305-91a8-22aa1cbbbb9a",
   "metadata": {},
   "source": [
    "A group of researchers conducted a survey on the ages of people in the Town of Naga. They did this by simply talking to passersby on Naga Plaza Rizal. From their simple survey they gathered:"
   ]
  },
  {
   "cell_type": "markdown",
   "id": "138577e0-63ed-431d-8841-22c399d366dc",
   "metadata": {},
   "source": [
    "Age: [13, 15, 16, 16, 19, 20, 21, 22, 25, 25, 25, 25, 30, 33, 35, 35, 35, 35, 36, 45, 46, 52, 35, 38, 30]"
   ]
  },
  {
   "cell_type": "markdown",
   "id": "11ca4430-7230-46a6-a81f-70b0ba96f7f5",
   "metadata": {},
   "source": [
    "(a) Use the binning method to smooth the above data. Assume that the bin size is 5"
   ]
  },
  {
   "cell_type": "code",
   "execution_count": 2,
   "id": "0cbe1c75-36be-49c6-b722-37094daefc3e",
   "metadata": {},
   "outputs": [],
   "source": [
    "age = np.array([13, 15, 16, 16, 19, 20, 21, 22, 25, 25, 25, 25, 30, 33, 35, 35, 35, 35, 36, 45, 46, 52, 35, 38, 30])\n",
    "age = np.sort(age)"
   ]
  },
  {
   "cell_type": "code",
   "execution_count": 3,
   "id": "67760a61-3cd3-4923-a93c-b7ac254ac6a1",
   "metadata": {},
   "outputs": [],
   "source": [
    "bin_sz = 5"
   ]
  },
  {
   "cell_type": "code",
   "execution_count": null,
   "id": "3277bbc8-37d4-49f0-a481-d8c176f4af25",
   "metadata": {},
   "outputs": [],
   "source": []
  },
  {
   "cell_type": "code",
   "execution_count": 4,
   "id": "2a0ac3d8-4fff-4e64-bd15-5438d3e084ef",
   "metadata": {},
   "outputs": [],
   "source": [
    "def equal_frequency_bins(data, bin_sz):\n",
    "    bins = len(data) / bin_sz\n",
    "    data = np.split(data, bins)\n",
    "    row = len(data)\n",
    "    \n",
    "    for i in range(row):\n",
    "        print(\"Bin \" + str(i+1) + \": \" + str(data[i]))"
   ]
  },
  {
   "cell_type": "code",
   "execution_count": 5,
   "id": "6d549042-8d34-4f73-883c-f3c510a27e22",
   "metadata": {},
   "outputs": [],
   "source": [
    "def bin_means(data, bin_sz):\n",
    "    bins = len(data) / bin_sz\n",
    "    data = np.split(data, bins)\n",
    "    row = len(data)\n",
    "    \n",
    "    for i in range(row):\n",
    "        ave = data[i].sum() / bin_sz\n",
    "        print(\"Bin \" + str(i+1) + \": \", end='')\n",
    "        print(np.full(bin_sz, round(ave)))"
   ]
  },
  {
   "cell_type": "code",
   "execution_count": 6,
   "id": "84f02721-4e11-4e27-b15f-b8df7b5cb829",
   "metadata": {},
   "outputs": [],
   "source": [
    "def bin_boundary(data, bin_sz):\n",
    "    bins = len(data) / bin_sz\n",
    "    data = np.split(data, bins)\n",
    "    row = len(data)\n",
    "    \n",
    "    for i in range(row):\n",
    "        minn = data[i][0]\n",
    "        maxx = data[i][bin_sz - 1]\n",
    "        print(\"Bin \" + str(i+1) + \": \", end='')\n",
    "        ls = []\n",
    "        for j in range(bin_sz):\n",
    "            x = data[i][j]\n",
    "            if (x - minn <= maxx - x):\n",
    "                x = minn\n",
    "            else:\n",
    "                x = maxx\n",
    "            ls = ls + [x]\n",
    "        print(np.array(ls))"
   ]
  },
  {
   "cell_type": "markdown",
   "id": "8c7ce1f3-e240-4afd-a5df-c09844be5f73",
   "metadata": {},
   "source": [
    "### Answer:"
   ]
  },
  {
   "cell_type": "markdown",
   "id": "2493d544-c3d2-4faa-92e5-9b1991b4f2a0",
   "metadata": {},
   "source": [
    "The sorted age array is:"
   ]
  },
  {
   "cell_type": "code",
   "execution_count": 7,
   "id": "723cef1b-6965-4685-9d7f-8810a997f23e",
   "metadata": {},
   "outputs": [
    {
     "data": {
      "text/plain": [
       "array([13, 15, 16, 16, 19, 20, 21, 22, 25, 25, 25, 25, 30, 30, 33, 35, 35,\n",
       "       35, 35, 35, 36, 38, 45, 46, 52])"
      ]
     },
     "execution_count": 7,
     "metadata": {},
     "output_type": "execute_result"
    }
   ],
   "source": [
    "age"
   ]
  },
  {
   "cell_type": "markdown",
   "id": "d7beb92c-f000-4fe6-8b2b-e6b485e2aa10",
   "metadata": {},
   "source": [
    "- Equal frequency bins"
   ]
  },
  {
   "cell_type": "code",
   "execution_count": 8,
   "id": "f4f2ab8f-1596-40c5-90d9-172e4c496854",
   "metadata": {},
   "outputs": [
    {
     "name": "stdout",
     "output_type": "stream",
     "text": [
      "Bin 1: [13 15 16 16 19]\n",
      "Bin 2: [20 21 22 25 25]\n",
      "Bin 3: [25 25 30 30 33]\n",
      "Bin 4: [35 35 35 35 35]\n",
      "Bin 5: [36 38 45 46 52]\n"
     ]
    }
   ],
   "source": [
    "equal_frequency_bins(age, bin_sz)"
   ]
  },
  {
   "cell_type": "markdown",
   "id": "585d05f8-3fbc-42e5-bd7c-41d74332a725",
   "metadata": {},
   "source": [
    "- Bin means"
   ]
  },
  {
   "cell_type": "code",
   "execution_count": 9,
   "id": "9ccb7a26-2f61-4f06-9842-31713f8ca317",
   "metadata": {},
   "outputs": [
    {
     "name": "stdout",
     "output_type": "stream",
     "text": [
      "Bin 1: [16 16 16 16 16]\n",
      "Bin 2: [23 23 23 23 23]\n",
      "Bin 3: [29 29 29 29 29]\n",
      "Bin 4: [35 35 35 35 35]\n",
      "Bin 5: [43 43 43 43 43]\n"
     ]
    }
   ],
   "source": [
    "bin_means(age, bin_sz)"
   ]
  },
  {
   "cell_type": "markdown",
   "id": "a3df934f-7d5b-4190-8af2-c7d48b1415f3",
   "metadata": {},
   "source": [
    "- Bin boundary"
   ]
  },
  {
   "cell_type": "code",
   "execution_count": 10,
   "id": "09b9054d-ded5-42a1-a9c9-c96c196ca924",
   "metadata": {},
   "outputs": [
    {
     "name": "stdout",
     "output_type": "stream",
     "text": [
      "Bin 1: [13 13 13 13 19]\n",
      "Bin 2: [20 20 20 25 25]\n",
      "Bin 3: [25 25 33 33 33]\n",
      "Bin 4: [35 35 35 35 35]\n",
      "Bin 5: [36 36 52 52 52]\n"
     ]
    }
   ],
   "source": [
    "bin_boundary(age, bin_sz)"
   ]
  },
  {
   "cell_type": "markdown",
   "id": "f5ceb7be-708b-4852-be73-cdc1be0b0da1",
   "metadata": {},
   "source": [
    "---"
   ]
  },
  {
   "cell_type": "markdown",
   "id": "c8c7315c-71b7-4401-9404-aba89a8d45c8",
   "metadata": {},
   "source": [
    "# SEATWORK: Problem 2"
   ]
  },
  {
   "cell_type": "markdown",
   "id": "72eb88f7-898d-4b64-90fe-c2812a2d4f3d",
   "metadata": {},
   "source": [
    "Suppose a group of 12 sales price records has been sorted as follows:"
   ]
  },
  {
   "cell_type": "markdown",
   "id": "a4ca7400-995e-4855-a9ef-a60a7ccac452",
   "metadata": {},
   "source": [
    "Sales = [5, 10, 11, 13, 15, 35, 50, 55, 72, 92, 204, 215]"
   ]
  },
  {
   "cell_type": "markdown",
   "id": "7e0876c0-d72b-4641-ba8d-dbbd23df076d",
   "metadata": {},
   "source": [
    "(a) Partition them into three bins and smooth the data into the following:\n",
    "- Smoothing by Equal Frequency Bins\n",
    "- Smoothing by bin means\n",
    "- Smoothing by bin boundary\n"
   ]
  },
  {
   "cell_type": "code",
   "execution_count": 11,
   "id": "bb2614f8-25c5-4a28-93c3-d8f4108e2dbb",
   "metadata": {},
   "outputs": [],
   "source": [
    "sales = np.array([5, 10, 11, 13, 15, 35, 50, 55, 72, 92, 204, 215])"
   ]
  },
  {
   "cell_type": "code",
   "execution_count": 12,
   "id": "1baababa-2bae-43dc-8735-a4417189471e",
   "metadata": {},
   "outputs": [],
   "source": [
    "sales = np.sort(sales)"
   ]
  },
  {
   "cell_type": "code",
   "execution_count": 13,
   "id": "8b6e287a-1092-4817-a46e-6a822fbfcf16",
   "metadata": {},
   "outputs": [],
   "source": [
    "bins = 3"
   ]
  },
  {
   "cell_type": "code",
   "execution_count": null,
   "id": "2bb120db-f034-4732-a0a3-be1088d0db1c",
   "metadata": {},
   "outputs": [],
   "source": []
  },
  {
   "cell_type": "markdown",
   "id": "a8034b83-540e-4b23-bee4-3b52c649bc1e",
   "metadata": {},
   "source": [
    "We have to modify the defined functions from problem 1 because it does not cater to a specified number of bins."
   ]
  },
  {
   "cell_type": "code",
   "execution_count": 14,
   "id": "28d2da7e-720b-4e15-b8a0-e16def3738c5",
   "metadata": {},
   "outputs": [],
   "source": [
    "def equal_frequency_bins(data, bins):\n",
    "    data = np.split(data, bins)\n",
    "    row = len(data)\n",
    "    \n",
    "    for i in range(row):\n",
    "        print(\"Bin \" + str(i+1) + \": \" + str(data[i]))"
   ]
  },
  {
   "cell_type": "code",
   "execution_count": 15,
   "id": "61f3a61a-b749-4348-a2dd-e58b386ce127",
   "metadata": {},
   "outputs": [],
   "source": [
    "def bin_means(data, bins):\n",
    "    bin_sz = len(data) / bins\n",
    "    data = np.split(data, bins)\n",
    "    row = len(data)\n",
    "    \n",
    "    for i in range(row):\n",
    "        ave = data[i].sum() / bin_sz\n",
    "        print(\"Bin \" + str(i+1) + \": \", end='')\n",
    "        print(np.full(int(bin_sz), round(ave)))"
   ]
  },
  {
   "cell_type": "code",
   "execution_count": 16,
   "id": "91eea67c-2a91-48f0-8383-393b7a4380f9",
   "metadata": {},
   "outputs": [],
   "source": [
    "def bin_boundary(data, bins):\n",
    "    bin_sz = int(len(data) / bins)\n",
    "    data = np.split(data, bins)\n",
    "    row = len(data)\n",
    "    \n",
    "    for i in range(row):\n",
    "        minn = data[i][0]\n",
    "        maxx = data[i][bin_sz - 1]\n",
    "        print(\"Bin \" + str(i+1) + \": \", end='')\n",
    "        ls = []\n",
    "        for j in range(bin_sz):\n",
    "            x = data[i][j]\n",
    "            if (x - minn <= maxx - x):\n",
    "                x = minn\n",
    "            else:\n",
    "                x = maxx\n",
    "            ls = ls + [x]\n",
    "        print(np.array(ls))"
   ]
  },
  {
   "cell_type": "markdown",
   "id": "253816f1-c32c-4bfa-a7e5-ff3fede20347",
   "metadata": {},
   "source": [
    "### Answer"
   ]
  },
  {
   "cell_type": "markdown",
   "id": "77fc8b3b-6240-4adb-8e23-7c5098c183cc",
   "metadata": {},
   "source": [
    "The sorted sales array is:"
   ]
  },
  {
   "cell_type": "code",
   "execution_count": 17,
   "id": "7fb0b8ac-d186-4ba4-b6d7-d9bbca7072a5",
   "metadata": {},
   "outputs": [
    {
     "data": {
      "text/plain": [
       "array([  5,  10,  11,  13,  15,  35,  50,  55,  72,  92, 204, 215])"
      ]
     },
     "execution_count": 17,
     "metadata": {},
     "output_type": "execute_result"
    }
   ],
   "source": [
    "sales"
   ]
  },
  {
   "cell_type": "markdown",
   "id": "0cb0467f-c49a-4d7c-bd74-9d2dd8d4b65b",
   "metadata": {},
   "source": [
    "- Equal frequency bins"
   ]
  },
  {
   "cell_type": "code",
   "execution_count": 18,
   "id": "6ec04055-07e5-4cff-874f-3384251be53f",
   "metadata": {},
   "outputs": [
    {
     "name": "stdout",
     "output_type": "stream",
     "text": [
      "Bin 1: [ 5 10 11 13]\n",
      "Bin 2: [15 35 50 55]\n",
      "Bin 3: [ 72  92 204 215]\n"
     ]
    }
   ],
   "source": [
    "equal_frequency_bins(sales, bins)"
   ]
  },
  {
   "cell_type": "markdown",
   "id": "4cc1509c-10d0-4690-b549-38740772cb95",
   "metadata": {},
   "source": [
    "- Bin means"
   ]
  },
  {
   "cell_type": "code",
   "execution_count": 19,
   "id": "6f3af45d-b489-49b4-9b41-78778278acc5",
   "metadata": {},
   "outputs": [
    {
     "name": "stdout",
     "output_type": "stream",
     "text": [
      "Bin 1: [10 10 10 10]\n",
      "Bin 2: [39 39 39 39]\n",
      "Bin 3: [146 146 146 146]\n"
     ]
    }
   ],
   "source": [
    "bin_means(sales, bins)"
   ]
  },
  {
   "cell_type": "markdown",
   "id": "f72cf2d2-11f2-4666-9fef-6225d4a3479a",
   "metadata": {},
   "source": [
    "- Bin boundary"
   ]
  },
  {
   "cell_type": "code",
   "execution_count": 20,
   "id": "6359283e-bbd1-4f26-be7a-6f85abdbe93e",
   "metadata": {},
   "outputs": [
    {
     "name": "stdout",
     "output_type": "stream",
     "text": [
      "Bin 1: [ 5 13 13 13]\n",
      "Bin 2: [15 15 55 55]\n",
      "Bin 3: [ 72  72 215 215]\n"
     ]
    }
   ],
   "source": [
    "bin_boundary(sales, bins)"
   ]
  },
  {
   "cell_type": "markdown",
   "id": "c50d860a-d883-4571-a5a7-21a927091de5",
   "metadata": {},
   "source": [
    "---"
   ]
  },
  {
   "cell_type": "markdown",
   "id": "5b7b16a9-4a40-4d80-b145-0088f8e6913b",
   "metadata": {},
   "source": [
    "# SEATWORK: Problem 3"
   ]
  },
  {
   "cell_type": "markdown",
   "id": "02864273-7ba2-4df7-a22f-bf356a00a8dc",
   "metadata": {},
   "source": [
    "Use the methods below to normalize the following group of data:"
   ]
  },
  {
   "cell_type": "markdown",
   "id": "76c758d2-7d2d-4efa-9fed-5ca49067ba21",
   "metadata": {},
   "source": [
    "[50, 100, 150, 200, 250]"
   ]
  },
  {
   "cell_type": "markdown",
   "id": "c9743e83-966a-4dc6-8381-1830d1b76625",
   "metadata": {},
   "source": [
    "- (a) min-max normalization \n",
    "- (b) z-score normalization\n",
    "- (c) z-score normalization using the mean absolute deviation instead of\n",
    "standard deviation\n"
   ]
  },
  {
   "cell_type": "code",
   "execution_count": 21,
   "id": "aa54d44a-ea3d-4422-aa94-a0fd85af0eb4",
   "metadata": {},
   "outputs": [],
   "source": [
    "data = [50, 100, 150, 200, 250]"
   ]
  },
  {
   "cell_type": "code",
   "execution_count": 22,
   "id": "1b3b480c-6fa8-4dcb-a7f0-de2f5ac847eb",
   "metadata": {},
   "outputs": [],
   "source": [
    "def min_max_normalization(data):\n",
    "    n = len(data)\n",
    "    minn = data[0]\n",
    "    maxx = data[n-1]\n",
    "\n",
    "    maxx_min = maxx - minn\n",
    "    norm_data = np.full(n, 0.0)\n",
    "    \n",
    "    for i in range(n):\n",
    "        norm_data[i] = (data[i] - minn) / maxx_min\n",
    "    \n",
    "    return norm_data"
   ]
  },
  {
   "cell_type": "code",
   "execution_count": 23,
   "id": "b09e8108-0371-4a3a-8b54-bdb1cbec2216",
   "metadata": {},
   "outputs": [],
   "source": [
    "def z_score_normalization(data):\n",
    "    import math\n",
    "    n = len(data)\n",
    "    mean = np.array(data).sum() / n\n",
    "\n",
    "    sd = 0.0\n",
    "    for i in range(n):\n",
    "        sd = sd + (data[i] - mean) ** 2\n",
    "    sd = math.sqrt(sd / n)\n",
    "\n",
    "    z_data = np.full(n, 0.0)\n",
    "    \n",
    "    for i in range(n):\n",
    "        z_data[i] = (data[i] - mean) / sd\n",
    "    \n",
    "    return z_data"
   ]
  },
  {
   "cell_type": "code",
   "execution_count": 24,
   "id": "ff2bef1a-2e4d-4e1c-a11a-7aabfdbbd87a",
   "metadata": {},
   "outputs": [],
   "source": [
    "def mean_abs_deviation(data):\n",
    "    n = len(data)\n",
    "    mean = np.array(data).sum() / n\n",
    "\n",
    "    mean_abs = 0.0\n",
    "    for i in range(n):\n",
    "        mean_abs = mean_abs + abs(data[i] - mean)\n",
    "    mean_abs = mean_abs / n\n",
    "\n",
    "    mean_data = np.full(n, 0.0)\n",
    "    \n",
    "    for i in range(n):\n",
    "        mean_data[i] = (data[i] - mean) / mean_abs\n",
    "    \n",
    "    return mean_data"
   ]
  },
  {
   "cell_type": "code",
   "execution_count": 25,
   "id": "0ed10f52-4938-4290-9792-9dd48f35a283",
   "metadata": {},
   "outputs": [],
   "source": [
    "columns = ['Data', 'Min-max normalization', 'Z-score normalization', 'Mean absolute deviation']\n",
    "combined = np.full( (len(data), len(columns)), 0.0 )\n",
    "\n",
    "combined[:, 0] = data\n",
    "combined[:, 1] = min_max_normalization(data)\n",
    "combined[:, 2] = z_score_normalization(data)\n",
    "combined[:, 3] = mean_abs_deviation(data)\n",
    "    \n",
    "ans = pd.DataFrame(combined, columns=columns)"
   ]
  },
  {
   "cell_type": "markdown",
   "id": "95eefb1d-7f4a-4513-9462-d2d405b7356f",
   "metadata": {},
   "source": [
    "### Answer:"
   ]
  },
  {
   "cell_type": "code",
   "execution_count": 26,
   "id": "437fdb76-4b62-4fb0-85c7-b61c6bfb0255",
   "metadata": {},
   "outputs": [
    {
     "data": {
      "text/html": [
       "<div>\n",
       "<style scoped>\n",
       "    .dataframe tbody tr th:only-of-type {\n",
       "        vertical-align: middle;\n",
       "    }\n",
       "\n",
       "    .dataframe tbody tr th {\n",
       "        vertical-align: top;\n",
       "    }\n",
       "\n",
       "    .dataframe thead th {\n",
       "        text-align: right;\n",
       "    }\n",
       "</style>\n",
       "<table border=\"1\" class=\"dataframe\">\n",
       "  <thead>\n",
       "    <tr style=\"text-align: right;\">\n",
       "      <th></th>\n",
       "      <th>Data</th>\n",
       "      <th>Min-max normalization</th>\n",
       "      <th>Z-score normalization</th>\n",
       "      <th>Mean absolute deviation</th>\n",
       "    </tr>\n",
       "  </thead>\n",
       "  <tbody>\n",
       "    <tr>\n",
       "      <th>0</th>\n",
       "      <td>50.0</td>\n",
       "      <td>0.00</td>\n",
       "      <td>-1.414214</td>\n",
       "      <td>-1.666667</td>\n",
       "    </tr>\n",
       "    <tr>\n",
       "      <th>1</th>\n",
       "      <td>100.0</td>\n",
       "      <td>0.25</td>\n",
       "      <td>-0.707107</td>\n",
       "      <td>-0.833333</td>\n",
       "    </tr>\n",
       "    <tr>\n",
       "      <th>2</th>\n",
       "      <td>150.0</td>\n",
       "      <td>0.50</td>\n",
       "      <td>0.000000</td>\n",
       "      <td>0.000000</td>\n",
       "    </tr>\n",
       "    <tr>\n",
       "      <th>3</th>\n",
       "      <td>200.0</td>\n",
       "      <td>0.75</td>\n",
       "      <td>0.707107</td>\n",
       "      <td>0.833333</td>\n",
       "    </tr>\n",
       "    <tr>\n",
       "      <th>4</th>\n",
       "      <td>250.0</td>\n",
       "      <td>1.00</td>\n",
       "      <td>1.414214</td>\n",
       "      <td>1.666667</td>\n",
       "    </tr>\n",
       "  </tbody>\n",
       "</table>\n",
       "</div>"
      ],
      "text/plain": [
       "    Data  Min-max normalization  Z-score normalization  \\\n",
       "0   50.0                   0.00              -1.414214   \n",
       "1  100.0                   0.25              -0.707107   \n",
       "2  150.0                   0.50               0.000000   \n",
       "3  200.0                   0.75               0.707107   \n",
       "4  250.0                   1.00               1.414214   \n",
       "\n",
       "   Mean absolute deviation  \n",
       "0                -1.666667  \n",
       "1                -0.833333  \n",
       "2                 0.000000  \n",
       "3                 0.833333  \n",
       "4                 1.666667  "
      ]
     },
     "execution_count": 26,
     "metadata": {},
     "output_type": "execute_result"
    }
   ],
   "source": [
    "ans"
   ]
  },
  {
   "cell_type": "markdown",
   "id": "6470794c-e411-4035-a23b-876a8d4080e3",
   "metadata": {},
   "source": [
    "---"
   ]
  },
  {
   "cell_type": "markdown",
   "id": "504e63d7-fffb-49ef-b4f0-102e8b70e361",
   "metadata": {},
   "source": [
    "# SEATWORK: Problem 4"
   ]
  },
  {
   "cell_type": "markdown",
   "id": "6e841c71-b36a-4f1a-a051-3b515ae4b7f1",
   "metadata": {},
   "source": [
    "Use the methods below to normalize the following group of data:"
   ]
  },
  {
   "cell_type": "markdown",
   "id": "39d07e7d-f393-4555-8dc9-ec47b07998f9",
   "metadata": {},
   "source": [
    "[500, 600, 700, 900, 1000]"
   ]
  },
  {
   "cell_type": "markdown",
   "id": "c5dc14a9-a088-4f2e-8098-71c86048e63d",
   "metadata": {},
   "source": [
    "- (a) min-max normalization \n",
    "- (b) z-score normalization\n",
    "- (c) z-score normalization using the mean absolute deviation instead of\n",
    "standard deviation\n"
   ]
  },
  {
   "cell_type": "code",
   "execution_count": 27,
   "id": "5aa2c809-5d3c-4dbd-81df-06e9f9bb45dc",
   "metadata": {},
   "outputs": [],
   "source": [
    "data = [500, 600, 700, 900, 1000]"
   ]
  },
  {
   "cell_type": "code",
   "execution_count": null,
   "id": "aadfc5b3-babe-4837-acb6-a12f0501997f",
   "metadata": {},
   "outputs": [],
   "source": []
  },
  {
   "cell_type": "markdown",
   "id": "687bf8d6-ae37-4ac9-8141-e0d161116d54",
   "metadata": {},
   "source": [
    "We can use the defined functions from problem 3 to solve problem 4"
   ]
  },
  {
   "cell_type": "code",
   "execution_count": 28,
   "id": "e0fc8f83-5370-4339-a718-01a5d4ea693d",
   "metadata": {},
   "outputs": [],
   "source": [
    "columns = ['Data', 'Min-max normalization', 'Z-score normalization', 'Mean absolute deviation']\n",
    "combined = np.full( (len(data), len(columns)), 0.0 )\n",
    "\n",
    "combined[:, 0] = data\n",
    "combined[:, 1] = min_max_normalization(data)\n",
    "combined[:, 2] = z_score_normalization(data)\n",
    "combined[:, 3] = mean_abs_deviation(data)\n",
    "    \n",
    "ans = pd.DataFrame(combined, columns=columns)"
   ]
  },
  {
   "cell_type": "markdown",
   "id": "6bd86e20-6b73-415d-a084-e4414259206a",
   "metadata": {},
   "source": [
    "### Answer:"
   ]
  },
  {
   "cell_type": "code",
   "execution_count": 29,
   "id": "965e3078-4f94-4cce-832b-9c691201f709",
   "metadata": {},
   "outputs": [
    {
     "data": {
      "text/html": [
       "<div>\n",
       "<style scoped>\n",
       "    .dataframe tbody tr th:only-of-type {\n",
       "        vertical-align: middle;\n",
       "    }\n",
       "\n",
       "    .dataframe tbody tr th {\n",
       "        vertical-align: top;\n",
       "    }\n",
       "\n",
       "    .dataframe thead th {\n",
       "        text-align: right;\n",
       "    }\n",
       "</style>\n",
       "<table border=\"1\" class=\"dataframe\">\n",
       "  <thead>\n",
       "    <tr style=\"text-align: right;\">\n",
       "      <th></th>\n",
       "      <th>Data</th>\n",
       "      <th>Min-max normalization</th>\n",
       "      <th>Z-score normalization</th>\n",
       "      <th>Mean absolute deviation</th>\n",
       "    </tr>\n",
       "  </thead>\n",
       "  <tbody>\n",
       "    <tr>\n",
       "      <th>0</th>\n",
       "      <td>500.0</td>\n",
       "      <td>0.0</td>\n",
       "      <td>-1.293993</td>\n",
       "      <td>-1.428571</td>\n",
       "    </tr>\n",
       "    <tr>\n",
       "      <th>1</th>\n",
       "      <td>600.0</td>\n",
       "      <td>0.2</td>\n",
       "      <td>-0.754829</td>\n",
       "      <td>-0.833333</td>\n",
       "    </tr>\n",
       "    <tr>\n",
       "      <th>2</th>\n",
       "      <td>700.0</td>\n",
       "      <td>0.4</td>\n",
       "      <td>-0.215666</td>\n",
       "      <td>-0.238095</td>\n",
       "    </tr>\n",
       "    <tr>\n",
       "      <th>3</th>\n",
       "      <td>900.0</td>\n",
       "      <td>0.8</td>\n",
       "      <td>0.862662</td>\n",
       "      <td>0.952381</td>\n",
       "    </tr>\n",
       "    <tr>\n",
       "      <th>4</th>\n",
       "      <td>1000.0</td>\n",
       "      <td>1.0</td>\n",
       "      <td>1.401826</td>\n",
       "      <td>1.547619</td>\n",
       "    </tr>\n",
       "  </tbody>\n",
       "</table>\n",
       "</div>"
      ],
      "text/plain": [
       "     Data  Min-max normalization  Z-score normalization  \\\n",
       "0   500.0                    0.0              -1.293993   \n",
       "1   600.0                    0.2              -0.754829   \n",
       "2   700.0                    0.4              -0.215666   \n",
       "3   900.0                    0.8               0.862662   \n",
       "4  1000.0                    1.0               1.401826   \n",
       "\n",
       "   Mean absolute deviation  \n",
       "0                -1.428571  \n",
       "1                -0.833333  \n",
       "2                -0.238095  \n",
       "3                 0.952381  \n",
       "4                 1.547619  "
      ]
     },
     "execution_count": 29,
     "metadata": {},
     "output_type": "execute_result"
    }
   ],
   "source": [
    "ans"
   ]
  },
  {
   "cell_type": "markdown",
   "id": "7c3ae1ae-09ca-4e7a-9ab4-312d4e1e340d",
   "metadata": {},
   "source": [
    "---"
   ]
  },
  {
   "cell_type": "markdown",
   "id": "8d4fcc00-d880-4be0-9bab-d349ab8588e0",
   "metadata": {},
   "source": [
    "# SEATWORK: Problem 5"
   ]
  },
  {
   "cell_type": "markdown",
   "id": "11343b7a-5755-42f6-813d-80c138d22567",
   "metadata": {},
   "source": [
    "Using the data for age given in Problem 1, answer the following:"
   ]
  },
  {
   "cell_type": "markdown",
   "id": "0f84cf5d-152d-4414-b85b-b33bdcd7ad95",
   "metadata": {},
   "source": [
    "- (a) Use min-max normalization to transform the value 35 for age onto the range [0.0, 1.0]. \n",
    "- (b) Use z-score normalization to transform the value 35 for age, where the standard deviation of age is 12.94 years."
   ]
  },
  {
   "cell_type": "code",
   "execution_count": 30,
   "id": "9770f22e-42a1-4030-afce-a8f23a63914d",
   "metadata": {},
   "outputs": [],
   "source": [
    "data = np.array([13, 15, 16, 16, 19, 20, 21, 22, 25, 25, 25, 25, 30, 33, 35, 35, 35, 35, 36, 45, 46, 52, 35, 38, 30])\n",
    "data = np.sort(age)"
   ]
  },
  {
   "cell_type": "code",
   "execution_count": null,
   "id": "62ea9521-c4d0-4b96-a3f9-fad05cda1b12",
   "metadata": {},
   "outputs": [],
   "source": []
  },
  {
   "cell_type": "code",
   "execution_count": 31,
   "id": "e1665a18-b73e-45d3-b9b8-5d3552566a7b",
   "metadata": {},
   "outputs": [],
   "source": [
    "def z_score_normalization_wval(data, sd):\n",
    "    n = len(data)\n",
    "    mean = np.array(data).sum() / n\n",
    "\n",
    "    z_data = np.full(n, 0.0)\n",
    "    \n",
    "    for i in range(n):\n",
    "        z_data[i] = (data[i] - mean) / sd\n",
    "    \n",
    "    return z_data"
   ]
  },
  {
   "cell_type": "code",
   "execution_count": 32,
   "id": "71694407-b800-42af-8d7a-891bf82572dc",
   "metadata": {},
   "outputs": [],
   "source": [
    "columns = ['Data', 'Min-max normalization', 'Z-score normalization']\n",
    "combined = np.full( (len(data), len(columns)), 0.0 )\n",
    "\n",
    "combined[:, 0] = data\n",
    "combined[:, 1] = min_max_normalization(data)\n",
    "combined[:, 2] = z_score_normalization_wval(data, 12.94)\n",
    "    \n",
    "ans = pd.DataFrame(combined, columns=columns)"
   ]
  },
  {
   "cell_type": "markdown",
   "id": "48a75c2a-8816-492d-bfad-cc8acb4a938a",
   "metadata": {},
   "source": [
    "### Answer:"
   ]
  },
  {
   "cell_type": "code",
   "execution_count": 33,
   "id": "d56ab696-5124-44fb-af5f-c04f66ce9dd4",
   "metadata": {},
   "outputs": [
    {
     "data": {
      "text/html": [
       "<div>\n",
       "<style scoped>\n",
       "    .dataframe tbody tr th:only-of-type {\n",
       "        vertical-align: middle;\n",
       "    }\n",
       "\n",
       "    .dataframe tbody tr th {\n",
       "        vertical-align: top;\n",
       "    }\n",
       "\n",
       "    .dataframe thead th {\n",
       "        text-align: right;\n",
       "    }\n",
       "</style>\n",
       "<table border=\"1\" class=\"dataframe\">\n",
       "  <thead>\n",
       "    <tr style=\"text-align: right;\">\n",
       "      <th></th>\n",
       "      <th>Data</th>\n",
       "      <th>Min-max normalization</th>\n",
       "      <th>Z-score normalization</th>\n",
       "    </tr>\n",
       "  </thead>\n",
       "  <tbody>\n",
       "    <tr>\n",
       "      <th>15</th>\n",
       "      <td>35.0</td>\n",
       "      <td>0.564103</td>\n",
       "      <td>0.457496</td>\n",
       "    </tr>\n",
       "    <tr>\n",
       "      <th>16</th>\n",
       "      <td>35.0</td>\n",
       "      <td>0.564103</td>\n",
       "      <td>0.457496</td>\n",
       "    </tr>\n",
       "    <tr>\n",
       "      <th>17</th>\n",
       "      <td>35.0</td>\n",
       "      <td>0.564103</td>\n",
       "      <td>0.457496</td>\n",
       "    </tr>\n",
       "    <tr>\n",
       "      <th>18</th>\n",
       "      <td>35.0</td>\n",
       "      <td>0.564103</td>\n",
       "      <td>0.457496</td>\n",
       "    </tr>\n",
       "    <tr>\n",
       "      <th>19</th>\n",
       "      <td>35.0</td>\n",
       "      <td>0.564103</td>\n",
       "      <td>0.457496</td>\n",
       "    </tr>\n",
       "  </tbody>\n",
       "</table>\n",
       "</div>"
      ],
      "text/plain": [
       "    Data  Min-max normalization  Z-score normalization\n",
       "15  35.0               0.564103               0.457496\n",
       "16  35.0               0.564103               0.457496\n",
       "17  35.0               0.564103               0.457496\n",
       "18  35.0               0.564103               0.457496\n",
       "19  35.0               0.564103               0.457496"
      ]
     },
     "execution_count": 33,
     "metadata": {},
     "output_type": "execute_result"
    }
   ],
   "source": [
    "ans[ans['Data'] == 35]"
   ]
  },
  {
   "cell_type": "markdown",
   "id": "625546b7-c6b4-48f9-8e61-b5b9e5fdfb6d",
   "metadata": {},
   "source": [
    "---"
   ]
  },
  {
   "cell_type": "markdown",
   "id": "ac281669-8708-4aed-9622-d38dfa6e7841",
   "metadata": {},
   "source": [
    "# SEATWORK: Problem 6"
   ]
  },
  {
   "cell_type": "markdown",
   "id": "6b904eaf-e056-4e43-8414-e7980a40a1c9",
   "metadata": {},
   "source": [
    "Using Linear Regression by Least Square, obtain the following from the given sample data:"
   ]
  },
  {
   "cell_type": "markdown",
   "id": "80f4c05d-0562-4e71-a0a1-0b6035ff4475",
   "metadata": {},
   "source": [
    "- Use the method of Least Squares to find the equation for the predicting weight given the age.\n",
    "- Predict the weight of a person of age 36."
   ]
  },
  {
   "cell_type": "code",
   "execution_count": 34,
   "id": "fb82141f-b5b6-4b01-8bd2-5e2a33c4ef85",
   "metadata": {},
   "outputs": [],
   "source": [
    "x = [25,30,40,35,22,28,45,33,27,38]\n",
    "y = [55,70,75,80,60,50,85,68,72,77]"
   ]
  },
  {
   "cell_type": "code",
   "execution_count": 35,
   "id": "818d1a46-3902-4350-92b1-e26c24277a6c",
   "metadata": {},
   "outputs": [],
   "source": [
    "def least_sq_linear_regression(x, y, feature):\n",
    "    n = len(x)\n",
    "    x_mean = np.array(x).mean()\n",
    "    y_mean = np.array(y).mean()\n",
    "\n",
    "    b_numerator = 0.0\n",
    "    b_denom = 0.0\n",
    "\n",
    "    for i in range(n):\n",
    "        b_numerator = b_numerator + (x[i] - x_mean) * (y[i] - y_mean)\n",
    "        b_denom = b_denom + (x[i] - x_mean) ** 2\n",
    " \n",
    "    b = b_numerator / b_denom\n",
    "    a = y_mean - b * x_mean\n",
    "\n",
    "    return a + b * feature"
   ]
  },
  {
   "cell_type": "markdown",
   "id": "7ab2e77b-b21f-4806-b82c-63fca0ebb121",
   "metadata": {},
   "source": [
    "### Answer:"
   ]
  },
  {
   "cell_type": "markdown",
   "id": "f46fa0ec-18db-4db1-b466-d62149a5a9ac",
   "metadata": {},
   "source": [
    "Using the formula derived from the given dataset, the weight of a person with age 36 is:"
   ]
  },
  {
   "cell_type": "code",
   "execution_count": 36,
   "id": "1d9a2dc7-93cb-4e5f-bf7c-ae8fecdf34ab",
   "metadata": {},
   "outputs": [
    {
     "data": {
      "text/plain": [
       "73.764"
      ]
     },
     "execution_count": 36,
     "metadata": {},
     "output_type": "execute_result"
    }
   ],
   "source": [
    "least_sq_linear_regression(x, y, 36).round(3)"
   ]
  },
  {
   "cell_type": "markdown",
   "id": "7f263b4e-7c68-49a8-8499-cd9fa902be66",
   "metadata": {},
   "source": [
    "---"
   ]
  },
  {
   "cell_type": "markdown",
   "id": "b00a093f-edea-45c5-a52c-8791bc5ab55f",
   "metadata": {},
   "source": [
    "# SEATWORK: Problem 7"
   ]
  },
  {
   "cell_type": "markdown",
   "id": "b2324405-eb5c-4f32-9a3a-9b51a122f982",
   "metadata": {},
   "source": [
    "Using Linear Regression by Least Square, obtain the following from the given sample data:"
   ]
  },
  {
   "cell_type": "markdown",
   "id": "80d4440e-cd0d-4a65-8597-dbd35e3537cb",
   "metadata": {},
   "source": [
    "- Use the method of Least Squares to find the equation for the predicting final grade given the midterm score.\n",
    "- Predict the final grade of a student who had a midterm score of 95."
   ]
  },
  {
   "cell_type": "code",
   "execution_count": 37,
   "id": "49c398a1-4733-4def-b38e-0162a5be0013",
   "metadata": {},
   "outputs": [],
   "source": [
    "x = [ 70, 80, 85, 90, 60, 75, 85, 50 ]\n",
    "y = [ 82, 88, 92, 96, 68, 78, 90, 58 ]"
   ]
  },
  {
   "cell_type": "markdown",
   "id": "e461b117-2f21-423b-ba52-cbe192e439ff",
   "metadata": {},
   "source": [
    "### Answer:"
   ]
  },
  {
   "cell_type": "markdown",
   "id": "970bd027-fce4-48dc-a096-bf242fda548d",
   "metadata": {},
   "source": [
    "The student with a midterm score of 95 is predicted to have a final grade of 100.652."
   ]
  },
  {
   "cell_type": "code",
   "execution_count": 38,
   "id": "06823a38-ffbc-4bf3-a894-56e141c689dd",
   "metadata": {},
   "outputs": [
    {
     "data": {
      "text/plain": [
       "100.652"
      ]
     },
     "execution_count": 38,
     "metadata": {},
     "output_type": "execute_result"
    }
   ],
   "source": [
    "least_sq_linear_regression(x, y, 95).round(3)"
   ]
  }
 ],
 "metadata": {
  "kernelspec": {
   "display_name": "Python 3 (ipykernel)",
   "language": "python",
   "name": "python3"
  },
  "language_info": {
   "codemirror_mode": {
    "name": "ipython",
    "version": 3
   },
   "file_extension": ".py",
   "mimetype": "text/x-python",
   "name": "python",
   "nbconvert_exporter": "python",
   "pygments_lexer": "ipython3",
   "version": "3.11.9"
  }
 },
 "nbformat": 4,
 "nbformat_minor": 5
}
