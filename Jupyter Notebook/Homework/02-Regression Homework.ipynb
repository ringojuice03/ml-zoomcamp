{
 "cells": [
  {
   "cell_type": "code",
   "execution_count": 1,
   "id": "e4fddd78-8c14-41ca-8e05-8b72f621b3e2",
   "metadata": {},
   "outputs": [],
   "source": [
    "import numpy as np\n",
    "import pandas as pd\n",
    "import matplotlib.pyplot as plt\n",
    "import seaborn as sns"
   ]
  },
  {
   "cell_type": "code",
   "execution_count": 2,
   "id": "04b0e226-54a0-401f-bece-c5528ba3ec5b",
   "metadata": {},
   "outputs": [],
   "source": [
    "url = 'https://raw.githubusercontent.com/alexeygrigorev/datasets/master/laptops.csv'"
   ]
  },
  {
   "cell_type": "code",
   "execution_count": 3,
   "id": "80e9c463-9e06-4a23-9279-6a58be08b59d",
   "metadata": {},
   "outputs": [
    {
     "name": "stdout",
     "output_type": "stream",
     "text": [
      "100% [............................................................................] 298573 / 298573"
     ]
    }
   ],
   "source": [
    "import wget\n",
    "data = wget.download(url)"
   ]
  },
  {
   "cell_type": "code",
   "execution_count": 4,
   "id": "774b2f12-c57c-4d3a-a451-e8d718613101",
   "metadata": {},
   "outputs": [],
   "source": [
    "df = pd.read_csv(url)"
   ]
  },
  {
   "cell_type": "code",
   "execution_count": 5,
   "id": "c59770cd-35d4-4af2-ac46-7dbb7925cb74",
   "metadata": {},
   "outputs": [],
   "source": [
    "df.columns = df.columns.str.lower().str.replace(' ', '_')"
   ]
  },
  {
   "cell_type": "code",
   "execution_count": 6,
   "id": "83ac56d7-ca6c-4f13-b2aa-c89727b95046",
   "metadata": {},
   "outputs": [],
   "source": [
    "features = ['ram','storage','screen','final_price']"
   ]
  },
  {
   "cell_type": "code",
   "execution_count": 7,
   "id": "2bdd3d03-4588-4e8a-a8c6-ee9e30378ab2",
   "metadata": {},
   "outputs": [],
   "source": [
    "df = df[features]"
   ]
  },
  {
   "cell_type": "markdown",
   "id": "a883dddf-f1f8-4f3f-80ec-1a57274e21f6",
   "metadata": {},
   "source": [
    "### EDA"
   ]
  },
  {
   "cell_type": "code",
   "execution_count": 8,
   "id": "94acc476-c5ad-44e4-afe1-ed895f738649",
   "metadata": {},
   "outputs": [
    {
     "data": {
      "text/plain": [
       "<Axes: xlabel='final_price', ylabel='Count'>"
      ]
     },
     "execution_count": 8,
     "metadata": {},
     "output_type": "execute_result"
    },
    {
     "data": {
      "image/png": "[encoded data removed]",
      "text/plain": [
       "<Figure size 640x480 with 1 Axes>"
      ]
     },
     "metadata": {},
     "output_type": "display_data"
    }
   ],
   "source": [
    "sns.histplot(df.final_price,)"
   ]
  },
  {
   "cell_type": "markdown",
   "id": "d718ae43-b6a7-4dcf-af6b-677ddd816202",
   "metadata": {},
   "source": [
    "There is a long tail distribution. Therefore, we have to compact the y values using logarithm"
   ]
  },
  {
   "cell_type": "markdown",
   "id": "bfb46875-cb34-440e-925e-72c4379ab4c6",
   "metadata": {},
   "source": [
    "### Question 1"
   ]
  },
  {
   "cell_type": "code",
   "execution_count": 9,
   "id": "2ba93e1c-2a98-42ef-981a-db6918ab740f",
   "metadata": {},
   "outputs": [
    {
     "data": {
      "text/plain": [
       "ram            0\n",
       "storage        0\n",
       "screen         4\n",
       "final_price    0\n",
       "dtype: int64"
      ]
     },
     "execution_count": 9,
     "metadata": {},
     "output_type": "execute_result"
    }
   ],
   "source": [
    "df.isnull().sum()"
   ]
  },
  {
   "cell_type": "markdown",
   "id": "38e65725-cd4c-4b9c-9d5d-cd7ca1ada74c",
   "metadata": {},
   "source": [
    "Screen has missing values"
   ]
  },
  {
   "cell_type": "markdown",
   "id": "0a803358-f496-4084-9f9c-3758f0d74ddc",
   "metadata": {},
   "source": [
    "### Question 2"
   ]
  },
  {
   "cell_type": "code",
   "execution_count": 10,
   "id": "59e0951d-30f8-4a32-82a1-088b0b210864",
   "metadata": {},
   "outputs": [
    {
     "data": {
      "text/plain": [
       "count    2160.00\n",
       "mean       15.41\n",
       "std         9.87\n",
       "min         4.00\n",
       "25%         8.00\n",
       "50%        16.00\n",
       "75%        16.00\n",
       "max       128.00\n",
       "Name: ram, dtype: float64"
      ]
     },
     "execution_count": 10,
     "metadata": {},
     "output_type": "execute_result"
    }
   ],
   "source": [
    "df.ram.describe().round(2)"
   ]
  },
  {
   "cell_type": "markdown",
   "id": "259db40a-53b3-42d1-aa3a-04f94b660737",
   "metadata": {},
   "source": [
    "The 50% percentile for ram is 16"
   ]
  },
  {
   "cell_type": "markdown",
   "id": "b8a91278-d637-4a20-b0af-ffbbacf8c0c2",
   "metadata": {},
   "source": [
    "### Data splitting"
   ]
  },
  {
   "cell_type": "code",
   "execution_count": 11,
   "id": "6b8a0469-3165-4925-866f-dd044d098e0a",
   "metadata": {},
   "outputs": [],
   "source": [
    "n = len(df)\n",
    "n_val = int(n * 0.2)\n",
    "n_test = int(n * 0.2)\n",
    "n_train = n - n_val - n_test"
   ]
  },
  {
   "cell_type": "code",
   "execution_count": 12,
   "id": "aa0e56c8-fd90-4563-8414-62f671927852",
   "metadata": {},
   "outputs": [],
   "source": [
    "idx = np.arange(n)"
   ]
  },
  {
   "cell_type": "code",
   "execution_count": 13,
   "id": "dd3ce057-9ae0-461c-ab37-5109b8e01af6",
   "metadata": {},
   "outputs": [],
   "source": [
    "np.random.seed(42)\n",
    "np.random.shuffle(idx)"
   ]
  },
  {
   "cell_type": "code",
   "execution_count": 14,
   "id": "1fd3cda6-bc26-4111-9234-adc00af033fa",
   "metadata": {},
   "outputs": [],
   "source": [
    "df_train = df.iloc[idx[:n_train]]\n",
    "df_val = df.iloc[idx[n_train:n_train + n_val]]\n",
    "df_test = df.iloc[idx[n_train + n_val:]]"
   ]
  },
  {
   "cell_type": "code",
   "execution_count": 15,
   "id": "c3430a32-c9cb-441b-8a0a-5406a3662233",
   "metadata": {},
   "outputs": [],
   "source": [
    "y_train = df_train.final_price\n",
    "y_val = df_val.final_price\n",
    "y_test = df_test.final_price"
   ]
  },
  {
   "cell_type": "raw",
   "id": "1cbd7bb0-6331-4194-bd5f-176995fbe02a",
   "metadata": {},
   "source": [
    "y_train = np.log1p(y_train)\n",
    "y_val = np.log1p(y_val)\n",
    "y_test = np.log1p(y_test)"
   ]
  },
  {
   "cell_type": "code",
   "execution_count": 16,
   "id": "127c0074-8967-4cf9-b9fe-c9595e582443",
   "metadata": {},
   "outputs": [],
   "source": [
    "del df_train['final_price']\n",
    "del df_val['final_price']\n",
    "del df_test['final_price']"
   ]
  },
  {
   "cell_type": "markdown",
   "id": "0174479a-0525-4c69-afe8-a50fa4a2e564",
   "metadata": {},
   "source": [
    "### Question 3"
   ]
  },
  {
   "cell_type": "code",
   "execution_count": 17,
   "id": "15a667f5-8073-4612-a3b4-f01ad53b9204",
   "metadata": {},
   "outputs": [],
   "source": [
    "def prepare_X(df, filler=0):\n",
    "    df = df.copy()\n",
    "    df['screen'] = df['screen'].fillna(filler)\n",
    "\n",
    "    X = df.values\n",
    "\n",
    "    return X"
   ]
  },
  {
   "cell_type": "code",
   "execution_count": 18,
   "id": "1a38abe0-609a-456f-ac32-20baf397eee7",
   "metadata": {},
   "outputs": [],
   "source": [
    "def train_linear_regression(X, y):\n",
    "    ones = np.ones(len(X))\n",
    "    X = np.column_stack( (ones, X) )\n",
    "\n",
    "    XTX = X.T.dot(X)\n",
    "    XTX_inv = np.linalg.inv(XTX)\n",
    "\n",
    "    w_full = XTX_inv.dot(X.T).dot(y)\n",
    "\n",
    "    return w_full[0], w_full[1:]"
   ]
  },
  {
   "cell_type": "code",
   "execution_count": 19,
   "id": "eecb013b-3ebe-4e07-b773-ca6f39a1e07d",
   "metadata": {},
   "outputs": [],
   "source": [
    "screen_mean = df_train.screen.mean()"
   ]
  },
  {
   "cell_type": "code",
   "execution_count": 20,
   "id": "3687e14f-64ce-45a4-adb8-8c8617ed77ec",
   "metadata": {},
   "outputs": [],
   "source": [
    "X_train = prepare_X(df_train)\n",
    "X_train_mean = prepare_X(df_train, filler=screen_mean)"
   ]
  },
  {
   "cell_type": "code",
   "execution_count": 21,
   "id": "15e92fc6-6b23-42ce-8abd-71c171d5fef1",
   "metadata": {},
   "outputs": [
    {
     "data": {
      "text/plain": [
       "(676.8954853013648, array([ 43.70681555,   0.86506867, -36.10399833]))"
      ]
     },
     "execution_count": 21,
     "metadata": {},
     "output_type": "execute_result"
    }
   ],
   "source": [
    "w0, w = train_linear_regression(X_train, y_train)\n",
    "w0, w"
   ]
  },
  {
   "cell_type": "code",
   "execution_count": 22,
   "id": "caaddbe2-820a-4d78-a283-983bc16b0a0c",
   "metadata": {},
   "outputs": [
    {
     "data": {
      "text/plain": [
       "(808.9159907349447, array([ 43.90774584,   0.87135236, -45.18273312]))"
      ]
     },
     "execution_count": 22,
     "metadata": {},
     "output_type": "execute_result"
    }
   ],
   "source": [
    "w0_mean, w_mean = train_linear_regression(X_train_mean, y_train)\n",
    "w0_mean, w_mean"
   ]
  },
  {
   "cell_type": "code",
   "execution_count": 23,
   "id": "772591e1-4840-4a52-b918-a67811d66d08",
   "metadata": {},
   "outputs": [],
   "source": [
    "def rmse(y_pred, y_val):\n",
    "    se = (y_pred - y_val) ** 2\n",
    "    mse = se.mean()\n",
    "    rmse = np.sqrt(mse)\n",
    "\n",
    "    return rmse"
   ]
  },
  {
   "cell_type": "code",
   "execution_count": 24,
   "id": "63570a39-619d-46ae-874b-e64acfab1405",
   "metadata": {},
   "outputs": [],
   "source": [
    "X_val = df_val.values"
   ]
  },
  {
   "cell_type": "code",
   "execution_count": 25,
   "id": "9920cb17-ad5a-4753-80be-871b2a2048a9",
   "metadata": {},
   "outputs": [],
   "source": [
    "y_pred = w0 + X_val.dot(w)\n",
    "y_pred_mean = w0_mean + X_val.dot(w_mean)"
   ]
  },
  {
   "cell_type": "code",
   "execution_count": 26,
   "id": "170190c7-ac92-4ab4-9a11-29332e2a6f38",
   "metadata": {},
   "outputs": [
    {
     "data": {
      "text/plain": [
       "(596.96, 597.71)"
      ]
     },
     "execution_count": 26,
     "metadata": {},
     "output_type": "execute_result"
    }
   ],
   "source": [
    "rmse(y_pred, y_val).round(2), rmse(y_pred_mean, y_val).round(2)"
   ]
  },
  {
   "cell_type": "markdown",
   "id": "90378de6-5e9f-4c83-8a0a-88de8803dcaf",
   "metadata": {},
   "source": [
    "Mean imputation is better"
   ]
  },
  {
   "cell_type": "markdown",
   "id": "de5a376d-9701-4bac-9971-35934f0a7a08",
   "metadata": {},
   "source": [
    "### Question 4"
   ]
  },
  {
   "cell_type": "code",
   "execution_count": 27,
   "id": "820f59fc-17e8-414d-a12f-4e15a03f0835",
   "metadata": {},
   "outputs": [],
   "source": [
    "def prepare_X(df):\n",
    "    df = df.copy()\n",
    "    df = df.fillna(0)\n",
    "    X = df.values\n",
    "\n",
    "    return X"
   ]
  },
  {
   "cell_type": "code",
   "execution_count": 28,
   "id": "b8b13505-88db-43c4-9fec-261ccdc60d3f",
   "metadata": {},
   "outputs": [],
   "source": [
    "def train_linear_regression_reg(X, y, r=0.001):\n",
    "    ones = np.ones(len(X))\n",
    "    X = np.column_stack( (ones, X) )\n",
    "\n",
    "    XTX = X.T.dot(X)\n",
    "    XTX = XTX + r * np.eye(len(XTX))\n",
    "    \n",
    "    XTX_inv = np.linalg.inv(XTX)\n",
    "\n",
    "    w_full = XTX_inv.dot(X.T).dot(y)\n",
    "\n",
    "    return w_full[0], w_full[1:]"
   ]
  },
  {
   "cell_type": "code",
   "execution_count": 29,
   "id": "560df535-a73b-4f8c-8816-2820472de044",
   "metadata": {},
   "outputs": [],
   "source": [
    "X_train = prepare_X(df_train)\n",
    "X_val = prepare_X(df_val)"
   ]
  },
  {
   "cell_type": "code",
   "execution_count": 30,
   "id": "14825241-83c4-42cf-b5ae-9b67d84772cc",
   "metadata": {},
   "outputs": [
    {
     "name": "stdout",
     "output_type": "stream",
     "text": [
      "0 - 597.36\n",
      "0.01 - 597.36\n",
      "0.1 - 597.35\n",
      "1 - 597.21\n",
      "5 - 597.01\n",
      "10 - 597.06\n",
      "100 - 597.9\n"
     ]
    }
   ],
   "source": [
    "rs = [0, 0.01, 0.1, 1, 5, 10, 100]\n",
    "for r in rs:\n",
    "    w0, w = train_linear_regression_reg(X_train, y_train, r)\n",
    "    y_pred = w0 + X_val.dot(w)\n",
    "    score = rmse(y_pred, y_val).round(2)\n",
    "    print(r, '-', score)"
   ]
  },
  {
   "cell_type": "markdown",
   "id": "61be2679-eb74-4df9-9d42-dee289f5e5e6",
   "metadata": {},
   "source": [
    "The smallest r with best rmse is 0.01 "
   ]
  },
  {
   "cell_type": "markdown",
   "id": "799ba405-d6c9-46c1-9736-8c389f6b9624",
   "metadata": {},
   "source": [
    "### Question 5"
   ]
  },
  {
   "cell_type": "code",
   "execution_count": 31,
   "id": "f280ae78-336f-4f04-9266-b84a1c6c85ee",
   "metadata": {},
   "outputs": [],
   "source": [
    "seeds = [0, 1, 2, 3, 4, 5, 6, 7, 8, 9]\n",
    "scores = [ ]"
   ]
  },
  {
   "cell_type": "code",
   "execution_count": 32,
   "id": "af90b537-f2ef-431c-a5a3-f3df1436b222",
   "metadata": {},
   "outputs": [
    {
     "name": "stdout",
     "output_type": "stream",
     "text": [
      "0 565.4520868770968\n",
      "1 636.7985423056709\n",
      "2 588.9558697907987\n",
      "3 597.8148920012554\n",
      "4 571.9627915111051\n",
      "5 573.2383256618954\n",
      "6 647.3438328407344\n",
      "7 550.4398184485837\n",
      "8 587.3335036169901\n",
      "9 576.1017929433068\n"
     ]
    }
   ],
   "source": [
    "for s in seeds:\n",
    "    idx = np.arange(n)\n",
    "    np.random.seed(s)\n",
    "    np.random.shuffle(idx)\n",
    "\n",
    "    df_train = df.iloc[idx[:n_train]]\n",
    "    df_val = df.iloc[idx[n_train:n_train + n_val]]\n",
    "    df_test = df.iloc[idx[n_train + n_val:]]\n",
    "    \n",
    "    y_train = df_train.final_price\n",
    "    y_val = df_val.final_price\n",
    "    y_test = df_test.final_price\n",
    "    \n",
    "    # y_train = np.log1p(y_train)\n",
    "    # y_val = np.log1p(y_val)\n",
    "    # y_test = np.log1p(y_test)\n",
    "    \n",
    "    del df_train['final_price']\n",
    "    del df_val['final_price']\n",
    "    del df_test['final_price']\n",
    "\n",
    "    X_train = prepare_X(df_train)\n",
    "    w0, w = train_linear_regression(X_train, y_train)\n",
    "\n",
    "    X_val = prepare_X(df_val)\n",
    "    y_pred = w0 + X_val.dot(w)\n",
    "\n",
    "    score = rmse(y_pred, y_val)\n",
    "    scores.append(score)\n",
    "\n",
    "    print(s, score)"
   ]
  },
  {
   "cell_type": "code",
   "execution_count": 33,
   "id": "0601977e-c80b-4fa9-a3ea-6f39dcb79042",
   "metadata": {},
   "outputs": [],
   "source": [
    "std = np.std(scores)"
   ]
  },
  {
   "cell_type": "code",
   "execution_count": 34,
   "id": "d2eedb2e-7cc8-4d1d-bf4d-fae27bf9102c",
   "metadata": {},
   "outputs": [
    {
     "data": {
      "text/plain": [
       "29.176"
      ]
     },
     "execution_count": 34,
     "metadata": {},
     "output_type": "execute_result"
    }
   ],
   "source": [
    "round(std, 3)"
   ]
  },
  {
   "cell_type": "code",
   "execution_count": 35,
   "id": "e7882484-f709-4cb3-8124-0847846fdf11",
   "metadata": {},
   "outputs": [
    {
     "data": {
      "text/plain": [
       "58.95441455997437"
      ]
     },
     "execution_count": 35,
     "metadata": {},
     "output_type": "execute_result"
    }
   ],
   "source": [
    "rmse_mean = np.array(scores).mean() * 0.1\n",
    "rmse_mean"
   ]
  },
  {
   "cell_type": "code",
   "execution_count": 36,
   "id": "fb2fd948-af68-402c-9c21-e77ea6fd23ce",
   "metadata": {},
   "outputs": [
    {
     "data": {
      "text/plain": [
       "0.4948991772043806"
      ]
     },
     "execution_count": 36,
     "metadata": {},
     "output_type": "execute_result"
    }
   ],
   "source": [
    "std / rmse_mean"
   ]
  },
  {
   "cell_type": "markdown",
   "id": "c459b638-1e20-4529-a2b6-b701fe1d2350",
   "metadata": {},
   "source": [
    "By courtesy of ChatGPT, if the relative standard deviation(RSD) is greater than 10%, then the model is not stable.\n",
    "\n",
    "Since the RSD is approximately 49%, our model is not stable."
   ]
  },
  {
   "cell_type": "markdown",
   "id": "85860c55-f015-4e91-9671-ffcecd429e8f",
   "metadata": {},
   "source": [
    "### Question 6"
   ]
  },
  {
   "cell_type": "code",
   "execution_count": 37,
   "id": "43f5b44b-37a8-4a98-a02b-349bba7bd1ad",
   "metadata": {},
   "outputs": [],
   "source": [
    "n_full_train = n - n_test"
   ]
  },
  {
   "cell_type": "code",
   "execution_count": 38,
   "id": "fff3b7cf-4d5d-4409-951f-1870abaa2245",
   "metadata": {},
   "outputs": [],
   "source": [
    "idx = np.arange(n)"
   ]
  },
  {
   "cell_type": "code",
   "execution_count": 39,
   "id": "8a645ebd-1d03-41f1-a298-3c985f270216",
   "metadata": {},
   "outputs": [],
   "source": [
    "np.random.seed(9)\n",
    "np.random.shuffle(idx)"
   ]
  },
  {
   "cell_type": "code",
   "execution_count": 40,
   "id": "178c7aa1-67c5-4a8d-aab8-0c2e73b17979",
   "metadata": {},
   "outputs": [],
   "source": [
    "df_full_train = df.iloc[ idx[:n_full_train] ]\n",
    "df_test = df.iloc[ idx[n_full_train:] ]"
   ]
  },
  {
   "cell_type": "code",
   "execution_count": 41,
   "id": "f82dafab-1f15-46db-bdaf-f533f54c7bfa",
   "metadata": {},
   "outputs": [],
   "source": [
    "y_full_train = df_full_train.final_price\n",
    "y_test = df_test.final_price"
   ]
  },
  {
   "cell_type": "raw",
   "id": "377c86f9-45b2-45f6-8b92-c79e1f0182b2",
   "metadata": {},
   "source": [
    "y_full_train = np.log1p(y_full_train)\n",
    "y_test = np.log1p(y_test)"
   ]
  },
  {
   "cell_type": "code",
   "execution_count": 42,
   "id": "5be6e4f2-a64d-4450-8c67-88955b33f8e8",
   "metadata": {},
   "outputs": [],
   "source": [
    "del df_full_train['final_price']\n",
    "del df_test['final_price']"
   ]
  },
  {
   "cell_type": "code",
   "execution_count": 43,
   "id": "dfc8f51a-e40f-4947-8f80-6250c414460e",
   "metadata": {},
   "outputs": [],
   "source": [
    "X_full_train = prepare_X(df_full_train)\n",
    "w0, w = train_linear_regression_reg(X_full_train, y_full_train, r=0.001)"
   ]
  },
  {
   "cell_type": "code",
   "execution_count": 44,
   "id": "e6415d0c-3672-4b9d-b268-4d5c8c0cf7ed",
   "metadata": {},
   "outputs": [],
   "source": [
    "X_test = prepare_X(df_test)\n",
    "y_pred = w0 + X_test.dot(w)"
   ]
  },
  {
   "cell_type": "code",
   "execution_count": 45,
   "id": "86136d8a-ff32-4d60-9e51-b629cc1e0e2a",
   "metadata": {},
   "outputs": [
    {
     "data": {
      "text/plain": [
       "608.6099822049604"
      ]
     },
     "execution_count": 45,
     "metadata": {},
     "output_type": "execute_result"
    }
   ],
   "source": [
    "rmse(y_pred, y_test)"
   ]
  }
 ],
 "metadata": {
  "kernelspec": {
   "display_name": "Python 3 (ipykernel)",
   "language": "python",
   "name": "python3"
  },
  "language_info": {
   "codemirror_mode": {
    "name": "ipython",
    "version": 3
   },
   "file_extension": ".py",
   "mimetype": "text/x-python",
   "name": "python",
   "nbconvert_exporter": "python",
   "pygments_lexer": "ipython3",
   "version": "3.11.9"
  }
 },
 "nbformat": 4,
 "nbformat_minor": 5
}
