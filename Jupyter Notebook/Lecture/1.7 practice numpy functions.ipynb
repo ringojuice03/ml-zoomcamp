{
 "cells": [
  {
   "cell_type": "code",
   "execution_count": 1,
   "id": "14930582-af09-4d61-87cb-6e27b5a8241f",
   "metadata": {},
   "outputs": [],
   "source": [
    "import numpy as np"
   ]
  },
  {
   "cell_type": "markdown",
   "id": "5ba40b97-d34b-4bf4-ab25-29752b0f2c59",
   "metadata": {},
   "source": [
    "# Creating arrays"
   ]
  },
  {
   "cell_type": "markdown",
   "id": "75e03571-0912-4d50-96e3-1e5b00f046f9",
   "metadata": {},
   "source": [
    "Fill functions are: zeros, ones, full"
   ]
  },
  {
   "cell_type": "code",
   "execution_count": 11,
   "id": "f39db361-7624-4d43-b99e-e3fb9f8d3624",
   "metadata": {},
   "outputs": [
    {
     "data": {
      "text/plain": [
       "array([0., 0., 0.])"
      ]
     },
     "execution_count": 11,
     "metadata": {},
     "output_type": "execute_result"
    }
   ],
   "source": [
    "np.zeros(3)"
   ]
  },
  {
   "cell_type": "code",
   "execution_count": 27,
   "id": "05c637e3-3d7d-4c8d-9465-8d4a62457e7e",
   "metadata": {},
   "outputs": [
    {
     "data": {
      "text/plain": [
       "array([1., 1., 1., 1., 1.])"
      ]
     },
     "execution_count": 27,
     "metadata": {},
     "output_type": "execute_result"
    }
   ],
   "source": [
    "np.ones(5)"
   ]
  },
  {
   "cell_type": "code",
   "execution_count": 48,
   "id": "dec14943-5d5f-452e-99a3-19ccd7fa6958",
   "metadata": {},
   "outputs": [
    {
     "data": {
      "text/plain": [
       "array([10., 10., 10., 10., 10.])"
      ]
     },
     "execution_count": 48,
     "metadata": {},
     "output_type": "execute_result"
    }
   ],
   "source": [
    "np.full(5, 10.)"
   ]
  },
  {
   "cell_type": "code",
   "execution_count": null,
   "id": "6327e452-3384-4447-8b72-a5567de2f59b",
   "metadata": {},
   "outputs": [],
   "source": []
  },
  {
   "cell_type": "code",
   "execution_count": 88,
   "id": "23a4f8d7-9fb0-4ff4-9c3d-22f901c818c4",
   "metadata": {},
   "outputs": [
    {
     "data": {
      "text/plain": [
       "array([1., 2., 3., 4., 5.])"
      ]
     },
     "execution_count": 88,
     "metadata": {},
     "output_type": "execute_result"
    }
   ],
   "source": [
    "a = np.array((1., 2, 3, 4, 5))\n",
    "a"
   ]
  },
  {
   "cell_type": "code",
   "execution_count": 49,
   "id": "fd6355f3-8033-4362-8d4d-f98ba0370a50",
   "metadata": {},
   "outputs": [
    {
     "data": {
      "text/plain": [
       "4.4"
      ]
     },
     "execution_count": 49,
     "metadata": {},
     "output_type": "execute_result"
    }
   ],
   "source": [
    "a[0] = 4.4\n",
    "a[0]"
   ]
  },
  {
   "cell_type": "code",
   "execution_count": null,
   "id": "588dc083-f3a6-44a2-99ad-b893ade6a1e2",
   "metadata": {},
   "outputs": [],
   "source": []
  },
  {
   "cell_type": "markdown",
   "id": "62fc22bc-24fe-4c86-aff1-e6ddd2a9bcf3",
   "metadata": {},
   "source": [
    "arange req. param: start, end(excluded)"
   ]
  },
  {
   "cell_type": "code",
   "execution_count": 63,
   "id": "b77d47c4-afc2-4c0d-abaf-bd182f001e24",
   "metadata": {},
   "outputs": [
    {
     "data": {
      "text/plain": [
       "array([0, 1, 2, 3, 4, 5, 6, 7, 8, 9])"
      ]
     },
     "execution_count": 63,
     "metadata": {},
     "output_type": "execute_result"
    }
   ],
   "source": [
    "np.arange(0, 10)"
   ]
  },
  {
   "cell_type": "markdown",
   "id": "79f44f55-94b3-4659-8bda-7bb8eb34a66c",
   "metadata": {},
   "source": [
    "optional param: multiple "
   ]
  },
  {
   "cell_type": "code",
   "execution_count": 64,
   "id": "4bc91afb-6846-4aa9-bff9-10d67db40f74",
   "metadata": {},
   "outputs": [
    {
     "data": {
      "text/plain": [
       "array([0, 3, 6, 9])"
      ]
     },
     "execution_count": 64,
     "metadata": {},
     "output_type": "execute_result"
    }
   ],
   "source": [
    "np.arange(0, 10, 3)"
   ]
  },
  {
   "cell_type": "code",
   "execution_count": null,
   "id": "24734ddb-6063-4bdc-827a-c933e6165cb9",
   "metadata": {},
   "outputs": [],
   "source": []
  },
  {
   "cell_type": "code",
   "execution_count": 80,
   "id": "3b080692-e44e-4888-afd0-65838e949a3a",
   "metadata": {},
   "outputs": [
    {
     "data": {
      "text/plain": [
       "array([  0.,  10.,  20.,  30.,  40.,  50.,  60.,  70.,  80.,  90., 100.])"
      ]
     },
     "execution_count": 80,
     "metadata": {},
     "output_type": "execute_result"
    }
   ],
   "source": [
    "np.linspace(0, 100, 11)"
   ]
  },
  {
   "cell_type": "code",
   "execution_count": 72,
   "id": "979032c7-4609-477b-8f7a-9f46015685d7",
   "metadata": {},
   "outputs": [
    {
     "data": {
      "text/plain": [
       "array([ 66.,  67.,  68.,  69.,  70.,  71.,  72.,  73.,  74.,  75.,  76.,\n",
       "        77.,  78.,  79.,  80.,  81.,  82.,  83.,  84.,  85.,  86.,  87.,\n",
       "        88.,  89.,  90.,  91.,  92.,  93.,  94.,  95.,  96.,  97.,  98.,\n",
       "        99., 100.])"
      ]
     },
     "execution_count": 72,
     "metadata": {},
     "output_type": "execute_result"
    }
   ],
   "source": [
    "np.linspace(66, 100, 100 - 66 + 1)"
   ]
  },
  {
   "cell_type": "markdown",
   "id": "bc29b5f9-05ef-4002-a6dd-c352c97c07df",
   "metadata": {},
   "source": [
    "------------"
   ]
  },
  {
   "cell_type": "markdown",
   "id": "05b48492-0e7b-431d-8a91-eae3198e509b",
   "metadata": {},
   "source": [
    "# Multidimensional-array"
   ]
  },
  {
   "cell_type": "code",
   "execution_count": 81,
   "id": "5781f71d-6727-4355-b38e-fc67be858291",
   "metadata": {},
   "outputs": [
    {
     "data": {
      "text/plain": [
       "array([[0., 0.],\n",
       "       [0., 0.],\n",
       "       [0., 0.],\n",
       "       [0., 0.],\n",
       "       [0., 0.]])"
      ]
     },
     "execution_count": 81,
     "metadata": {},
     "output_type": "execute_result"
    }
   ],
   "source": [
    "np.zeros((5,2))"
   ]
  },
  {
   "cell_type": "code",
   "execution_count": 82,
   "id": "bea31a86-f78b-48fb-a409-7ca08906dd5f",
   "metadata": {},
   "outputs": [
    {
     "data": {
      "text/plain": [
       "array([[1., 1., 1.],\n",
       "       [1., 1., 1.],\n",
       "       [1., 1., 1.],\n",
       "       [1., 1., 1.],\n",
       "       [1., 1., 1.]])"
      ]
     },
     "execution_count": 82,
     "metadata": {},
     "output_type": "execute_result"
    }
   ],
   "source": [
    "np.ones((5,3))"
   ]
  },
  {
   "cell_type": "code",
   "execution_count": 86,
   "id": "0c85bb49-8642-435c-a065-335a8051d93b",
   "metadata": {},
   "outputs": [
    {
     "data": {
      "text/plain": [
       "array([[['minji', 'minji', 'minji'],\n",
       "        ['minji', 'minji', 'minji']],\n",
       "\n",
       "       [['minji', 'minji', 'minji'],\n",
       "        ['minji', 'minji', 'minji']],\n",
       "\n",
       "       [['minji', 'minji', 'minji'],\n",
       "        ['minji', 'minji', 'minji']],\n",
       "\n",
       "       [['minji', 'minji', 'minji'],\n",
       "        ['minji', 'minji', 'minji']],\n",
       "\n",
       "       [['minji', 'minji', 'minji'],\n",
       "        ['minji', 'minji', 'minji']]], dtype='<U5')"
      ]
     },
     "execution_count": 86,
     "metadata": {},
     "output_type": "execute_result"
    }
   ],
   "source": [
    "np.full((5, 2, 3), 'minji')"
   ]
  },
  {
   "cell_type": "code",
   "execution_count": null,
   "id": "bc9a597c-9101-4030-ae5b-b7edb9913e24",
   "metadata": {},
   "outputs": [],
   "source": []
  },
  {
   "cell_type": "code",
   "execution_count": 99,
   "id": "cd5c76c4-1cd5-4dce-bebf-45b1a82555e1",
   "metadata": {},
   "outputs": [
    {
     "data": {
      "text/plain": [
       "array([[1, 2, 3],\n",
       "       [4, 5, 6],\n",
       "       [7, 8, 9]])"
      ]
     },
     "execution_count": 99,
     "metadata": {},
     "output_type": "execute_result"
    }
   ],
   "source": [
    "a = np.array([\n",
    "    [1, 2, 3],\n",
    "    [4, 5, 6],\n",
    "    [7, 8, 9]\n",
    "])\n",
    "a"
   ]
  },
  {
   "cell_type": "code",
   "execution_count": 102,
   "id": "c22b52e1-1118-4572-84dc-1e4e281f8fef",
   "metadata": {},
   "outputs": [
    {
     "data": {
      "text/plain": [
       "6"
      ]
     },
     "execution_count": 102,
     "metadata": {},
     "output_type": "execute_result"
    }
   ],
   "source": [
    "a[(1, 2)]"
   ]
  },
  {
   "cell_type": "code",
   "execution_count": 108,
   "id": "205caff7-aa4b-4045-88f3-ff870330ec54",
   "metadata": {},
   "outputs": [
    {
     "data": {
      "text/plain": [
       "array([[1, 2, 3],\n",
       "       [4, 5, 6],\n",
       "       [0, 0, 0]])"
      ]
     },
     "execution_count": 108,
     "metadata": {},
     "output_type": "execute_result"
    }
   ],
   "source": [
    "a[2] = np.zeros(3)\n",
    "a"
   ]
  },
  {
   "cell_type": "code",
   "execution_count": 109,
   "id": "13c7277f-d80d-4518-9c62-b89e28f97d88",
   "metadata": {},
   "outputs": [
    {
     "data": {
      "text/plain": [
       "array([2, 5, 0])"
      ]
     },
     "execution_count": 109,
     "metadata": {},
     "output_type": "execute_result"
    }
   ],
   "source": [
    "a[:, 1]"
   ]
  },
  {
   "cell_type": "code",
   "execution_count": 110,
   "id": "ef661892-a830-4629-a4eb-8dec8f0fc779",
   "metadata": {},
   "outputs": [
    {
     "data": {
      "text/plain": [
       "array([[1, 2, 3],\n",
       "       [1, 5, 6],\n",
       "       [1, 0, 0]])"
      ]
     },
     "execution_count": 110,
     "metadata": {},
     "output_type": "execute_result"
    }
   ],
   "source": [
    "a[:, 0] = np.ones(3)\n",
    "a"
   ]
  },
  {
   "cell_type": "code",
   "execution_count": 111,
   "id": "7b5ba899-72bf-4ea6-838c-cc371befe9ee",
   "metadata": {},
   "outputs": [
    {
     "data": {
      "text/plain": [
       "array([['1', '2', '3'],\n",
       "       ['4', '5', '6'],\n",
       "       ['minji', 'minji', 'minji'],\n",
       "       ['0.0', '0.0', '0.0']], dtype='<U32')"
      ]
     },
     "execution_count": 111,
     "metadata": {},
     "output_type": "execute_result"
    }
   ],
   "source": [
    "np.array([\n",
    "    (1,2,3),\n",
    "    [4,5,6],\n",
    "    np.full(3, 'minji'),\n",
    "    np.zeros(3),\n",
    "])"
   ]
  },
  {
   "cell_type": "markdown",
   "id": "2743e6dd-a36b-4e80-9695-ca5af6c4c235",
   "metadata": {},
   "source": [
    "---"
   ]
  },
  {
   "cell_type": "markdown",
   "id": "5c2395ee-7615-45f5-b1fb-a9cb495f2755",
   "metadata": {},
   "source": [
    "# Randomly generated arrays"
   ]
  },
  {
   "cell_type": "markdown",
   "id": "10d3da94-e9db-4bfa-8fca-0f5b881a82eb",
   "metadata": {},
   "source": [
    "rand generates random numbers [0, 1)"
   ]
  },
  {
   "cell_type": "code",
   "execution_count": 141,
   "id": "ddced4b9-6773-42b4-9429-99d10fe65299",
   "metadata": {},
   "outputs": [
    {
     "data": {
      "text/plain": [
       "array([[1.12558531, 1.20724288],\n",
       "       [1.0514672 , 1.44080984],\n",
       "       [1.02987621, 1.45683322],\n",
       "       [1.64914405, 1.27848728]])"
      ]
     },
     "execution_count": 141,
     "metadata": {},
     "output_type": "execute_result"
    }
   ],
   "source": [
    "1 + np.random.rand(4, 2)"
   ]
  },
  {
   "cell_type": "code",
   "execution_count": null,
   "id": "900d6677-72c7-4bb8-a6e5-a5fabc6b79a1",
   "metadata": {},
   "outputs": [],
   "source": []
  },
  {
   "cell_type": "markdown",
   "id": "33184515-751f-4d3c-b00f-bfc118989d54",
   "metadata": {},
   "source": [
    "when a seed it set, the random numbers are not truly random"
   ]
  },
  {
   "cell_type": "code",
   "execution_count": 140,
   "id": "53289cf8-ed8c-452e-ac12-f39ce95be68b",
   "metadata": {},
   "outputs": [
    {
     "data": {
      "text/plain": [
       "array([[55.07979026, 70.81478226],\n",
       "       [29.09047389, 51.08276052],\n",
       "       [89.29469543, 89.62930889]])"
      ]
     },
     "execution_count": 140,
     "metadata": {},
     "output_type": "execute_result"
    }
   ],
   "source": [
    "np.random.seed(3)\n",
    "100 * np.random.rand(3, 2)"
   ]
  },
  {
   "cell_type": "code",
   "execution_count": 122,
   "id": "0a0ce6da-2a7d-476e-8ba5-5f97f61db574",
   "metadata": {},
   "outputs": [
    {
     "data": {
      "text/plain": [
       "array([[0.5507979 , 0.70814782],\n",
       "       [0.29090474, 0.51082761],\n",
       "       [0.89294695, 0.89629309]])"
      ]
     },
     "execution_count": 122,
     "metadata": {},
     "output_type": "execute_result"
    }
   ],
   "source": [
    "np.random.seed(3)\n",
    "np.random.rand(3, 2)"
   ]
  },
  {
   "cell_type": "code",
   "execution_count": null,
   "id": "bf687615-bd7c-402c-86d3-7cd0cafb9eb7",
   "metadata": {},
   "outputs": [],
   "source": []
  },
  {
   "cell_type": "code",
   "execution_count": 146,
   "id": "0297ab44-036d-4d8c-a145-3aade2d7969e",
   "metadata": {},
   "outputs": [
    {
     "data": {
      "text/plain": [
       "8"
      ]
     },
     "execution_count": 146,
     "metadata": {},
     "output_type": "execute_result"
    }
   ],
   "source": [
    "np.random.randint(5, 10) #[low, high)"
   ]
  },
  {
   "cell_type": "code",
   "execution_count": 147,
   "id": "46cb6f22-3387-413e-9e4a-dab6aa0d13d8",
   "metadata": {},
   "outputs": [
    {
     "data": {
      "text/plain": [
       "array([[7, 5],\n",
       "       [6, 7],\n",
       "       [5, 8]])"
      ]
     },
     "execution_count": 147,
     "metadata": {},
     "output_type": "execute_result"
    }
   ],
   "source": [
    "np.random.randint(5, 10, (3, 2)) #([low, high), dimension)"
   ]
  },
  {
   "cell_type": "markdown",
   "id": "9850e0a8-7e91-4ea0-98e2-4fcc342dffc6",
   "metadata": {},
   "source": [
    "---"
   ]
  },
  {
   "cell_type": "markdown",
   "id": "4239e31e-61c1-4301-8b6b-6690092e8315",
   "metadata": {},
   "source": [
    "# Element wise operations"
   ]
  },
  {
   "cell_type": "code",
   "execution_count": 169,
   "id": "7c740bdd-449f-4bc2-8a5c-69b65efe003a",
   "metadata": {},
   "outputs": [
    {
     "data": {
      "text/plain": [
       "array([ 1,  2,  3,  4,  5,  6,  7,  8,  9, 10])"
      ]
     },
     "execution_count": 169,
     "metadata": {},
     "output_type": "execute_result"
    }
   ],
   "source": [
    "a = np.arange(1, 11)\n",
    "a"
   ]
  },
  {
   "cell_type": "code",
   "execution_count": null,
   "id": "0cad80c5-8216-4a5d-90c4-40f05485b3fc",
   "metadata": {},
   "outputs": [],
   "source": []
  },
  {
   "cell_type": "markdown",
   "id": "c5c6dbb5-312e-42eb-a48a-64330ef91593",
   "metadata": {},
   "source": [
    "Matrix-element operations are applicable to python lists such as:"
   ]
  },
  {
   "cell_type": "markdown",
   "id": "752ad85b-bbb9-4175-bd8c-0a9446b540f7",
   "metadata": {},
   "source": [
    "Addition"
   ]
  },
  {
   "cell_type": "code",
   "execution_count": 170,
   "id": "a973b03f-d0ea-4c67-9ac0-5a0d5beea0e9",
   "metadata": {},
   "outputs": [
    {
     "data": {
      "text/plain": [
       "array([ 2,  3,  4,  5,  6,  7,  8,  9, 10, 11])"
      ]
     },
     "execution_count": 170,
     "metadata": {},
     "output_type": "execute_result"
    }
   ],
   "source": [
    "a = a + 1\n",
    "a"
   ]
  },
  {
   "cell_type": "code",
   "execution_count": null,
   "id": "42ce99ae-d94d-4e56-b904-d006822bb93f",
   "metadata": {},
   "outputs": [],
   "source": []
  },
  {
   "cell_type": "markdown",
   "id": "4359e2fd-e0ab-4828-b85d-3460fe327614",
   "metadata": {},
   "source": [
    "Scalar multiplication"
   ]
  },
  {
   "cell_type": "code",
   "execution_count": 171,
   "id": "d7d03d74-7eff-40da-94fe-eb9e5ed2d8c9",
   "metadata": {},
   "outputs": [
    {
     "data": {
      "text/plain": [
       "array([ 4,  6,  8, 10, 12, 14, 16, 18, 20, 22])"
      ]
     },
     "execution_count": 171,
     "metadata": {},
     "output_type": "execute_result"
    }
   ],
   "source": [
    "a = a * 2\n",
    "a"
   ]
  },
  {
   "cell_type": "code",
   "execution_count": null,
   "id": "9de4ae10-24b9-4d08-afc9-66189457f7c5",
   "metadata": {},
   "outputs": [],
   "source": []
  },
  {
   "cell_type": "markdown",
   "id": "5c7463b7-bce0-45d5-b603-7aba3b0a9646",
   "metadata": {},
   "source": [
    "Operation chaining is available too"
   ]
  },
  {
   "cell_type": "code",
   "execution_count": 175,
   "id": "b9c73147-1349-4791-9924-6986fb9496cb",
   "metadata": {},
   "outputs": [
    {
     "data": {
      "text/plain": [
       "array([-0.5,  0. ,  0.5,  1. ,  1.5,  2. ,  2.5,  3. ,  3.5,  4. ])"
      ]
     },
     "execution_count": 175,
     "metadata": {},
     "output_type": "execute_result"
    }
   ],
   "source": [
    "a = (a / 2) - 1\n",
    "a"
   ]
  },
  {
   "cell_type": "code",
   "execution_count": null,
   "id": "7049f73a-33fd-45e6-bd37-b6e9157003a1",
   "metadata": {},
   "outputs": [],
   "source": []
  },
  {
   "cell_type": "markdown",
   "id": "417db227-2236-4d22-b8b3-cb0e0c45b0ec",
   "metadata": {},
   "source": [
    "Matrix-matrix operations applies as well"
   ]
  },
  {
   "cell_type": "code",
   "execution_count": 180,
   "id": "c37bdfd8-616c-446a-b2cf-7c200598a044",
   "metadata": {},
   "outputs": [
    {
     "data": {
      "text/plain": [
       "array([[1, 2, 3],\n",
       "       [4, 5, 6],\n",
       "       [7, 8, 9]])"
      ]
     },
     "execution_count": 180,
     "metadata": {},
     "output_type": "execute_result"
    }
   ],
   "source": [
    "a = np.array([\n",
    "    [1, 2, 3],\n",
    "    [4, 5, 6],\n",
    "    [7, 8, 9]\n",
    "])\n",
    "a"
   ]
  },
  {
   "cell_type": "code",
   "execution_count": 183,
   "id": "4abc1f8d-68dd-4034-a89d-c79de3e72844",
   "metadata": {},
   "outputs": [
    {
     "data": {
      "text/plain": [
       "array([[ 2,  3,  4],\n",
       "       [ 5,  6,  7],\n",
       "       [ 8,  9, 10]])"
      ]
     },
     "execution_count": 183,
     "metadata": {},
     "output_type": "execute_result"
    }
   ],
   "source": [
    "b = a + 1\n",
    "b"
   ]
  },
  {
   "cell_type": "code",
   "execution_count": 184,
   "id": "bdcc991b-ee1e-48b5-9a46-cc6a33acf22b",
   "metadata": {},
   "outputs": [
    {
     "data": {
      "text/plain": [
       "array([[ 3,  5,  7],\n",
       "       [ 9, 11, 13],\n",
       "       [15, 17, 19]])"
      ]
     },
     "execution_count": 184,
     "metadata": {},
     "output_type": "execute_result"
    }
   ],
   "source": [
    "b + a"
   ]
  },
  {
   "cell_type": "code",
   "execution_count": null,
   "id": "83211159-75a4-4f32-8be6-b3d6ba967c18",
   "metadata": {},
   "outputs": [],
   "source": []
  },
  {
   "cell_type": "code",
   "execution_count": 189,
   "id": "f1560f0b-8b32-4b2f-a272-73b9b5b7b667",
   "metadata": {},
   "outputs": [
    {
     "data": {
      "text/plain": [
       "array([[4, 5, 6],\n",
       "       [7, 8, 9]])"
      ]
     },
     "execution_count": 189,
     "metadata": {},
     "output_type": "execute_result"
    }
   ],
   "source": [
    "b = np.array([\n",
    "    [4, 5, 6],\n",
    "    [7, 8, 9]\n",
    "])\n",
    "b"
   ]
  },
  {
   "cell_type": "code",
   "execution_count": null,
   "id": "4a081daa-5a65-4e83-9069-5206cc5693de",
   "metadata": {},
   "outputs": [],
   "source": []
  },
  {
   "cell_type": "markdown",
   "id": "a8f28c01-48c4-47c3-a9e1-4993436a9c05",
   "metadata": {},
   "source": [
    "Matrices should have the same dimension, when applying any operations"
   ]
  },
  {
   "cell_type": "code",
   "execution_count": 194,
   "id": "1597e7a4-c2ae-4d99-b759-0b2dd4f7c640",
   "metadata": {},
   "outputs": [
    {
     "ename": "ValueError",
     "evalue": "operands could not be broadcast together with shapes (3,3) (2,3) ",
     "output_type": "error",
     "traceback": [
      "\u001b[1;31m---------------------------------------------------------------------------\u001b[0m",
      "\u001b[1;31mValueError\u001b[0m                                Traceback (most recent call last)",
      "Cell \u001b[1;32mIn[194], line 1\u001b[0m\n\u001b[1;32m----> 1\u001b[0m a \u001b[38;5;241m+\u001b[39m b\n",
      "\u001b[1;31mValueError\u001b[0m: operands could not be broadcast together with shapes (3,3) (2,3) "
     ]
    }
   ],
   "source": [
    "a + b"
   ]
  },
  {
   "cell_type": "markdown",
   "id": "67e2a563-bf20-47ff-9fc9-c7dbafc9a921",
   "metadata": {},
   "source": [
    "---"
   ]
  },
  {
   "cell_type": "markdown",
   "id": "69662a7a-6fa9-4178-82a4-4692d05ce1a9",
   "metadata": {},
   "source": [
    "# Comparison operations"
   ]
  },
  {
   "cell_type": "code",
   "execution_count": 197,
   "id": "88390ff9-0399-490d-a827-c4bdae4f6ef9",
   "metadata": {},
   "outputs": [
    {
     "data": {
      "text/plain": [
       "array([1, 2, 3, 4, 5])"
      ]
     },
     "execution_count": 197,
     "metadata": {},
     "output_type": "execute_result"
    }
   ],
   "source": [
    "a = np.arange(1, 6)\n",
    "a"
   ]
  },
  {
   "cell_type": "markdown",
   "id": "045daf98-f12f-4a18-8bb2-55efd387ce9e",
   "metadata": {},
   "source": []
  },
  {
   "cell_type": "markdown",
   "id": "f2faa76c-0961-4abc-acb0-c32f9aef2bdd",
   "metadata": {},
   "source": [
    "Returns a boolean array, if no list name and brackets"
   ]
  },
  {
   "cell_type": "code",
   "execution_count": 198,
   "id": "4144e5f8-993a-49b9-bbfe-98282e76db6e",
   "metadata": {},
   "outputs": [
    {
     "data": {
      "text/plain": [
       "array([False, False,  True,  True,  True])"
      ]
     },
     "execution_count": 198,
     "metadata": {},
     "output_type": "execute_result"
    }
   ],
   "source": [
    "a >= 3"
   ]
  },
  {
   "cell_type": "code",
   "execution_count": null,
   "id": "7f72e827-33b7-41c3-a8f7-81a8dd8f24ca",
   "metadata": {},
   "outputs": [],
   "source": []
  },
  {
   "cell_type": "markdown",
   "id": "041c4561-ee7e-4c56-a971-657c5e3f93a7",
   "metadata": {},
   "source": [
    "Returns the elements array satisfying the condition, if list name and brackets"
   ]
  },
  {
   "cell_type": "code",
   "execution_count": 201,
   "id": "e051eb77-e531-43c5-bb95-3145ceeb5319",
   "metadata": {},
   "outputs": [
    {
     "data": {
      "text/plain": [
       "array([3, 4, 5])"
      ]
     },
     "execution_count": 201,
     "metadata": {},
     "output_type": "execute_result"
    }
   ],
   "source": [
    "a[a >= 3] # elements that satisfy the condition"
   ]
  },
  {
   "cell_type": "code",
   "execution_count": null,
   "id": "55630e82-6c80-4a50-925d-9e6aa7f0840a",
   "metadata": {},
   "outputs": [],
   "source": []
  },
  {
   "cell_type": "code",
   "execution_count": 205,
   "id": "297d910f-73ab-4c16-a04e-ecd17ba493e0",
   "metadata": {},
   "outputs": [
    {
     "data": {
      "text/plain": [
       "array([2, 5, 8])"
      ]
     },
     "execution_count": 205,
     "metadata": {},
     "output_type": "execute_result"
    }
   ],
   "source": [
    "a = np.array([\n",
    "    [1, 2, 3],\n",
    "    [4, 5, 6],\n",
    "    [7, 8, 9]\n",
    "])\n",
    "a[:, 1]"
   ]
  },
  {
   "cell_type": "code",
   "execution_count": 214,
   "id": "584e4ac5-f475-4355-b530-6b7512e43d78",
   "metadata": {},
   "outputs": [
    {
     "data": {
      "text/plain": [
       "array([2, 5, 8])"
      ]
     },
     "execution_count": 214,
     "metadata": {},
     "output_type": "execute_result"
    }
   ],
   "source": [
    "a[:, 1]"
   ]
  },
  {
   "cell_type": "code",
   "execution_count": null,
   "id": "d89837fb-a625-41e7-83f7-3ff15dd7bc2a",
   "metadata": {},
   "outputs": [],
   "source": []
  },
  {
   "cell_type": "markdown",
   "id": "1478823e-7abc-444f-9c5f-37b3827144f9",
   "metadata": {},
   "source": [
    "From column 1 of all rows, return the evens"
   ]
  },
  {
   "cell_type": "code",
   "execution_count": 223,
   "id": "e5089bf2-ae0d-4227-9cf7-3b9cfe2f7c88",
   "metadata": {},
   "outputs": [
    {
     "data": {
      "text/plain": [
       "array([2, 8])"
      ]
     },
     "execution_count": 223,
     "metadata": {},
     "output_type": "execute_result"
    }
   ],
   "source": [
    "a[:, 1][a[:, 1] % 2 == 0]"
   ]
  },
  {
   "cell_type": "markdown",
   "id": "03f83f9a-e183-49e0-abc7-0c69ca396972",
   "metadata": {},
   "source": [
    "Explanation:"
   ]
  },
  {
   "cell_type": "code",
   "execution_count": 224,
   "id": "2b3069e8-f9f2-4661-9ada-98f79465e335",
   "metadata": {},
   "outputs": [
    {
     "data": {
      "text/plain": [
       "array([2, 5, 8])"
      ]
     },
     "execution_count": 224,
     "metadata": {},
     "output_type": "execute_result"
    }
   ],
   "source": [
    "a[:, 1]"
   ]
  },
  {
   "cell_type": "code",
   "execution_count": 225,
   "id": "80bd9823-f90b-4649-b7c9-a6cb85f5727e",
   "metadata": {},
   "outputs": [
    {
     "data": {
      "text/plain": [
       "array([ True, False,  True])"
      ]
     },
     "execution_count": 225,
     "metadata": {},
     "output_type": "execute_result"
    }
   ],
   "source": [
    "a[:, 1] % 2 == 0"
   ]
  },
  {
   "cell_type": "markdown",
   "id": "acccdc7d-e735-48d3-bc9d-7d0f3cfe944a",
   "metadata": {},
   "source": [
    "[2, 4, 5][True, False, True] displays the indexes with the corresponding true values"
   ]
  },
  {
   "cell_type": "markdown",
   "id": "fc9ce912-a857-4b26-b5d6-8029feda86f4",
   "metadata": {},
   "source": [
    "An easier way is:"
   ]
  },
  {
   "cell_type": "code",
   "execution_count": 228,
   "id": "45811ed4-dd11-453a-8380-af6a94265b35",
   "metadata": {},
   "outputs": [
    {
     "data": {
      "text/plain": [
       "array([2, 8])"
      ]
     },
     "execution_count": 228,
     "metadata": {},
     "output_type": "execute_result"
    }
   ],
   "source": [
    "row_1 = a[:, 1]\n",
    "even = row_1[row_1 % 2 == 0]\n",
    "even"
   ]
  },
  {
   "cell_type": "code",
   "execution_count": null,
   "id": "59c44ae5-258a-40e8-9ece-9f1088ad42f3",
   "metadata": {},
   "outputs": [],
   "source": []
  },
  {
   "cell_type": "code",
   "execution_count": 239,
   "id": "b938a6b6-321c-453c-9e83-0471df7a6403",
   "metadata": {},
   "outputs": [
    {
     "data": {
      "text/plain": [
       "array([5, 3, 9])"
      ]
     },
     "execution_count": 239,
     "metadata": {},
     "output_type": "execute_result"
    }
   ],
   "source": [
    "a = np.array((5, 3, 9))\n",
    "a"
   ]
  },
  {
   "cell_type": "code",
   "execution_count": 241,
   "id": "995fca25-f9ba-4d2e-bfbd-5b6629cab015",
   "metadata": {},
   "outputs": [
    {
     "data": {
      "text/plain": [
       "array([2, 5, 8])"
      ]
     },
     "execution_count": 241,
     "metadata": {},
     "output_type": "execute_result"
    }
   ],
   "source": [
    "b = np.array([2, 5, 8])\n",
    "b"
   ]
  },
  {
   "cell_type": "code",
   "execution_count": 242,
   "id": "1f4de0ab-9842-44ab-8938-bef7d9e8ec71",
   "metadata": {},
   "outputs": [
    {
     "data": {
      "text/plain": [
       "array([ True, False,  True])"
      ]
     },
     "execution_count": 242,
     "metadata": {},
     "output_type": "execute_result"
    }
   ],
   "source": [
    "a > b"
   ]
  },
  {
   "cell_type": "code",
   "execution_count": 243,
   "id": "94997d45-065d-4002-8599-44b6f63dfa9b",
   "metadata": {},
   "outputs": [
    {
     "data": {
      "text/plain": [
       "array([5, 9])"
      ]
     },
     "execution_count": 243,
     "metadata": {},
     "output_type": "execute_result"
    }
   ],
   "source": [
    "a[a > b]"
   ]
  },
  {
   "cell_type": "markdown",
   "id": "2d8572d2-8eac-4bf1-808d-b3cd9e4cef7c",
   "metadata": {},
   "source": [
    "---"
   ]
  },
  {
   "cell_type": "markdown",
   "id": "37aca96f-aa9d-4b0a-bf34-d7eafa0ce48d",
   "metadata": {},
   "source": [
    "# Summarizing Operations"
   ]
  },
  {
   "cell_type": "markdown",
   "id": "327eb8a0-0684-4e69-ba2a-03911645737e",
   "metadata": {},
   "source": [
    "max, min, std, mean"
   ]
  },
  {
   "cell_type": "code",
   "execution_count": 247,
   "id": "7f6c501c-6bc2-4322-8302-bab7b50c46c1",
   "metadata": {},
   "outputs": [
    {
     "data": {
      "text/plain": [
       "array([[1, 2, 3],\n",
       "       [4, 5, 6],\n",
       "       [7, 8, 9]])"
      ]
     },
     "execution_count": 247,
     "metadata": {},
     "output_type": "execute_result"
    }
   ],
   "source": [
    "a = np.array([\n",
    "    [1, 2, 3],\n",
    "    [4, 5, 6],\n",
    "    [7, 8, 9]\n",
    "])\n",
    "a"
   ]
  },
  {
   "cell_type": "code",
   "execution_count": null,
   "id": "ac397cb3-26f6-462a-8ee4-e1eeece3ce31",
   "metadata": {},
   "outputs": [],
   "source": []
  },
  {
   "cell_type": "markdown",
   "id": "743fa87d-8c9a-4675-9ad0-4a5a05fc4bbe",
   "metadata": {},
   "source": [
    "Get the max of 3rd column"
   ]
  },
  {
   "cell_type": "code",
   "execution_count": 248,
   "id": "78910bb4-2784-48c8-892a-1fbe3f396e47",
   "metadata": {},
   "outputs": [
    {
     "data": {
      "text/plain": [
       "9"
      ]
     },
     "execution_count": 248,
     "metadata": {},
     "output_type": "execute_result"
    }
   ],
   "source": [
    "a[:, 2].max()"
   ]
  }
 ],
 "metadata": {
  "kernelspec": {
   "display_name": "Python 3 (ipykernel)",
   "language": "python",
   "name": "python3"
  },
  "language_info": {
   "codemirror_mode": {
    "name": "ipython",
    "version": 3
   },
   "file_extension": ".py",
   "mimetype": "text/x-python",
   "name": "python",
   "nbconvert_exporter": "python",
   "pygments_lexer": "ipython3",
   "version": "3.11.9"
  }
 },
 "nbformat": 4,
 "nbformat_minor": 5
}
