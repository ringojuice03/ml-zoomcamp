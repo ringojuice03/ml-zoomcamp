{
 "cells": [
  {
   "cell_type": "markdown",
   "id": "0b987fc6-44a2-4a3e-8b42-37e3f590fff8",
   "metadata": {},
   "source": [
    "# Machine Learning for Regression"
   ]
  },
  {
   "cell_type": "raw",
   "id": "5c79e7cf-d096-46e0-adb5-87da2ed42d0a",
   "metadata": {},
   "source": [
    "Summary:\n",
    "Downloaded dataset in csv using a url\n",
    "Data preparation here means making the data uniform, in terms of casing and spacing(_)\n",
    "Use dtype to determine data type\n",
    "\n",
    "Syntax:\n",
    "data = wget.download($url)\n",
    "array_name.dtype"
   ]
  },
  {
   "cell_type": "code",
   "execution_count": 1,
   "id": "b588dded-737e-403e-9a0f-3281886a0a28",
   "metadata": {},
   "outputs": [],
   "source": [
    "import numpy as np\n",
    "import pandas as pd\n",
    "import wget"
   ]
  },
  {
   "cell_type": "markdown",
   "id": "f1db510f-1994-4407-92db-b176037457ba",
   "metadata": {},
   "source": [
    "## 2.2 Data Preparation"
   ]
  },
  {
   "cell_type": "raw",
   "id": "c6956cc5-a44c-4c98-b3da-31ee40f37350",
   "metadata": {},
   "source": [
    "url = 'https://raw.githubusercontent.com/alexeygrigorev/mlbookcamp-code/refs/heads/master/chapter-02-car-price/data.csv'"
   ]
  },
  {
   "cell_type": "raw",
   "id": "7e4093ec-9811-433a-8354-66d546c8037a",
   "metadata": {},
   "source": [
    "data = wget.download(url)"
   ]
  },
  {
   "cell_type": "code",
   "execution_count": 2,
   "id": "160746f0-9940-4547-8b7a-de1a1f214e94",
   "metadata": {},
   "outputs": [],
   "source": [
    "df = pd.read_csv('data.csv')"
   ]
  },
  {
   "cell_type": "code",
   "execution_count": 3,
   "id": "f22e9976-438a-47be-a1b2-6baebe389fad",
   "metadata": {},
   "outputs": [
    {
     "data": {
      "text/html": [
       "<div>\n",
       "<style scoped>\n",
       "    .dataframe tbody tr th:only-of-type {\n",
       "        vertical-align: middle;\n",
       "    }\n",
       "\n",
       "    .dataframe tbody tr th {\n",
       "        vertical-align: top;\n",
       "    }\n",
       "\n",
       "    .dataframe thead th {\n",
       "        text-align: right;\n",
       "    }\n",
       "</style>\n",
       "<table border=\"1\" class=\"dataframe\">\n",
       "  <thead>\n",
       "    <tr style=\"text-align: right;\">\n",
       "      <th></th>\n",
       "      <th>Make</th>\n",
       "      <th>Model</th>\n",
       "      <th>Year</th>\n",
       "      <th>Engine Fuel Type</th>\n",
       "      <th>Engine HP</th>\n",
       "      <th>Engine Cylinders</th>\n",
       "      <th>Transmission Type</th>\n",
       "      <th>Driven_Wheels</th>\n",
       "      <th>Number of Doors</th>\n",
       "      <th>Market Category</th>\n",
       "      <th>Vehicle Size</th>\n",
       "      <th>Vehicle Style</th>\n",
       "      <th>highway MPG</th>\n",
       "      <th>city mpg</th>\n",
       "      <th>Popularity</th>\n",
       "      <th>MSRP</th>\n",
       "    </tr>\n",
       "  </thead>\n",
       "  <tbody>\n",
       "    <tr>\n",
       "      <th>0</th>\n",
       "      <td>BMW</td>\n",
       "      <td>1 Series M</td>\n",
       "      <td>2011</td>\n",
       "      <td>premium unleaded (required)</td>\n",
       "      <td>335.0</td>\n",
       "      <td>6.0</td>\n",
       "      <td>MANUAL</td>\n",
       "      <td>rear wheel drive</td>\n",
       "      <td>2.0</td>\n",
       "      <td>Factory Tuner,Luxury,High-Performance</td>\n",
       "      <td>Compact</td>\n",
       "      <td>Coupe</td>\n",
       "      <td>26</td>\n",
       "      <td>19</td>\n",
       "      <td>3916</td>\n",
       "      <td>46135</td>\n",
       "    </tr>\n",
       "    <tr>\n",
       "      <th>1</th>\n",
       "      <td>BMW</td>\n",
       "      <td>1 Series</td>\n",
       "      <td>2011</td>\n",
       "      <td>premium unleaded (required)</td>\n",
       "      <td>300.0</td>\n",
       "      <td>6.0</td>\n",
       "      <td>MANUAL</td>\n",
       "      <td>rear wheel drive</td>\n",
       "      <td>2.0</td>\n",
       "      <td>Luxury,Performance</td>\n",
       "      <td>Compact</td>\n",
       "      <td>Convertible</td>\n",
       "      <td>28</td>\n",
       "      <td>19</td>\n",
       "      <td>3916</td>\n",
       "      <td>40650</td>\n",
       "    </tr>\n",
       "    <tr>\n",
       "      <th>2</th>\n",
       "      <td>BMW</td>\n",
       "      <td>1 Series</td>\n",
       "      <td>2011</td>\n",
       "      <td>premium unleaded (required)</td>\n",
       "      <td>300.0</td>\n",
       "      <td>6.0</td>\n",
       "      <td>MANUAL</td>\n",
       "      <td>rear wheel drive</td>\n",
       "      <td>2.0</td>\n",
       "      <td>Luxury,High-Performance</td>\n",
       "      <td>Compact</td>\n",
       "      <td>Coupe</td>\n",
       "      <td>28</td>\n",
       "      <td>20</td>\n",
       "      <td>3916</td>\n",
       "      <td>36350</td>\n",
       "    </tr>\n",
       "    <tr>\n",
       "      <th>3</th>\n",
       "      <td>BMW</td>\n",
       "      <td>1 Series</td>\n",
       "      <td>2011</td>\n",
       "      <td>premium unleaded (required)</td>\n",
       "      <td>230.0</td>\n",
       "      <td>6.0</td>\n",
       "      <td>MANUAL</td>\n",
       "      <td>rear wheel drive</td>\n",
       "      <td>2.0</td>\n",
       "      <td>Luxury,Performance</td>\n",
       "      <td>Compact</td>\n",
       "      <td>Coupe</td>\n",
       "      <td>28</td>\n",
       "      <td>18</td>\n",
       "      <td>3916</td>\n",
       "      <td>29450</td>\n",
       "    </tr>\n",
       "    <tr>\n",
       "      <th>4</th>\n",
       "      <td>BMW</td>\n",
       "      <td>1 Series</td>\n",
       "      <td>2011</td>\n",
       "      <td>premium unleaded (required)</td>\n",
       "      <td>230.0</td>\n",
       "      <td>6.0</td>\n",
       "      <td>MANUAL</td>\n",
       "      <td>rear wheel drive</td>\n",
       "      <td>2.0</td>\n",
       "      <td>Luxury</td>\n",
       "      <td>Compact</td>\n",
       "      <td>Convertible</td>\n",
       "      <td>28</td>\n",
       "      <td>18</td>\n",
       "      <td>3916</td>\n",
       "      <td>34500</td>\n",
       "    </tr>\n",
       "  </tbody>\n",
       "</table>\n",
       "</div>"
      ],
      "text/plain": [
       "  Make       Model  Year             Engine Fuel Type  Engine HP  \\\n",
       "0  BMW  1 Series M  2011  premium unleaded (required)      335.0   \n",
       "1  BMW    1 Series  2011  premium unleaded (required)      300.0   \n",
       "2  BMW    1 Series  2011  premium unleaded (required)      300.0   \n",
       "3  BMW    1 Series  2011  premium unleaded (required)      230.0   \n",
       "4  BMW    1 Series  2011  premium unleaded (required)      230.0   \n",
       "\n",
       "   Engine Cylinders Transmission Type     Driven_Wheels  Number of Doors  \\\n",
       "0               6.0            MANUAL  rear wheel drive              2.0   \n",
       "1               6.0            MANUAL  rear wheel drive              2.0   \n",
       "2               6.0            MANUAL  rear wheel drive              2.0   \n",
       "3               6.0            MANUAL  rear wheel drive              2.0   \n",
       "4               6.0            MANUAL  rear wheel drive              2.0   \n",
       "\n",
       "                         Market Category Vehicle Size Vehicle Style  \\\n",
       "0  Factory Tuner,Luxury,High-Performance      Compact         Coupe   \n",
       "1                     Luxury,Performance      Compact   Convertible   \n",
       "2                Luxury,High-Performance      Compact         Coupe   \n",
       "3                     Luxury,Performance      Compact         Coupe   \n",
       "4                                 Luxury      Compact   Convertible   \n",
       "\n",
       "   highway MPG  city mpg  Popularity   MSRP  \n",
       "0           26        19        3916  46135  \n",
       "1           28        19        3916  40650  \n",
       "2           28        20        3916  36350  \n",
       "3           28        18        3916  29450  \n",
       "4           28        18        3916  34500  "
      ]
     },
     "execution_count": 3,
     "metadata": {},
     "output_type": "execute_result"
    }
   ],
   "source": [
    "df.head()"
   ]
  },
  {
   "cell_type": "code",
   "execution_count": null,
   "id": "96ae0dc2-21f1-4034-ac9c-847a0f3f0b6b",
   "metadata": {},
   "outputs": [],
   "source": []
  },
  {
   "cell_type": "markdown",
   "id": "e8ab1bbf-b959-4496-80d7-908ff32497ca",
   "metadata": {},
   "source": [
    "Make the headers consistent: (lower caps and underscores)"
   ]
  },
  {
   "cell_type": "code",
   "execution_count": 4,
   "id": "37a2aa68-1e47-4cca-a7a9-95f0a43e40c6",
   "metadata": {},
   "outputs": [
    {
     "data": {
      "text/plain": [
       "Index(['Make', 'Model', 'Year', 'Engine Fuel Type', 'Engine HP',\n",
       "       'Engine Cylinders', 'Transmission Type', 'Driven_Wheels',\n",
       "       'Number of Doors', 'Market Category', 'Vehicle Size', 'Vehicle Style',\n",
       "       'highway MPG', 'city mpg', 'Popularity', 'MSRP'],\n",
       "      dtype='object')"
      ]
     },
     "execution_count": 4,
     "metadata": {},
     "output_type": "execute_result"
    }
   ],
   "source": [
    "df.columns"
   ]
  },
  {
   "cell_type": "code",
   "execution_count": 5,
   "id": "be1baf3b-dc4d-4449-a3e7-fc7bfc449b14",
   "metadata": {},
   "outputs": [],
   "source": [
    "df.columns = df.columns.str.lower().str.replace(' ', '_')"
   ]
  },
  {
   "cell_type": "code",
   "execution_count": 6,
   "id": "c6bcb895-8721-4f5d-a72e-4c6b73e0b2b1",
   "metadata": {},
   "outputs": [
    {
     "data": {
      "text/plain": [
       "Index(['make', 'model', 'year', 'engine_fuel_type', 'engine_hp',\n",
       "       'engine_cylinders', 'transmission_type', 'driven_wheels',\n",
       "       'number_of_doors', 'market_category', 'vehicle_size', 'vehicle_style',\n",
       "       'highway_mpg', 'city_mpg', 'popularity', 'msrp'],\n",
       "      dtype='object')"
      ]
     },
     "execution_count": 6,
     "metadata": {},
     "output_type": "execute_result"
    }
   ],
   "source": [
    "df.columns"
   ]
  },
  {
   "cell_type": "code",
   "execution_count": 7,
   "id": "f95e0251-03dc-41e4-87ca-7e3a05b84504",
   "metadata": {},
   "outputs": [
    {
     "data": {
      "text/html": [
       "<div>\n",
       "<style scoped>\n",
       "    .dataframe tbody tr th:only-of-type {\n",
       "        vertical-align: middle;\n",
       "    }\n",
       "\n",
       "    .dataframe tbody tr th {\n",
       "        vertical-align: top;\n",
       "    }\n",
       "\n",
       "    .dataframe thead th {\n",
       "        text-align: right;\n",
       "    }\n",
       "</style>\n",
       "<table border=\"1\" class=\"dataframe\">\n",
       "  <thead>\n",
       "    <tr style=\"text-align: right;\">\n",
       "      <th></th>\n",
       "      <th>make</th>\n",
       "      <th>model</th>\n",
       "      <th>year</th>\n",
       "      <th>engine_fuel_type</th>\n",
       "      <th>engine_hp</th>\n",
       "      <th>engine_cylinders</th>\n",
       "      <th>transmission_type</th>\n",
       "      <th>driven_wheels</th>\n",
       "      <th>number_of_doors</th>\n",
       "      <th>market_category</th>\n",
       "      <th>vehicle_size</th>\n",
       "      <th>vehicle_style</th>\n",
       "      <th>highway_mpg</th>\n",
       "      <th>city_mpg</th>\n",
       "      <th>popularity</th>\n",
       "      <th>msrp</th>\n",
       "    </tr>\n",
       "  </thead>\n",
       "  <tbody>\n",
       "    <tr>\n",
       "      <th>0</th>\n",
       "      <td>BMW</td>\n",
       "      <td>1 Series M</td>\n",
       "      <td>2011</td>\n",
       "      <td>premium unleaded (required)</td>\n",
       "      <td>335.0</td>\n",
       "      <td>6.0</td>\n",
       "      <td>MANUAL</td>\n",
       "      <td>rear wheel drive</td>\n",
       "      <td>2.0</td>\n",
       "      <td>Factory Tuner,Luxury,High-Performance</td>\n",
       "      <td>Compact</td>\n",
       "      <td>Coupe</td>\n",
       "      <td>26</td>\n",
       "      <td>19</td>\n",
       "      <td>3916</td>\n",
       "      <td>46135</td>\n",
       "    </tr>\n",
       "    <tr>\n",
       "      <th>1</th>\n",
       "      <td>BMW</td>\n",
       "      <td>1 Series</td>\n",
       "      <td>2011</td>\n",
       "      <td>premium unleaded (required)</td>\n",
       "      <td>300.0</td>\n",
       "      <td>6.0</td>\n",
       "      <td>MANUAL</td>\n",
       "      <td>rear wheel drive</td>\n",
       "      <td>2.0</td>\n",
       "      <td>Luxury,Performance</td>\n",
       "      <td>Compact</td>\n",
       "      <td>Convertible</td>\n",
       "      <td>28</td>\n",
       "      <td>19</td>\n",
       "      <td>3916</td>\n",
       "      <td>40650</td>\n",
       "    </tr>\n",
       "    <tr>\n",
       "      <th>2</th>\n",
       "      <td>BMW</td>\n",
       "      <td>1 Series</td>\n",
       "      <td>2011</td>\n",
       "      <td>premium unleaded (required)</td>\n",
       "      <td>300.0</td>\n",
       "      <td>6.0</td>\n",
       "      <td>MANUAL</td>\n",
       "      <td>rear wheel drive</td>\n",
       "      <td>2.0</td>\n",
       "      <td>Luxury,High-Performance</td>\n",
       "      <td>Compact</td>\n",
       "      <td>Coupe</td>\n",
       "      <td>28</td>\n",
       "      <td>20</td>\n",
       "      <td>3916</td>\n",
       "      <td>36350</td>\n",
       "    </tr>\n",
       "    <tr>\n",
       "      <th>3</th>\n",
       "      <td>BMW</td>\n",
       "      <td>1 Series</td>\n",
       "      <td>2011</td>\n",
       "      <td>premium unleaded (required)</td>\n",
       "      <td>230.0</td>\n",
       "      <td>6.0</td>\n",
       "      <td>MANUAL</td>\n",
       "      <td>rear wheel drive</td>\n",
       "      <td>2.0</td>\n",
       "      <td>Luxury,Performance</td>\n",
       "      <td>Compact</td>\n",
       "      <td>Coupe</td>\n",
       "      <td>28</td>\n",
       "      <td>18</td>\n",
       "      <td>3916</td>\n",
       "      <td>29450</td>\n",
       "    </tr>\n",
       "    <tr>\n",
       "      <th>4</th>\n",
       "      <td>BMW</td>\n",
       "      <td>1 Series</td>\n",
       "      <td>2011</td>\n",
       "      <td>premium unleaded (required)</td>\n",
       "      <td>230.0</td>\n",
       "      <td>6.0</td>\n",
       "      <td>MANUAL</td>\n",
       "      <td>rear wheel drive</td>\n",
       "      <td>2.0</td>\n",
       "      <td>Luxury</td>\n",
       "      <td>Compact</td>\n",
       "      <td>Convertible</td>\n",
       "      <td>28</td>\n",
       "      <td>18</td>\n",
       "      <td>3916</td>\n",
       "      <td>34500</td>\n",
       "    </tr>\n",
       "  </tbody>\n",
       "</table>\n",
       "</div>"
      ],
      "text/plain": [
       "  make       model  year             engine_fuel_type  engine_hp  \\\n",
       "0  BMW  1 Series M  2011  premium unleaded (required)      335.0   \n",
       "1  BMW    1 Series  2011  premium unleaded (required)      300.0   \n",
       "2  BMW    1 Series  2011  premium unleaded (required)      300.0   \n",
       "3  BMW    1 Series  2011  premium unleaded (required)      230.0   \n",
       "4  BMW    1 Series  2011  premium unleaded (required)      230.0   \n",
       "\n",
       "   engine_cylinders transmission_type     driven_wheels  number_of_doors  \\\n",
       "0               6.0            MANUAL  rear wheel drive              2.0   \n",
       "1               6.0            MANUAL  rear wheel drive              2.0   \n",
       "2               6.0            MANUAL  rear wheel drive              2.0   \n",
       "3               6.0            MANUAL  rear wheel drive              2.0   \n",
       "4               6.0            MANUAL  rear wheel drive              2.0   \n",
       "\n",
       "                         market_category vehicle_size vehicle_style  \\\n",
       "0  Factory Tuner,Luxury,High-Performance      Compact         Coupe   \n",
       "1                     Luxury,Performance      Compact   Convertible   \n",
       "2                Luxury,High-Performance      Compact         Coupe   \n",
       "3                     Luxury,Performance      Compact         Coupe   \n",
       "4                                 Luxury      Compact   Convertible   \n",
       "\n",
       "   highway_mpg  city_mpg  popularity   msrp  \n",
       "0           26        19        3916  46135  \n",
       "1           28        19        3916  40650  \n",
       "2           28        20        3916  36350  \n",
       "3           28        18        3916  29450  \n",
       "4           28        18        3916  34500  "
      ]
     },
     "execution_count": 7,
     "metadata": {},
     "output_type": "execute_result"
    }
   ],
   "source": [
    "df.head()"
   ]
  },
  {
   "cell_type": "code",
   "execution_count": null,
   "id": "24d19a24-9919-4861-b663-67b05683ba9c",
   "metadata": {},
   "outputs": [],
   "source": []
  },
  {
   "cell_type": "markdown",
   "id": "c37b5a6b-3851-4d1e-8db9-a6c91b086fb5",
   "metadata": {},
   "source": [
    "Notice that the data themselves are not consistent, make them lowercaps and use underscores"
   ]
  },
  {
   "cell_type": "code",
   "execution_count": 8,
   "id": "b0837f16-7b21-4224-add0-5d67069b584c",
   "metadata": {},
   "outputs": [
    {
     "data": {
      "text/plain": [
       "make                  object\n",
       "model                 object\n",
       "year                   int64\n",
       "engine_fuel_type      object\n",
       "engine_hp            float64\n",
       "engine_cylinders     float64\n",
       "transmission_type     object\n",
       "driven_wheels         object\n",
       "number_of_doors      float64\n",
       "market_category       object\n",
       "vehicle_size          object\n",
       "vehicle_style         object\n",
       "highway_mpg            int64\n",
       "city_mpg               int64\n",
       "popularity             int64\n",
       "msrp                   int64\n",
       "dtype: object"
      ]
     },
     "execution_count": 8,
     "metadata": {},
     "output_type": "execute_result"
    }
   ],
   "source": [
    "df.dtypes"
   ]
  },
  {
   "cell_type": "code",
   "execution_count": 9,
   "id": "30738983-b85e-47c0-b1ae-2d9650fd0885",
   "metadata": {},
   "outputs": [
    {
     "data": {
      "text/plain": [
       "make                 object\n",
       "model                object\n",
       "engine_fuel_type     object\n",
       "transmission_type    object\n",
       "driven_wheels        object\n",
       "market_category      object\n",
       "vehicle_size         object\n",
       "vehicle_style        object\n",
       "dtype: object"
      ]
     },
     "execution_count": 9,
     "metadata": {},
     "output_type": "execute_result"
    }
   ],
   "source": [
    "# get the name of the series with string values\n",
    "df.dtypes[ df.dtypes == object ] "
   ]
  },
  {
   "cell_type": "code",
   "execution_count": 10,
   "id": "4875c3e2-54e1-4dee-af89-7021c4944900",
   "metadata": {},
   "outputs": [
    {
     "data": {
      "text/plain": [
       "['make',\n",
       " 'model',\n",
       " 'engine_fuel_type',\n",
       " 'transmission_type',\n",
       " 'driven_wheels',\n",
       " 'market_category',\n",
       " 'vehicle_size',\n",
       " 'vehicle_style']"
      ]
     },
     "execution_count": 10,
     "metadata": {},
     "output_type": "execute_result"
    }
   ],
   "source": [
    "# store them in a python list\n",
    "series_name = list(df.dtypes[ df.dtypes == object ].index) \n",
    "series_name"
   ]
  },
  {
   "cell_type": "code",
   "execution_count": 11,
   "id": "35d26ee1-78ca-4f0f-b7a8-5cc6192da165",
   "metadata": {},
   "outputs": [],
   "source": [
    "for i in series_name:\n",
    "    df[i] = df[i].str.lower().str.replace(' ', '_')"
   ]
  },
  {
   "cell_type": "code",
   "execution_count": 12,
   "id": "e98e7c3c-a0cd-4c91-bfed-d5a3f8764c65",
   "metadata": {},
   "outputs": [
    {
     "data": {
      "text/html": [
       "<div>\n",
       "<style scoped>\n",
       "    .dataframe tbody tr th:only-of-type {\n",
       "        vertical-align: middle;\n",
       "    }\n",
       "\n",
       "    .dataframe tbody tr th {\n",
       "        vertical-align: top;\n",
       "    }\n",
       "\n",
       "    .dataframe thead th {\n",
       "        text-align: right;\n",
       "    }\n",
       "</style>\n",
       "<table border=\"1\" class=\"dataframe\">\n",
       "  <thead>\n",
       "    <tr style=\"text-align: right;\">\n",
       "      <th></th>\n",
       "      <th>make</th>\n",
       "      <th>model</th>\n",
       "      <th>year</th>\n",
       "      <th>engine_fuel_type</th>\n",
       "      <th>engine_hp</th>\n",
       "      <th>engine_cylinders</th>\n",
       "      <th>transmission_type</th>\n",
       "      <th>driven_wheels</th>\n",
       "      <th>number_of_doors</th>\n",
       "      <th>market_category</th>\n",
       "      <th>vehicle_size</th>\n",
       "      <th>vehicle_style</th>\n",
       "      <th>highway_mpg</th>\n",
       "      <th>city_mpg</th>\n",
       "      <th>popularity</th>\n",
       "      <th>msrp</th>\n",
       "    </tr>\n",
       "  </thead>\n",
       "  <tbody>\n",
       "    <tr>\n",
       "      <th>0</th>\n",
       "      <td>bmw</td>\n",
       "      <td>1_series_m</td>\n",
       "      <td>2011</td>\n",
       "      <td>premium_unleaded_(required)</td>\n",
       "      <td>335.0</td>\n",
       "      <td>6.0</td>\n",
       "      <td>manual</td>\n",
       "      <td>rear_wheel_drive</td>\n",
       "      <td>2.0</td>\n",
       "      <td>factory_tuner,luxury,high-performance</td>\n",
       "      <td>compact</td>\n",
       "      <td>coupe</td>\n",
       "      <td>26</td>\n",
       "      <td>19</td>\n",
       "      <td>3916</td>\n",
       "      <td>46135</td>\n",
       "    </tr>\n",
       "    <tr>\n",
       "      <th>1</th>\n",
       "      <td>bmw</td>\n",
       "      <td>1_series</td>\n",
       "      <td>2011</td>\n",
       "      <td>premium_unleaded_(required)</td>\n",
       "      <td>300.0</td>\n",
       "      <td>6.0</td>\n",
       "      <td>manual</td>\n",
       "      <td>rear_wheel_drive</td>\n",
       "      <td>2.0</td>\n",
       "      <td>luxury,performance</td>\n",
       "      <td>compact</td>\n",
       "      <td>convertible</td>\n",
       "      <td>28</td>\n",
       "      <td>19</td>\n",
       "      <td>3916</td>\n",
       "      <td>40650</td>\n",
       "    </tr>\n",
       "    <tr>\n",
       "      <th>2</th>\n",
       "      <td>bmw</td>\n",
       "      <td>1_series</td>\n",
       "      <td>2011</td>\n",
       "      <td>premium_unleaded_(required)</td>\n",
       "      <td>300.0</td>\n",
       "      <td>6.0</td>\n",
       "      <td>manual</td>\n",
       "      <td>rear_wheel_drive</td>\n",
       "      <td>2.0</td>\n",
       "      <td>luxury,high-performance</td>\n",
       "      <td>compact</td>\n",
       "      <td>coupe</td>\n",
       "      <td>28</td>\n",
       "      <td>20</td>\n",
       "      <td>3916</td>\n",
       "      <td>36350</td>\n",
       "    </tr>\n",
       "    <tr>\n",
       "      <th>3</th>\n",
       "      <td>bmw</td>\n",
       "      <td>1_series</td>\n",
       "      <td>2011</td>\n",
       "      <td>premium_unleaded_(required)</td>\n",
       "      <td>230.0</td>\n",
       "      <td>6.0</td>\n",
       "      <td>manual</td>\n",
       "      <td>rear_wheel_drive</td>\n",
       "      <td>2.0</td>\n",
       "      <td>luxury,performance</td>\n",
       "      <td>compact</td>\n",
       "      <td>coupe</td>\n",
       "      <td>28</td>\n",
       "      <td>18</td>\n",
       "      <td>3916</td>\n",
       "      <td>29450</td>\n",
       "    </tr>\n",
       "    <tr>\n",
       "      <th>4</th>\n",
       "      <td>bmw</td>\n",
       "      <td>1_series</td>\n",
       "      <td>2011</td>\n",
       "      <td>premium_unleaded_(required)</td>\n",
       "      <td>230.0</td>\n",
       "      <td>6.0</td>\n",
       "      <td>manual</td>\n",
       "      <td>rear_wheel_drive</td>\n",
       "      <td>2.0</td>\n",
       "      <td>luxury</td>\n",
       "      <td>compact</td>\n",
       "      <td>convertible</td>\n",
       "      <td>28</td>\n",
       "      <td>18</td>\n",
       "      <td>3916</td>\n",
       "      <td>34500</td>\n",
       "    </tr>\n",
       "    <tr>\n",
       "      <th>...</th>\n",
       "      <td>...</td>\n",
       "      <td>...</td>\n",
       "      <td>...</td>\n",
       "      <td>...</td>\n",
       "      <td>...</td>\n",
       "      <td>...</td>\n",
       "      <td>...</td>\n",
       "      <td>...</td>\n",
       "      <td>...</td>\n",
       "      <td>...</td>\n",
       "      <td>...</td>\n",
       "      <td>...</td>\n",
       "      <td>...</td>\n",
       "      <td>...</td>\n",
       "      <td>...</td>\n",
       "      <td>...</td>\n",
       "    </tr>\n",
       "    <tr>\n",
       "      <th>11909</th>\n",
       "      <td>acura</td>\n",
       "      <td>zdx</td>\n",
       "      <td>2012</td>\n",
       "      <td>premium_unleaded_(required)</td>\n",
       "      <td>300.0</td>\n",
       "      <td>6.0</td>\n",
       "      <td>automatic</td>\n",
       "      <td>all_wheel_drive</td>\n",
       "      <td>4.0</td>\n",
       "      <td>crossover,hatchback,luxury</td>\n",
       "      <td>midsize</td>\n",
       "      <td>4dr_hatchback</td>\n",
       "      <td>23</td>\n",
       "      <td>16</td>\n",
       "      <td>204</td>\n",
       "      <td>46120</td>\n",
       "    </tr>\n",
       "    <tr>\n",
       "      <th>11910</th>\n",
       "      <td>acura</td>\n",
       "      <td>zdx</td>\n",
       "      <td>2012</td>\n",
       "      <td>premium_unleaded_(required)</td>\n",
       "      <td>300.0</td>\n",
       "      <td>6.0</td>\n",
       "      <td>automatic</td>\n",
       "      <td>all_wheel_drive</td>\n",
       "      <td>4.0</td>\n",
       "      <td>crossover,hatchback,luxury</td>\n",
       "      <td>midsize</td>\n",
       "      <td>4dr_hatchback</td>\n",
       "      <td>23</td>\n",
       "      <td>16</td>\n",
       "      <td>204</td>\n",
       "      <td>56670</td>\n",
       "    </tr>\n",
       "    <tr>\n",
       "      <th>11911</th>\n",
       "      <td>acura</td>\n",
       "      <td>zdx</td>\n",
       "      <td>2012</td>\n",
       "      <td>premium_unleaded_(required)</td>\n",
       "      <td>300.0</td>\n",
       "      <td>6.0</td>\n",
       "      <td>automatic</td>\n",
       "      <td>all_wheel_drive</td>\n",
       "      <td>4.0</td>\n",
       "      <td>crossover,hatchback,luxury</td>\n",
       "      <td>midsize</td>\n",
       "      <td>4dr_hatchback</td>\n",
       "      <td>23</td>\n",
       "      <td>16</td>\n",
       "      <td>204</td>\n",
       "      <td>50620</td>\n",
       "    </tr>\n",
       "    <tr>\n",
       "      <th>11912</th>\n",
       "      <td>acura</td>\n",
       "      <td>zdx</td>\n",
       "      <td>2013</td>\n",
       "      <td>premium_unleaded_(recommended)</td>\n",
       "      <td>300.0</td>\n",
       "      <td>6.0</td>\n",
       "      <td>automatic</td>\n",
       "      <td>all_wheel_drive</td>\n",
       "      <td>4.0</td>\n",
       "      <td>crossover,hatchback,luxury</td>\n",
       "      <td>midsize</td>\n",
       "      <td>4dr_hatchback</td>\n",
       "      <td>23</td>\n",
       "      <td>16</td>\n",
       "      <td>204</td>\n",
       "      <td>50920</td>\n",
       "    </tr>\n",
       "    <tr>\n",
       "      <th>11913</th>\n",
       "      <td>lincoln</td>\n",
       "      <td>zephyr</td>\n",
       "      <td>2006</td>\n",
       "      <td>regular_unleaded</td>\n",
       "      <td>221.0</td>\n",
       "      <td>6.0</td>\n",
       "      <td>automatic</td>\n",
       "      <td>front_wheel_drive</td>\n",
       "      <td>4.0</td>\n",
       "      <td>luxury</td>\n",
       "      <td>midsize</td>\n",
       "      <td>sedan</td>\n",
       "      <td>26</td>\n",
       "      <td>17</td>\n",
       "      <td>61</td>\n",
       "      <td>28995</td>\n",
       "    </tr>\n",
       "  </tbody>\n",
       "</table>\n",
       "<p>11914 rows × 16 columns</p>\n",
       "</div>"
      ],
      "text/plain": [
       "          make       model  year                engine_fuel_type  engine_hp  \\\n",
       "0          bmw  1_series_m  2011     premium_unleaded_(required)      335.0   \n",
       "1          bmw    1_series  2011     premium_unleaded_(required)      300.0   \n",
       "2          bmw    1_series  2011     premium_unleaded_(required)      300.0   \n",
       "3          bmw    1_series  2011     premium_unleaded_(required)      230.0   \n",
       "4          bmw    1_series  2011     premium_unleaded_(required)      230.0   \n",
       "...        ...         ...   ...                             ...        ...   \n",
       "11909    acura         zdx  2012     premium_unleaded_(required)      300.0   \n",
       "11910    acura         zdx  2012     premium_unleaded_(required)      300.0   \n",
       "11911    acura         zdx  2012     premium_unleaded_(required)      300.0   \n",
       "11912    acura         zdx  2013  premium_unleaded_(recommended)      300.0   \n",
       "11913  lincoln      zephyr  2006                regular_unleaded      221.0   \n",
       "\n",
       "       engine_cylinders transmission_type      driven_wheels  number_of_doors  \\\n",
       "0                   6.0            manual   rear_wheel_drive              2.0   \n",
       "1                   6.0            manual   rear_wheel_drive              2.0   \n",
       "2                   6.0            manual   rear_wheel_drive              2.0   \n",
       "3                   6.0            manual   rear_wheel_drive              2.0   \n",
       "4                   6.0            manual   rear_wheel_drive              2.0   \n",
       "...                 ...               ...                ...              ...   \n",
       "11909               6.0         automatic    all_wheel_drive              4.0   \n",
       "11910               6.0         automatic    all_wheel_drive              4.0   \n",
       "11911               6.0         automatic    all_wheel_drive              4.0   \n",
       "11912               6.0         automatic    all_wheel_drive              4.0   \n",
       "11913               6.0         automatic  front_wheel_drive              4.0   \n",
       "\n",
       "                             market_category vehicle_size  vehicle_style  \\\n",
       "0      factory_tuner,luxury,high-performance      compact          coupe   \n",
       "1                         luxury,performance      compact    convertible   \n",
       "2                    luxury,high-performance      compact          coupe   \n",
       "3                         luxury,performance      compact          coupe   \n",
       "4                                     luxury      compact    convertible   \n",
       "...                                      ...          ...            ...   \n",
       "11909             crossover,hatchback,luxury      midsize  4dr_hatchback   \n",
       "11910             crossover,hatchback,luxury      midsize  4dr_hatchback   \n",
       "11911             crossover,hatchback,luxury      midsize  4dr_hatchback   \n",
       "11912             crossover,hatchback,luxury      midsize  4dr_hatchback   \n",
       "11913                                 luxury      midsize          sedan   \n",
       "\n",
       "       highway_mpg  city_mpg  popularity   msrp  \n",
       "0               26        19        3916  46135  \n",
       "1               28        19        3916  40650  \n",
       "2               28        20        3916  36350  \n",
       "3               28        18        3916  29450  \n",
       "4               28        18        3916  34500  \n",
       "...            ...       ...         ...    ...  \n",
       "11909           23        16         204  46120  \n",
       "11910           23        16         204  56670  \n",
       "11911           23        16         204  50620  \n",
       "11912           23        16         204  50920  \n",
       "11913           26        17          61  28995  \n",
       "\n",
       "[11914 rows x 16 columns]"
      ]
     },
     "execution_count": 12,
     "metadata": {},
     "output_type": "execute_result"
    }
   ],
   "source": [
    "df"
   ]
  },
  {
   "cell_type": "markdown",
   "id": "451477a1-9fbe-4bdb-96b3-0daddece799e",
   "metadata": {},
   "source": [
    "The series name and contents are now uniform"
   ]
  },
  {
   "cell_type": "markdown",
   "id": "22791ca0-d9b7-4f5b-a9b1-4988067c49ba",
   "metadata": {},
   "source": [
    "---"
   ]
  },
  {
   "cell_type": "markdown",
   "id": "a7ab4654-6e59-43aa-834e-37b55049f408",
   "metadata": {},
   "source": [
    "## 2.3 Exploratory Data Analysis (EDA)"
   ]
  },
  {
   "cell_type": "raw",
   "id": "3fc2f68a-bd8d-4da0-91e5-3fd418b2c9f9",
   "metadata": {},
   "source": [
    "Summary: \n",
    "Explored the data by finding the unique values and missing values.\n",
    "Visualizing the target variable using seaborn's histplot.\n",
    "Analyzing the table, find out if there is a long tail.\n",
    "Extremities is not good for machine learning, we should compact the data.\n",
    "Use logarithm for data compaction, plus 1 the elements to avoid logarithm by 0\n",
    "\n",
    "Syntax:\n",
    "import matplotlib.pyplot as plt\n",
    "import seaborn as sns\n",
    "%matplotlib inline\n",
    "\n",
    "sns.histplot(series, bins=?)\n",
    "plt.show()\n",
    "np.log(array or np array)\n",
    "np.log1p()"
   ]
  },
  {
   "cell_type": "markdown",
   "id": "ba8d0608-9525-4a86-8c64-eba6d02a5788",
   "metadata": {},
   "source": [
    "### Explore the data"
   ]
  },
  {
   "cell_type": "code",
   "execution_count": 13,
   "id": "972c122d-a13f-4f55-8896-afe574298c70",
   "metadata": {},
   "outputs": [
    {
     "data": {
      "text/html": [
       "<div>\n",
       "<style scoped>\n",
       "    .dataframe tbody tr th:only-of-type {\n",
       "        vertical-align: middle;\n",
       "    }\n",
       "\n",
       "    .dataframe tbody tr th {\n",
       "        vertical-align: top;\n",
       "    }\n",
       "\n",
       "    .dataframe thead th {\n",
       "        text-align: right;\n",
       "    }\n",
       "</style>\n",
       "<table border=\"1\" class=\"dataframe\">\n",
       "  <thead>\n",
       "    <tr style=\"text-align: right;\">\n",
       "      <th></th>\n",
       "      <th>make</th>\n",
       "      <th>model</th>\n",
       "      <th>year</th>\n",
       "      <th>engine_fuel_type</th>\n",
       "      <th>engine_hp</th>\n",
       "      <th>engine_cylinders</th>\n",
       "      <th>transmission_type</th>\n",
       "      <th>driven_wheels</th>\n",
       "      <th>number_of_doors</th>\n",
       "      <th>market_category</th>\n",
       "      <th>vehicle_size</th>\n",
       "      <th>vehicle_style</th>\n",
       "      <th>highway_mpg</th>\n",
       "      <th>city_mpg</th>\n",
       "      <th>popularity</th>\n",
       "      <th>msrp</th>\n",
       "    </tr>\n",
       "  </thead>\n",
       "  <tbody>\n",
       "    <tr>\n",
       "      <th>0</th>\n",
       "      <td>bmw</td>\n",
       "      <td>1_series_m</td>\n",
       "      <td>2011</td>\n",
       "      <td>premium_unleaded_(required)</td>\n",
       "      <td>335.0</td>\n",
       "      <td>6.0</td>\n",
       "      <td>manual</td>\n",
       "      <td>rear_wheel_drive</td>\n",
       "      <td>2.0</td>\n",
       "      <td>factory_tuner,luxury,high-performance</td>\n",
       "      <td>compact</td>\n",
       "      <td>coupe</td>\n",
       "      <td>26</td>\n",
       "      <td>19</td>\n",
       "      <td>3916</td>\n",
       "      <td>46135</td>\n",
       "    </tr>\n",
       "    <tr>\n",
       "      <th>1</th>\n",
       "      <td>bmw</td>\n",
       "      <td>1_series</td>\n",
       "      <td>2011</td>\n",
       "      <td>premium_unleaded_(required)</td>\n",
       "      <td>300.0</td>\n",
       "      <td>6.0</td>\n",
       "      <td>manual</td>\n",
       "      <td>rear_wheel_drive</td>\n",
       "      <td>2.0</td>\n",
       "      <td>luxury,performance</td>\n",
       "      <td>compact</td>\n",
       "      <td>convertible</td>\n",
       "      <td>28</td>\n",
       "      <td>19</td>\n",
       "      <td>3916</td>\n",
       "      <td>40650</td>\n",
       "    </tr>\n",
       "    <tr>\n",
       "      <th>2</th>\n",
       "      <td>bmw</td>\n",
       "      <td>1_series</td>\n",
       "      <td>2011</td>\n",
       "      <td>premium_unleaded_(required)</td>\n",
       "      <td>300.0</td>\n",
       "      <td>6.0</td>\n",
       "      <td>manual</td>\n",
       "      <td>rear_wheel_drive</td>\n",
       "      <td>2.0</td>\n",
       "      <td>luxury,high-performance</td>\n",
       "      <td>compact</td>\n",
       "      <td>coupe</td>\n",
       "      <td>28</td>\n",
       "      <td>20</td>\n",
       "      <td>3916</td>\n",
       "      <td>36350</td>\n",
       "    </tr>\n",
       "    <tr>\n",
       "      <th>3</th>\n",
       "      <td>bmw</td>\n",
       "      <td>1_series</td>\n",
       "      <td>2011</td>\n",
       "      <td>premium_unleaded_(required)</td>\n",
       "      <td>230.0</td>\n",
       "      <td>6.0</td>\n",
       "      <td>manual</td>\n",
       "      <td>rear_wheel_drive</td>\n",
       "      <td>2.0</td>\n",
       "      <td>luxury,performance</td>\n",
       "      <td>compact</td>\n",
       "      <td>coupe</td>\n",
       "      <td>28</td>\n",
       "      <td>18</td>\n",
       "      <td>3916</td>\n",
       "      <td>29450</td>\n",
       "    </tr>\n",
       "    <tr>\n",
       "      <th>4</th>\n",
       "      <td>bmw</td>\n",
       "      <td>1_series</td>\n",
       "      <td>2011</td>\n",
       "      <td>premium_unleaded_(required)</td>\n",
       "      <td>230.0</td>\n",
       "      <td>6.0</td>\n",
       "      <td>manual</td>\n",
       "      <td>rear_wheel_drive</td>\n",
       "      <td>2.0</td>\n",
       "      <td>luxury</td>\n",
       "      <td>compact</td>\n",
       "      <td>convertible</td>\n",
       "      <td>28</td>\n",
       "      <td>18</td>\n",
       "      <td>3916</td>\n",
       "      <td>34500</td>\n",
       "    </tr>\n",
       "    <tr>\n",
       "      <th>...</th>\n",
       "      <td>...</td>\n",
       "      <td>...</td>\n",
       "      <td>...</td>\n",
       "      <td>...</td>\n",
       "      <td>...</td>\n",
       "      <td>...</td>\n",
       "      <td>...</td>\n",
       "      <td>...</td>\n",
       "      <td>...</td>\n",
       "      <td>...</td>\n",
       "      <td>...</td>\n",
       "      <td>...</td>\n",
       "      <td>...</td>\n",
       "      <td>...</td>\n",
       "      <td>...</td>\n",
       "      <td>...</td>\n",
       "    </tr>\n",
       "    <tr>\n",
       "      <th>11909</th>\n",
       "      <td>acura</td>\n",
       "      <td>zdx</td>\n",
       "      <td>2012</td>\n",
       "      <td>premium_unleaded_(required)</td>\n",
       "      <td>300.0</td>\n",
       "      <td>6.0</td>\n",
       "      <td>automatic</td>\n",
       "      <td>all_wheel_drive</td>\n",
       "      <td>4.0</td>\n",
       "      <td>crossover,hatchback,luxury</td>\n",
       "      <td>midsize</td>\n",
       "      <td>4dr_hatchback</td>\n",
       "      <td>23</td>\n",
       "      <td>16</td>\n",
       "      <td>204</td>\n",
       "      <td>46120</td>\n",
       "    </tr>\n",
       "    <tr>\n",
       "      <th>11910</th>\n",
       "      <td>acura</td>\n",
       "      <td>zdx</td>\n",
       "      <td>2012</td>\n",
       "      <td>premium_unleaded_(required)</td>\n",
       "      <td>300.0</td>\n",
       "      <td>6.0</td>\n",
       "      <td>automatic</td>\n",
       "      <td>all_wheel_drive</td>\n",
       "      <td>4.0</td>\n",
       "      <td>crossover,hatchback,luxury</td>\n",
       "      <td>midsize</td>\n",
       "      <td>4dr_hatchback</td>\n",
       "      <td>23</td>\n",
       "      <td>16</td>\n",
       "      <td>204</td>\n",
       "      <td>56670</td>\n",
       "    </tr>\n",
       "    <tr>\n",
       "      <th>11911</th>\n",
       "      <td>acura</td>\n",
       "      <td>zdx</td>\n",
       "      <td>2012</td>\n",
       "      <td>premium_unleaded_(required)</td>\n",
       "      <td>300.0</td>\n",
       "      <td>6.0</td>\n",
       "      <td>automatic</td>\n",
       "      <td>all_wheel_drive</td>\n",
       "      <td>4.0</td>\n",
       "      <td>crossover,hatchback,luxury</td>\n",
       "      <td>midsize</td>\n",
       "      <td>4dr_hatchback</td>\n",
       "      <td>23</td>\n",
       "      <td>16</td>\n",
       "      <td>204</td>\n",
       "      <td>50620</td>\n",
       "    </tr>\n",
       "    <tr>\n",
       "      <th>11912</th>\n",
       "      <td>acura</td>\n",
       "      <td>zdx</td>\n",
       "      <td>2013</td>\n",
       "      <td>premium_unleaded_(recommended)</td>\n",
       "      <td>300.0</td>\n",
       "      <td>6.0</td>\n",
       "      <td>automatic</td>\n",
       "      <td>all_wheel_drive</td>\n",
       "      <td>4.0</td>\n",
       "      <td>crossover,hatchback,luxury</td>\n",
       "      <td>midsize</td>\n",
       "      <td>4dr_hatchback</td>\n",
       "      <td>23</td>\n",
       "      <td>16</td>\n",
       "      <td>204</td>\n",
       "      <td>50920</td>\n",
       "    </tr>\n",
       "    <tr>\n",
       "      <th>11913</th>\n",
       "      <td>lincoln</td>\n",
       "      <td>zephyr</td>\n",
       "      <td>2006</td>\n",
       "      <td>regular_unleaded</td>\n",
       "      <td>221.0</td>\n",
       "      <td>6.0</td>\n",
       "      <td>automatic</td>\n",
       "      <td>front_wheel_drive</td>\n",
       "      <td>4.0</td>\n",
       "      <td>luxury</td>\n",
       "      <td>midsize</td>\n",
       "      <td>sedan</td>\n",
       "      <td>26</td>\n",
       "      <td>17</td>\n",
       "      <td>61</td>\n",
       "      <td>28995</td>\n",
       "    </tr>\n",
       "  </tbody>\n",
       "</table>\n",
       "<p>11914 rows × 16 columns</p>\n",
       "</div>"
      ],
      "text/plain": [
       "          make       model  year                engine_fuel_type  engine_hp  \\\n",
       "0          bmw  1_series_m  2011     premium_unleaded_(required)      335.0   \n",
       "1          bmw    1_series  2011     premium_unleaded_(required)      300.0   \n",
       "2          bmw    1_series  2011     premium_unleaded_(required)      300.0   \n",
       "3          bmw    1_series  2011     premium_unleaded_(required)      230.0   \n",
       "4          bmw    1_series  2011     premium_unleaded_(required)      230.0   \n",
       "...        ...         ...   ...                             ...        ...   \n",
       "11909    acura         zdx  2012     premium_unleaded_(required)      300.0   \n",
       "11910    acura         zdx  2012     premium_unleaded_(required)      300.0   \n",
       "11911    acura         zdx  2012     premium_unleaded_(required)      300.0   \n",
       "11912    acura         zdx  2013  premium_unleaded_(recommended)      300.0   \n",
       "11913  lincoln      zephyr  2006                regular_unleaded      221.0   \n",
       "\n",
       "       engine_cylinders transmission_type      driven_wheels  number_of_doors  \\\n",
       "0                   6.0            manual   rear_wheel_drive              2.0   \n",
       "1                   6.0            manual   rear_wheel_drive              2.0   \n",
       "2                   6.0            manual   rear_wheel_drive              2.0   \n",
       "3                   6.0            manual   rear_wheel_drive              2.0   \n",
       "4                   6.0            manual   rear_wheel_drive              2.0   \n",
       "...                 ...               ...                ...              ...   \n",
       "11909               6.0         automatic    all_wheel_drive              4.0   \n",
       "11910               6.0         automatic    all_wheel_drive              4.0   \n",
       "11911               6.0         automatic    all_wheel_drive              4.0   \n",
       "11912               6.0         automatic    all_wheel_drive              4.0   \n",
       "11913               6.0         automatic  front_wheel_drive              4.0   \n",
       "\n",
       "                             market_category vehicle_size  vehicle_style  \\\n",
       "0      factory_tuner,luxury,high-performance      compact          coupe   \n",
       "1                         luxury,performance      compact    convertible   \n",
       "2                    luxury,high-performance      compact          coupe   \n",
       "3                         luxury,performance      compact          coupe   \n",
       "4                                     luxury      compact    convertible   \n",
       "...                                      ...          ...            ...   \n",
       "11909             crossover,hatchback,luxury      midsize  4dr_hatchback   \n",
       "11910             crossover,hatchback,luxury      midsize  4dr_hatchback   \n",
       "11911             crossover,hatchback,luxury      midsize  4dr_hatchback   \n",
       "11912             crossover,hatchback,luxury      midsize  4dr_hatchback   \n",
       "11913                                 luxury      midsize          sedan   \n",
       "\n",
       "       highway_mpg  city_mpg  popularity   msrp  \n",
       "0               26        19        3916  46135  \n",
       "1               28        19        3916  40650  \n",
       "2               28        20        3916  36350  \n",
       "3               28        18        3916  29450  \n",
       "4               28        18        3916  34500  \n",
       "...            ...       ...         ...    ...  \n",
       "11909           23        16         204  46120  \n",
       "11910           23        16         204  56670  \n",
       "11911           23        16         204  50620  \n",
       "11912           23        16         204  50920  \n",
       "11913           26        17          61  28995  \n",
       "\n",
       "[11914 rows x 16 columns]"
      ]
     },
     "execution_count": 13,
     "metadata": {},
     "output_type": "execute_result"
    }
   ],
   "source": [
    "df"
   ]
  },
  {
   "cell_type": "code",
   "execution_count": null,
   "id": "c8fcb93b-ccb2-4330-97e0-e85468fe7618",
   "metadata": {},
   "outputs": [],
   "source": []
  },
  {
   "cell_type": "markdown",
   "id": "f812ac93-0d83-44a0-8a97-dcc6c3f95faf",
   "metadata": {},
   "source": [
    "### Unique number of items in a series"
   ]
  },
  {
   "cell_type": "code",
   "execution_count": 14,
   "id": "840c6be1-b36f-46cb-9963-caf492ad8046",
   "metadata": {},
   "outputs": [
    {
     "name": "stdout",
     "output_type": "stream",
     "text": [
      "make\n",
      "['bmw' 'audi' 'fiat' 'mercedes-benz' 'chrysler']\n",
      "48\n",
      "\n",
      "model\n",
      "['1_series_m' '1_series' '100' '124_spider' '190-class']\n",
      "914\n",
      "\n",
      "year\n",
      "[2011 2012 2013 1992 1993]\n",
      "28\n",
      "\n",
      "engine_fuel_type\n",
      "['premium_unleaded_(required)' 'regular_unleaded'\n",
      " 'premium_unleaded_(recommended)' 'flex-fuel_(unleaded/e85)' 'diesel']\n",
      "10\n",
      "\n",
      "engine_hp\n",
      "[335. 300. 230. 320. 172.]\n",
      "356\n",
      "\n",
      "engine_cylinders\n",
      "[ 6.  4.  5.  8. 12.]\n",
      "9\n",
      "\n",
      "transmission_type\n",
      "['manual' 'automatic' 'automated_manual' 'direct_drive' 'unknown']\n",
      "5\n",
      "\n",
      "driven_wheels\n",
      "['rear_wheel_drive' 'front_wheel_drive' 'all_wheel_drive'\n",
      " 'four_wheel_drive']\n",
      "4\n",
      "\n",
      "number_of_doors\n",
      "[ 2.  4.  3. nan]\n",
      "3\n",
      "\n",
      "market_category\n",
      "['factory_tuner,luxury,high-performance' 'luxury,performance'\n",
      " 'luxury,high-performance' 'luxury' 'performance']\n",
      "71\n",
      "\n",
      "vehicle_size\n",
      "['compact' 'midsize' 'large']\n",
      "3\n",
      "\n",
      "vehicle_style\n",
      "['coupe' 'convertible' 'sedan' 'wagon' '4dr_hatchback']\n",
      "16\n",
      "\n",
      "highway_mpg\n",
      "[26 28 27 25 24]\n",
      "59\n",
      "\n",
      "city_mpg\n",
      "[19 20 18 17 16]\n",
      "69\n",
      "\n",
      "popularity\n",
      "[3916 3105  819  617 1013]\n",
      "48\n",
      "\n",
      "msrp\n",
      "[46135 40650 36350 29450 34500]\n",
      "6049\n",
      "\n"
     ]
    }
   ],
   "source": [
    "for i in df.columns:\n",
    "    print(i)\n",
    "    print(df[i].unique()[:5]) # [$low : $high(excl)] known as slicing\n",
    "    print(df[i].nunique())\n",
    "    print()"
   ]
  },
  {
   "cell_type": "code",
   "execution_count": null,
   "id": "79d49522-faf0-4775-b8b7-698450a7a7ae",
   "metadata": {},
   "outputs": [],
   "source": []
  },
  {
   "cell_type": "markdown",
   "id": "5acec0e2-3e91-4b79-96f3-2b4e91721617",
   "metadata": {},
   "source": [
    "### Visualizing the data"
   ]
  },
  {
   "cell_type": "code",
   "execution_count": 15,
   "id": "7bfc54f0-61c4-4a6b-9634-481842799871",
   "metadata": {},
   "outputs": [
    {
     "data": {
      "text/html": [
       "<div>\n",
       "<style scoped>\n",
       "    .dataframe tbody tr th:only-of-type {\n",
       "        vertical-align: middle;\n",
       "    }\n",
       "\n",
       "    .dataframe tbody tr th {\n",
       "        vertical-align: top;\n",
       "    }\n",
       "\n",
       "    .dataframe thead th {\n",
       "        text-align: right;\n",
       "    }\n",
       "</style>\n",
       "<table border=\"1\" class=\"dataframe\">\n",
       "  <thead>\n",
       "    <tr style=\"text-align: right;\">\n",
       "      <th></th>\n",
       "      <th>make</th>\n",
       "      <th>model</th>\n",
       "      <th>year</th>\n",
       "      <th>engine_fuel_type</th>\n",
       "      <th>engine_hp</th>\n",
       "      <th>engine_cylinders</th>\n",
       "      <th>transmission_type</th>\n",
       "      <th>driven_wheels</th>\n",
       "      <th>number_of_doors</th>\n",
       "      <th>market_category</th>\n",
       "      <th>vehicle_size</th>\n",
       "      <th>vehicle_style</th>\n",
       "      <th>highway_mpg</th>\n",
       "      <th>city_mpg</th>\n",
       "      <th>popularity</th>\n",
       "      <th>msrp</th>\n",
       "    </tr>\n",
       "  </thead>\n",
       "  <tbody>\n",
       "    <tr>\n",
       "      <th>0</th>\n",
       "      <td>bmw</td>\n",
       "      <td>1_series_m</td>\n",
       "      <td>2011</td>\n",
       "      <td>premium_unleaded_(required)</td>\n",
       "      <td>335.0</td>\n",
       "      <td>6.0</td>\n",
       "      <td>manual</td>\n",
       "      <td>rear_wheel_drive</td>\n",
       "      <td>2.0</td>\n",
       "      <td>factory_tuner,luxury,high-performance</td>\n",
       "      <td>compact</td>\n",
       "      <td>coupe</td>\n",
       "      <td>26</td>\n",
       "      <td>19</td>\n",
       "      <td>3916</td>\n",
       "      <td>46135</td>\n",
       "    </tr>\n",
       "    <tr>\n",
       "      <th>1</th>\n",
       "      <td>bmw</td>\n",
       "      <td>1_series</td>\n",
       "      <td>2011</td>\n",
       "      <td>premium_unleaded_(required)</td>\n",
       "      <td>300.0</td>\n",
       "      <td>6.0</td>\n",
       "      <td>manual</td>\n",
       "      <td>rear_wheel_drive</td>\n",
       "      <td>2.0</td>\n",
       "      <td>luxury,performance</td>\n",
       "      <td>compact</td>\n",
       "      <td>convertible</td>\n",
       "      <td>28</td>\n",
       "      <td>19</td>\n",
       "      <td>3916</td>\n",
       "      <td>40650</td>\n",
       "    </tr>\n",
       "    <tr>\n",
       "      <th>2</th>\n",
       "      <td>bmw</td>\n",
       "      <td>1_series</td>\n",
       "      <td>2011</td>\n",
       "      <td>premium_unleaded_(required)</td>\n",
       "      <td>300.0</td>\n",
       "      <td>6.0</td>\n",
       "      <td>manual</td>\n",
       "      <td>rear_wheel_drive</td>\n",
       "      <td>2.0</td>\n",
       "      <td>luxury,high-performance</td>\n",
       "      <td>compact</td>\n",
       "      <td>coupe</td>\n",
       "      <td>28</td>\n",
       "      <td>20</td>\n",
       "      <td>3916</td>\n",
       "      <td>36350</td>\n",
       "    </tr>\n",
       "    <tr>\n",
       "      <th>3</th>\n",
       "      <td>bmw</td>\n",
       "      <td>1_series</td>\n",
       "      <td>2011</td>\n",
       "      <td>premium_unleaded_(required)</td>\n",
       "      <td>230.0</td>\n",
       "      <td>6.0</td>\n",
       "      <td>manual</td>\n",
       "      <td>rear_wheel_drive</td>\n",
       "      <td>2.0</td>\n",
       "      <td>luxury,performance</td>\n",
       "      <td>compact</td>\n",
       "      <td>coupe</td>\n",
       "      <td>28</td>\n",
       "      <td>18</td>\n",
       "      <td>3916</td>\n",
       "      <td>29450</td>\n",
       "    </tr>\n",
       "    <tr>\n",
       "      <th>4</th>\n",
       "      <td>bmw</td>\n",
       "      <td>1_series</td>\n",
       "      <td>2011</td>\n",
       "      <td>premium_unleaded_(required)</td>\n",
       "      <td>230.0</td>\n",
       "      <td>6.0</td>\n",
       "      <td>manual</td>\n",
       "      <td>rear_wheel_drive</td>\n",
       "      <td>2.0</td>\n",
       "      <td>luxury</td>\n",
       "      <td>compact</td>\n",
       "      <td>convertible</td>\n",
       "      <td>28</td>\n",
       "      <td>18</td>\n",
       "      <td>3916</td>\n",
       "      <td>34500</td>\n",
       "    </tr>\n",
       "  </tbody>\n",
       "</table>\n",
       "</div>"
      ],
      "text/plain": [
       "  make       model  year             engine_fuel_type  engine_hp  \\\n",
       "0  bmw  1_series_m  2011  premium_unleaded_(required)      335.0   \n",
       "1  bmw    1_series  2011  premium_unleaded_(required)      300.0   \n",
       "2  bmw    1_series  2011  premium_unleaded_(required)      300.0   \n",
       "3  bmw    1_series  2011  premium_unleaded_(required)      230.0   \n",
       "4  bmw    1_series  2011  premium_unleaded_(required)      230.0   \n",
       "\n",
       "   engine_cylinders transmission_type     driven_wheels  number_of_doors  \\\n",
       "0               6.0            manual  rear_wheel_drive              2.0   \n",
       "1               6.0            manual  rear_wheel_drive              2.0   \n",
       "2               6.0            manual  rear_wheel_drive              2.0   \n",
       "3               6.0            manual  rear_wheel_drive              2.0   \n",
       "4               6.0            manual  rear_wheel_drive              2.0   \n",
       "\n",
       "                         market_category vehicle_size vehicle_style  \\\n",
       "0  factory_tuner,luxury,high-performance      compact         coupe   \n",
       "1                     luxury,performance      compact   convertible   \n",
       "2                luxury,high-performance      compact         coupe   \n",
       "3                     luxury,performance      compact         coupe   \n",
       "4                                 luxury      compact   convertible   \n",
       "\n",
       "   highway_mpg  city_mpg  popularity   msrp  \n",
       "0           26        19        3916  46135  \n",
       "1           28        19        3916  40650  \n",
       "2           28        20        3916  36350  \n",
       "3           28        18        3916  29450  \n",
       "4           28        18        3916  34500  "
      ]
     },
     "execution_count": 15,
     "metadata": {},
     "output_type": "execute_result"
    }
   ],
   "source": [
    "df.head()"
   ]
  },
  {
   "cell_type": "code",
   "execution_count": 16,
   "id": "783abb47-5f53-43c3-b086-9c7e19e60ec3",
   "metadata": {},
   "outputs": [],
   "source": [
    "import matplotlib.pyplot as plt\n",
    "import seaborn as sns\n",
    "\n",
    "# i tried excluding this line, works the same\n",
    "%matplotlib inline "
   ]
  },
  {
   "cell_type": "code",
   "execution_count": 17,
   "id": "df95924e-bf6c-42fe-b1ab-e0301b99bc4c",
   "metadata": {},
   "outputs": [
    {
     "data": {
      "image/png": "[encoded data removed]",
      "text/plain": [
       "<Figure size 640x480 with 1 Axes>"
      ]
     },
     "metadata": {},
     "output_type": "display_data"
    }
   ],
   "source": [
    "sns.histplot(df.msrp, bins=50) # the graph shows 50 boxes\n",
    "plt.show()"
   ]
  },
  {
   "cell_type": "markdown",
   "id": "7020c2f1-8beb-4661-90cf-4081f3235dc3",
   "metadata": {},
   "source": [
    "The small data bins are not really visible. Let's take a look at the graph where the MSRP is concentrated."
   ]
  },
  {
   "cell_type": "code",
   "execution_count": 18,
   "id": "b4a647c3-5114-48c7-9ea2-853e4039736f",
   "metadata": {},
   "outputs": [
    {
     "data": {
      "image/png": "[encoded data removed]",
      "text/plain": [
       "<Figure size 640x480 with 1 Axes>"
      ]
     },
     "metadata": {},
     "output_type": "display_data"
    }
   ],
   "source": [
    "sns.histplot(df.msrp[df.msrp < 100000], bins = 50)\n",
    "plt.show()"
   ]
  },
  {
   "cell_type": "code",
   "execution_count": null,
   "id": "4c479b51-8197-486d-ac1a-5bd6b18cd241",
   "metadata": {},
   "outputs": [],
   "source": []
  },
  {
   "cell_type": "markdown",
   "id": "b183ae13-0191-4169-a16b-53fd20071f28",
   "metadata": {},
   "source": [
    "From the histogram, we can observe a long tail distribution. This is not good for the resulting model."
   ]
  },
  {
   "cell_type": "markdown",
   "id": "eb4001a3-05f5-4e4f-b7ec-4cbada447ce3",
   "metadata": {},
   "source": [
    "Use log to make the data more compact."
   ]
  },
  {
   "cell_type": "code",
   "execution_count": 19,
   "id": "5efb86dd-1e43-479a-9068-5419109e7d6c",
   "metadata": {},
   "outputs": [
    {
     "data": {
      "text/plain": [
       "array([ 0.        ,  2.30258509,  4.60517019,  6.90775528,  9.21034037,\n",
       "       11.51292546, 13.81551056, 16.11809565])"
      ]
     },
     "execution_count": 19,
     "metadata": {},
     "output_type": "execute_result"
    }
   ],
   "source": [
    "np.log([1, 10, 100, 1000, 10000, 100000, 1000000, 10000000])"
   ]
  },
  {
   "cell_type": "markdown",
   "id": "e9e87efa-9874-4157-bf83-dd2ebf4e7b25",
   "metadata": {},
   "source": [
    "Notice how the numbers are compact, even though they are numerically distant."
   ]
  },
  {
   "cell_type": "code",
   "execution_count": 20,
   "id": "7e1f1f36-3cee-4340-a13d-5988cb498909",
   "metadata": {},
   "outputs": [
    {
     "data": {
      "text/plain": [
       "array([ 0.        ,  0.69314718,  2.39789527,  4.61512052,  6.90875478,\n",
       "        9.21044037, 11.51293546, 13.81551156, 16.11809575])"
      ]
     },
     "execution_count": 20,
     "metadata": {},
     "output_type": "execute_result"
    }
   ],
   "source": [
    "np.log1p([0, 1, 10, 100, 1000, 10000, 100000, 1000000, 10000000]) # since log by zero is not allowed, use log1p by convention"
   ]
  },
  {
   "cell_type": "code",
   "execution_count": 21,
   "id": "b7aaeffc-5234-495d-8b75-f52842ed8f44",
   "metadata": {},
   "outputs": [
    {
     "data": {
      "text/plain": [
       "count    11914.000000\n",
       "mean        10.113729\n",
       "std          1.105703\n",
       "min          7.601402\n",
       "25%          9.952325\n",
       "50%         10.308819\n",
       "75%         10.650939\n",
       "max         14.541078\n",
       "Name: msrp, dtype: float64"
      ]
     },
     "execution_count": 21,
     "metadata": {},
     "output_type": "execute_result"
    }
   ],
   "source": [
    "np.log1p(df.msrp).describe() # np.log(x + 1)"
   ]
  },
  {
   "cell_type": "code",
   "execution_count": 22,
   "id": "4cd0af5a-2649-48a3-8f43-e5816bcca592",
   "metadata": {},
   "outputs": [],
   "source": [
    "log_msrp = np.log1p(df.msrp)"
   ]
  },
  {
   "cell_type": "code",
   "execution_count": 23,
   "id": "0bd1cc23-a0a1-4258-b1aa-a42553f17195",
   "metadata": {},
   "outputs": [
    {
     "data": {
      "image/png": "[encoded data removed]",
      "text/plain": [
       "<Figure size 640x480 with 1 Axes>"
      ]
     },
     "metadata": {},
     "output_type": "display_data"
    }
   ],
   "source": [
    "sns.histplot(log_msrp, bins=50)\n",
    "plt.show()"
   ]
  },
  {
   "cell_type": "markdown",
   "id": "5ac1c5ba-9d5d-4b1d-a922-1ea4eeac9c8a",
   "metadata": {},
   "source": [
    "The graph now resembles a normal distribution table. This shows that using the logarithm is effective in compacting the data."
   ]
  },
  {
   "cell_type": "code",
   "execution_count": null,
   "id": "8960c9e0-fc9b-49e2-91b6-12c1503d51c0",
   "metadata": {},
   "outputs": [],
   "source": []
  },
  {
   "cell_type": "markdown",
   "id": "a6f785ea-dc7c-4284-b6be-8ced9ceaed4e",
   "metadata": {},
   "source": [
    "### Missing values"
   ]
  },
  {
   "cell_type": "code",
   "execution_count": 24,
   "id": "cbcc014b-8d8c-4e4b-8110-98946efe42cc",
   "metadata": {},
   "outputs": [
    {
     "data": {
      "text/plain": [
       "make                 False\n",
       "model                False\n",
       "year                 False\n",
       "engine_fuel_type      True\n",
       "engine_hp             True\n",
       "engine_cylinders      True\n",
       "transmission_type    False\n",
       "driven_wheels        False\n",
       "number_of_doors       True\n",
       "market_category       True\n",
       "vehicle_size         False\n",
       "vehicle_style        False\n",
       "highway_mpg          False\n",
       "city_mpg             False\n",
       "popularity           False\n",
       "msrp                 False\n",
       "dtype: bool"
      ]
     },
     "execution_count": 24,
     "metadata": {},
     "output_type": "execute_result"
    }
   ],
   "source": [
    "df.isnull().sum() > 0"
   ]
  },
  {
   "cell_type": "code",
   "execution_count": 25,
   "id": "332e40b1-7411-412f-a161-17eb47bcaa91",
   "metadata": {},
   "outputs": [
    {
     "data": {
      "text/plain": [
       "make                    0\n",
       "model                   0\n",
       "year                    0\n",
       "engine_fuel_type        3\n",
       "engine_hp              69\n",
       "engine_cylinders       30\n",
       "transmission_type       0\n",
       "driven_wheels           0\n",
       "number_of_doors         6\n",
       "market_category      3742\n",
       "vehicle_size            0\n",
       "vehicle_style           0\n",
       "highway_mpg             0\n",
       "city_mpg                0\n",
       "popularity              0\n",
       "msrp                    0\n",
       "dtype: int64"
      ]
     },
     "execution_count": 25,
     "metadata": {},
     "output_type": "execute_result"
    }
   ],
   "source": [
    "df.isnull().sum()"
   ]
  },
  {
   "cell_type": "code",
   "execution_count": 26,
   "id": "f5fdf137-26e9-4285-a07e-74146215f1d5",
   "metadata": {},
   "outputs": [
    {
     "data": {
      "text/plain": [
       "Index(['engine_fuel_type', 'engine_hp', 'engine_cylinders', 'number_of_doors',\n",
       "       'market_category'],\n",
       "      dtype='object')"
      ]
     },
     "execution_count": 26,
     "metadata": {},
     "output_type": "execute_result"
    }
   ],
   "source": [
    "df.columns[(df.isnull().sum() > 0)]"
   ]
  },
  {
   "cell_type": "markdown",
   "id": "9f14eeab-ab84-4830-9500-cf176d5ead54",
   "metadata": {},
   "source": [
    "Keep in mind the missing values, as they can affect the training of the model"
   ]
  },
  {
   "cell_type": "markdown",
   "id": "02b2d01d-f8c1-4dcd-8fe1-d97ed5484698",
   "metadata": {},
   "source": [
    "---"
   ]
  },
  {
   "cell_type": "markdown",
   "id": "e312b6ae-48ee-453c-b498-06ce2b742a0e",
   "metadata": {},
   "source": [
    "## 2.4 Setting up the validation framework"
   ]
  },
  {
   "cell_type": "raw",
   "id": "07c530d2-b9a2-44ad-8411-fc89b0ed2c29",
   "metadata": {},
   "source": [
    "Summary:\n",
    "Data splitting - split the data into train, val, and test\n",
    "Data shuffling - ensure that the three data subsets contain variety\n",
    "Deleting y-value from X - the feature and the target variable should be separated, \n",
    "                        - otherwise it would negativelyaffect the model\n",
    "\n",
    "Techniques:\n",
    "In shuffling data, duplicate and shuffle the index. Then, use iloc.\n",
    "Ex. \n",
    "index = np.arange(n) #(0, n]\n",
    "np.random.shuffle(index)\n",
    "df.iloc[ idx[:n_train] ]"
   ]
  },
  {
   "cell_type": "markdown",
   "id": "d390f393-80bb-4b4c-93f4-cc0f0a9450a4",
   "metadata": {},
   "source": [
    "### Data splitting "
   ]
  },
  {
   "cell_type": "markdown",
   "id": "b42c8097-e910-4474-935d-c539b2550b9f",
   "metadata": {},
   "source": [
    "Split the data into training, val, and test: 60, 20, 20 respectively."
   ]
  },
  {
   "cell_type": "code",
   "execution_count": 27,
   "id": "3f642906-8441-42de-8920-11eb9957a83f",
   "metadata": {},
   "outputs": [
    {
     "data": {
      "text/plain": [
       "11914"
      ]
     },
     "execution_count": 27,
     "metadata": {},
     "output_type": "execute_result"
    }
   ],
   "source": [
    "n = len(df)\n",
    "n"
   ]
  },
  {
   "cell_type": "code",
   "execution_count": 28,
   "id": "83a00f57-fec9-46be-9cb7-d62adea12a97",
   "metadata": {},
   "outputs": [],
   "source": [
    "n_val = int(n * 0.2)\n",
    "n_test = int(n * 0.2)\n",
    "n_train = n - n_val - n_test"
   ]
  },
  {
   "cell_type": "code",
   "execution_count": 29,
   "id": "0634c856-a6ab-41be-a382-b7dd7b9feb42",
   "metadata": {},
   "outputs": [
    {
     "data": {
      "text/plain": [
       "(7150, 2382, 2382)"
      ]
     },
     "execution_count": 29,
     "metadata": {},
     "output_type": "execute_result"
    }
   ],
   "source": [
    "n_train, n_val, n_test"
   ]
  },
  {
   "cell_type": "code",
   "execution_count": null,
   "id": "7c6895d1-facc-42b3-b956-8dc5959a2455",
   "metadata": {},
   "outputs": [],
   "source": []
  },
  {
   "cell_type": "code",
   "execution_count": 30,
   "id": "28cc3646-f8f7-4e83-a7b3-844ff770bbf9",
   "metadata": {},
   "outputs": [],
   "source": [
    "#loc is inclusive, use iloc\n",
    "df_train = df.iloc[:n_train] \n",
    "df_val = df.iloc[n_train:n_train + n_val]\n",
    "df_test = df.iloc[n_train + n_val:]"
   ]
  },
  {
   "cell_type": "markdown",
   "id": "a61931cf-7688-435a-89de-4ee97e7e2bc1",
   "metadata": {},
   "source": [
    "### Data shuffling"
   ]
  },
  {
   "cell_type": "raw",
   "id": "4017cf10-19db-40fa-993b-bc806e51d120",
   "metadata": {},
   "source": [
    "Notice that there is a sequence in the default data.\n",
    "We have to shuffle the data to ensure the model is trained on specific items.\n",
    "Ensure variety in the training dataset."
   ]
  },
  {
   "cell_type": "code",
   "execution_count": 31,
   "id": "3106f96c-4c53-46ba-929a-a480c466f3d9",
   "metadata": {},
   "outputs": [],
   "source": [
    "idx = np.arange(n)"
   ]
  },
  {
   "cell_type": "code",
   "execution_count": 32,
   "id": "0402bc21-475d-4cea-b956-6f09cf69c527",
   "metadata": {},
   "outputs": [
    {
     "data": {
      "text/plain": [
       "array([ 8929,  8806,  7233, ..., 11513,  1688,  5994])"
      ]
     },
     "execution_count": 32,
     "metadata": {},
     "output_type": "execute_result"
    }
   ],
   "source": [
    "np.random.seed(3) # set a seed to make the data splitting reproducible\n",
    "np.random.shuffle(idx)\n",
    "idx"
   ]
  },
  {
   "cell_type": "code",
   "execution_count": null,
   "id": "4c43863c-726a-494e-9323-c8f54d74d92a",
   "metadata": {},
   "outputs": [],
   "source": []
  },
  {
   "cell_type": "code",
   "execution_count": 33,
   "id": "2ab7569f-e16b-4a8e-9d3e-36d55eab92cf",
   "metadata": {},
   "outputs": [],
   "source": [
    "# remember: df.iloc[ [10, 3, 5] ] returns rows at index 10, 3, 5\n",
    "df_train = df.iloc[idx[:n_train]] \n",
    "df_val = df.iloc[idx[n_train:n_train + n_val]]\n",
    "df_test = df.iloc[idx[n_train + n_val:]]"
   ]
  },
  {
   "cell_type": "code",
   "execution_count": 34,
   "id": "b096ffe5-d8ca-4297-8c9f-efc058421994",
   "metadata": {},
   "outputs": [
    {
     "data": {
      "text/html": [
       "<div>\n",
       "<style scoped>\n",
       "    .dataframe tbody tr th:only-of-type {\n",
       "        vertical-align: middle;\n",
       "    }\n",
       "\n",
       "    .dataframe tbody tr th {\n",
       "        vertical-align: top;\n",
       "    }\n",
       "\n",
       "    .dataframe thead th {\n",
       "        text-align: right;\n",
       "    }\n",
       "</style>\n",
       "<table border=\"1\" class=\"dataframe\">\n",
       "  <thead>\n",
       "    <tr style=\"text-align: right;\">\n",
       "      <th></th>\n",
       "      <th>make</th>\n",
       "      <th>model</th>\n",
       "      <th>year</th>\n",
       "      <th>engine_fuel_type</th>\n",
       "      <th>engine_hp</th>\n",
       "      <th>engine_cylinders</th>\n",
       "      <th>transmission_type</th>\n",
       "      <th>driven_wheels</th>\n",
       "      <th>number_of_doors</th>\n",
       "      <th>market_category</th>\n",
       "      <th>vehicle_size</th>\n",
       "      <th>vehicle_style</th>\n",
       "      <th>highway_mpg</th>\n",
       "      <th>city_mpg</th>\n",
       "      <th>popularity</th>\n",
       "      <th>msrp</th>\n",
       "    </tr>\n",
       "  </thead>\n",
       "  <tbody>\n",
       "    <tr>\n",
       "      <th>8929</th>\n",
       "      <td>volvo</td>\n",
       "      <td>s70</td>\n",
       "      <td>2000</td>\n",
       "      <td>regular_unleaded</td>\n",
       "      <td>190.0</td>\n",
       "      <td>5.0</td>\n",
       "      <td>automatic</td>\n",
       "      <td>front_wheel_drive</td>\n",
       "      <td>4.0</td>\n",
       "      <td>luxury</td>\n",
       "      <td>midsize</td>\n",
       "      <td>sedan</td>\n",
       "      <td>24</td>\n",
       "      <td>17</td>\n",
       "      <td>870</td>\n",
       "      <td>2500</td>\n",
       "    </tr>\n",
       "    <tr>\n",
       "      <th>8806</th>\n",
       "      <td>gmc</td>\n",
       "      <td>s-15</td>\n",
       "      <td>1990</td>\n",
       "      <td>regular_unleaded</td>\n",
       "      <td>105.0</td>\n",
       "      <td>4.0</td>\n",
       "      <td>manual</td>\n",
       "      <td>rear_wheel_drive</td>\n",
       "      <td>2.0</td>\n",
       "      <td>NaN</td>\n",
       "      <td>compact</td>\n",
       "      <td>extended_cab_pickup</td>\n",
       "      <td>25</td>\n",
       "      <td>21</td>\n",
       "      <td>549</td>\n",
       "      <td>2000</td>\n",
       "    </tr>\n",
       "    <tr>\n",
       "      <th>7233</th>\n",
       "      <td>oldsmobile</td>\n",
       "      <td>ninety-eight</td>\n",
       "      <td>1995</td>\n",
       "      <td>regular_unleaded</td>\n",
       "      <td>225.0</td>\n",
       "      <td>6.0</td>\n",
       "      <td>automatic</td>\n",
       "      <td>front_wheel_drive</td>\n",
       "      <td>4.0</td>\n",
       "      <td>NaN</td>\n",
       "      <td>large</td>\n",
       "      <td>sedan</td>\n",
       "      <td>26</td>\n",
       "      <td>17</td>\n",
       "      <td>26</td>\n",
       "      <td>2000</td>\n",
       "    </tr>\n",
       "    <tr>\n",
       "      <th>3535</th>\n",
       "      <td>aston_martin</td>\n",
       "      <td>dbs</td>\n",
       "      <td>2010</td>\n",
       "      <td>premium_unleaded_(required)</td>\n",
       "      <td>510.0</td>\n",
       "      <td>12.0</td>\n",
       "      <td>automatic</td>\n",
       "      <td>rear_wheel_drive</td>\n",
       "      <td>2.0</td>\n",
       "      <td>exotic,high-performance</td>\n",
       "      <td>midsize</td>\n",
       "      <td>convertible</td>\n",
       "      <td>18</td>\n",
       "      <td>12</td>\n",
       "      <td>259</td>\n",
       "      <td>283900</td>\n",
       "    </tr>\n",
       "    <tr>\n",
       "      <th>8763</th>\n",
       "      <td>chevrolet</td>\n",
       "      <td>s-10</td>\n",
       "      <td>2002</td>\n",
       "      <td>regular_unleaded</td>\n",
       "      <td>190.0</td>\n",
       "      <td>6.0</td>\n",
       "      <td>automatic</td>\n",
       "      <td>rear_wheel_drive</td>\n",
       "      <td>2.0</td>\n",
       "      <td>performance</td>\n",
       "      <td>compact</td>\n",
       "      <td>regular_cab_pickup</td>\n",
       "      <td>20</td>\n",
       "      <td>15</td>\n",
       "      <td>1385</td>\n",
       "      <td>21499</td>\n",
       "    </tr>\n",
       "  </tbody>\n",
       "</table>\n",
       "</div>"
      ],
      "text/plain": [
       "              make         model  year             engine_fuel_type  \\\n",
       "8929         volvo           s70  2000             regular_unleaded   \n",
       "8806           gmc          s-15  1990             regular_unleaded   \n",
       "7233    oldsmobile  ninety-eight  1995             regular_unleaded   \n",
       "3535  aston_martin           dbs  2010  premium_unleaded_(required)   \n",
       "8763     chevrolet          s-10  2002             regular_unleaded   \n",
       "\n",
       "      engine_hp  engine_cylinders transmission_type      driven_wheels  \\\n",
       "8929      190.0               5.0         automatic  front_wheel_drive   \n",
       "8806      105.0               4.0            manual   rear_wheel_drive   \n",
       "7233      225.0               6.0         automatic  front_wheel_drive   \n",
       "3535      510.0              12.0         automatic   rear_wheel_drive   \n",
       "8763      190.0               6.0         automatic   rear_wheel_drive   \n",
       "\n",
       "      number_of_doors          market_category vehicle_size  \\\n",
       "8929              4.0                   luxury      midsize   \n",
       "8806              2.0                      NaN      compact   \n",
       "7233              4.0                      NaN        large   \n",
       "3535              2.0  exotic,high-performance      midsize   \n",
       "8763              2.0              performance      compact   \n",
       "\n",
       "            vehicle_style  highway_mpg  city_mpg  popularity    msrp  \n",
       "8929                sedan           24        17         870    2500  \n",
       "8806  extended_cab_pickup           25        21         549    2000  \n",
       "7233                sedan           26        17          26    2000  \n",
       "3535          convertible           18        12         259  283900  \n",
       "8763   regular_cab_pickup           20        15        1385   21499  "
      ]
     },
     "execution_count": 34,
     "metadata": {},
     "output_type": "execute_result"
    }
   ],
   "source": [
    "df_train.head()"
   ]
  },
  {
   "cell_type": "markdown",
   "id": "bbfac5bd-e621-429d-8b00-4b810f383cfe",
   "metadata": {},
   "source": [
    "The dataset is now shuffled, this prevents coincidences"
   ]
  },
  {
   "cell_type": "code",
   "execution_count": null,
   "id": "483ccb2b-b83a-4698-992f-5100d1f7c10b",
   "metadata": {},
   "outputs": [],
   "source": []
  },
  {
   "cell_type": "markdown",
   "id": "d2fcd76a-c6f8-4954-bd9c-8eca8c2231c0",
   "metadata": {},
   "source": [
    "### Deleting y-series from X"
   ]
  },
  {
   "cell_type": "code",
   "execution_count": 35,
   "id": "9b3d56c9-0610-45d7-b62d-20ba1342289e",
   "metadata": {},
   "outputs": [],
   "source": [
    "# Get the values only, we dont need the index\n",
    "y_train = df_train.msrp.values\n",
    "y_val = df_val.msrp.values\n",
    "y_test = df_test.msrp.values"
   ]
  },
  {
   "cell_type": "code",
   "execution_count": 36,
   "id": "058c1c80-83a7-4706-9703-27384a6c9f8d",
   "metadata": {},
   "outputs": [
    {
     "data": {
      "text/plain": [
       "array([ 2500,  2000,  2000, ...,  2000, 21095, 29770], dtype=int64)"
      ]
     },
     "execution_count": 36,
     "metadata": {},
     "output_type": "execute_result"
    }
   ],
   "source": [
    "y_train"
   ]
  },
  {
   "cell_type": "code",
   "execution_count": 37,
   "id": "5e45d328-dd30-4596-8d88-0d41b7a821bb",
   "metadata": {},
   "outputs": [
    {
     "data": {
      "text/plain": [
       "(7150, 2382, 2382)"
      ]
     },
     "execution_count": 37,
     "metadata": {},
     "output_type": "execute_result"
    }
   ],
   "source": [
    "len(y_train), len(y_val), len(y_test)"
   ]
  },
  {
   "cell_type": "code",
   "execution_count": null,
   "id": "0ec7758e-c3a0-4175-8091-f3a408090bc7",
   "metadata": {},
   "outputs": [],
   "source": []
  },
  {
   "cell_type": "markdown",
   "id": "fd55d5fe-371a-4dae-82ad-ed63956886f8",
   "metadata": {},
   "source": [
    "Reset the index"
   ]
  },
  {
   "cell_type": "code",
   "execution_count": 38,
   "id": "b74d9200-39eb-44b6-a517-d497e11c9668",
   "metadata": {},
   "outputs": [
    {
     "data": {
      "text/html": [
       "<div>\n",
       "<style scoped>\n",
       "    .dataframe tbody tr th:only-of-type {\n",
       "        vertical-align: middle;\n",
       "    }\n",
       "\n",
       "    .dataframe tbody tr th {\n",
       "        vertical-align: top;\n",
       "    }\n",
       "\n",
       "    .dataframe thead th {\n",
       "        text-align: right;\n",
       "    }\n",
       "</style>\n",
       "<table border=\"1\" class=\"dataframe\">\n",
       "  <thead>\n",
       "    <tr style=\"text-align: right;\">\n",
       "      <th></th>\n",
       "      <th>make</th>\n",
       "      <th>model</th>\n",
       "      <th>year</th>\n",
       "      <th>engine_fuel_type</th>\n",
       "      <th>engine_hp</th>\n",
       "      <th>engine_cylinders</th>\n",
       "      <th>transmission_type</th>\n",
       "      <th>driven_wheels</th>\n",
       "      <th>number_of_doors</th>\n",
       "      <th>market_category</th>\n",
       "      <th>vehicle_size</th>\n",
       "      <th>vehicle_style</th>\n",
       "      <th>highway_mpg</th>\n",
       "      <th>city_mpg</th>\n",
       "      <th>popularity</th>\n",
       "      <th>msrp</th>\n",
       "    </tr>\n",
       "  </thead>\n",
       "  <tbody>\n",
       "    <tr>\n",
       "      <th>8929</th>\n",
       "      <td>volvo</td>\n",
       "      <td>s70</td>\n",
       "      <td>2000</td>\n",
       "      <td>regular_unleaded</td>\n",
       "      <td>190.0</td>\n",
       "      <td>5.0</td>\n",
       "      <td>automatic</td>\n",
       "      <td>front_wheel_drive</td>\n",
       "      <td>4.0</td>\n",
       "      <td>luxury</td>\n",
       "      <td>midsize</td>\n",
       "      <td>sedan</td>\n",
       "      <td>24</td>\n",
       "      <td>17</td>\n",
       "      <td>870</td>\n",
       "      <td>2500</td>\n",
       "    </tr>\n",
       "    <tr>\n",
       "      <th>8806</th>\n",
       "      <td>gmc</td>\n",
       "      <td>s-15</td>\n",
       "      <td>1990</td>\n",
       "      <td>regular_unleaded</td>\n",
       "      <td>105.0</td>\n",
       "      <td>4.0</td>\n",
       "      <td>manual</td>\n",
       "      <td>rear_wheel_drive</td>\n",
       "      <td>2.0</td>\n",
       "      <td>NaN</td>\n",
       "      <td>compact</td>\n",
       "      <td>extended_cab_pickup</td>\n",
       "      <td>25</td>\n",
       "      <td>21</td>\n",
       "      <td>549</td>\n",
       "      <td>2000</td>\n",
       "    </tr>\n",
       "    <tr>\n",
       "      <th>7233</th>\n",
       "      <td>oldsmobile</td>\n",
       "      <td>ninety-eight</td>\n",
       "      <td>1995</td>\n",
       "      <td>regular_unleaded</td>\n",
       "      <td>225.0</td>\n",
       "      <td>6.0</td>\n",
       "      <td>automatic</td>\n",
       "      <td>front_wheel_drive</td>\n",
       "      <td>4.0</td>\n",
       "      <td>NaN</td>\n",
       "      <td>large</td>\n",
       "      <td>sedan</td>\n",
       "      <td>26</td>\n",
       "      <td>17</td>\n",
       "      <td>26</td>\n",
       "      <td>2000</td>\n",
       "    </tr>\n",
       "    <tr>\n",
       "      <th>3535</th>\n",
       "      <td>aston_martin</td>\n",
       "      <td>dbs</td>\n",
       "      <td>2010</td>\n",
       "      <td>premium_unleaded_(required)</td>\n",
       "      <td>510.0</td>\n",
       "      <td>12.0</td>\n",
       "      <td>automatic</td>\n",
       "      <td>rear_wheel_drive</td>\n",
       "      <td>2.0</td>\n",
       "      <td>exotic,high-performance</td>\n",
       "      <td>midsize</td>\n",
       "      <td>convertible</td>\n",
       "      <td>18</td>\n",
       "      <td>12</td>\n",
       "      <td>259</td>\n",
       "      <td>283900</td>\n",
       "    </tr>\n",
       "    <tr>\n",
       "      <th>8763</th>\n",
       "      <td>chevrolet</td>\n",
       "      <td>s-10</td>\n",
       "      <td>2002</td>\n",
       "      <td>regular_unleaded</td>\n",
       "      <td>190.0</td>\n",
       "      <td>6.0</td>\n",
       "      <td>automatic</td>\n",
       "      <td>rear_wheel_drive</td>\n",
       "      <td>2.0</td>\n",
       "      <td>performance</td>\n",
       "      <td>compact</td>\n",
       "      <td>regular_cab_pickup</td>\n",
       "      <td>20</td>\n",
       "      <td>15</td>\n",
       "      <td>1385</td>\n",
       "      <td>21499</td>\n",
       "    </tr>\n",
       "  </tbody>\n",
       "</table>\n",
       "</div>"
      ],
      "text/plain": [
       "              make         model  year             engine_fuel_type  \\\n",
       "8929         volvo           s70  2000             regular_unleaded   \n",
       "8806           gmc          s-15  1990             regular_unleaded   \n",
       "7233    oldsmobile  ninety-eight  1995             regular_unleaded   \n",
       "3535  aston_martin           dbs  2010  premium_unleaded_(required)   \n",
       "8763     chevrolet          s-10  2002             regular_unleaded   \n",
       "\n",
       "      engine_hp  engine_cylinders transmission_type      driven_wheels  \\\n",
       "8929      190.0               5.0         automatic  front_wheel_drive   \n",
       "8806      105.0               4.0            manual   rear_wheel_drive   \n",
       "7233      225.0               6.0         automatic  front_wheel_drive   \n",
       "3535      510.0              12.0         automatic   rear_wheel_drive   \n",
       "8763      190.0               6.0         automatic   rear_wheel_drive   \n",
       "\n",
       "      number_of_doors          market_category vehicle_size  \\\n",
       "8929              4.0                   luxury      midsize   \n",
       "8806              2.0                      NaN      compact   \n",
       "7233              4.0                      NaN        large   \n",
       "3535              2.0  exotic,high-performance      midsize   \n",
       "8763              2.0              performance      compact   \n",
       "\n",
       "            vehicle_style  highway_mpg  city_mpg  popularity    msrp  \n",
       "8929                sedan           24        17         870    2500  \n",
       "8806  extended_cab_pickup           25        21         549    2000  \n",
       "7233                sedan           26        17          26    2000  \n",
       "3535          convertible           18        12         259  283900  \n",
       "8763   regular_cab_pickup           20        15        1385   21499  "
      ]
     },
     "execution_count": 38,
     "metadata": {},
     "output_type": "execute_result"
    }
   ],
   "source": [
    "df_train.head()"
   ]
  },
  {
   "cell_type": "code",
   "execution_count": 39,
   "id": "248bbda4-d32d-4524-84b5-c19d5ee25cfa",
   "metadata": {},
   "outputs": [],
   "source": [
    "df_train = df_train.reset_index(drop=True)\n",
    "df_val = df_val.reset_index(drop=True)\n",
    "df_test = df_test.reset_index(drop=True)"
   ]
  },
  {
   "cell_type": "code",
   "execution_count": 40,
   "id": "f0ea251c-9859-4e66-9406-21bf06519ed2",
   "metadata": {},
   "outputs": [],
   "source": [
    "y_train = np.log1p(df_train.msrp.values)\n",
    "y_val = np.log1p(df_val.msrp.values)\n",
    "y_test = np.log1p(df_test.msrp.values)"
   ]
  },
  {
   "cell_type": "code",
   "execution_count": 41,
   "id": "1f4504fc-51af-4e4a-9994-e159695d08e2",
   "metadata": {},
   "outputs": [],
   "source": [
    "del df_train['msrp']\n",
    "del df_val['msrp']\n",
    "del df_test['msrp']"
   ]
  },
  {
   "cell_type": "markdown",
   "id": "246bec8a-6732-464d-a233-8877e0d7eb79",
   "metadata": {},
   "source": [
    "---"
   ]
  },
  {
   "cell_type": "markdown",
   "id": "ec5e282a-acd4-41a5-b7d1-cebbabbf9f00",
   "metadata": {},
   "source": [
    "## 2.5 Linear Regression"
   ]
  },
  {
   "cell_type": "raw",
   "id": "96d43817-b437-4b6e-897c-c44635b80321",
   "metadata": {},
   "source": [
    "We want to predict the price of xi, given its features\n",
    "To do this, we have to make a linear regression model.\n",
    "Steps:\n",
    "1. Take the features\n",
    "2. Define weight for each features\n",
    "3. Return the sum of the biased term and the summation of features * weight\n",
    "4. Fix return value by de-applying log with exponential"
   ]
  },
  {
   "cell_type": "code",
   "execution_count": 42,
   "id": "6bcdb8d8-d8ee-4649-bd36-355a3eee0c09",
   "metadata": {},
   "outputs": [
    {
     "data": {
      "text/plain": [
       "make                            toyota\n",
       "model                           sienna\n",
       "year                              2016\n",
       "engine_fuel_type      regular_unleaded\n",
       "engine_hp                        266.0\n",
       "engine_cylinders                   6.0\n",
       "transmission_type            automatic\n",
       "driven_wheels          all_wheel_drive\n",
       "number_of_doors                    4.0\n",
       "market_category                    NaN\n",
       "vehicle_size                     large\n",
       "vehicle_style        passenger_minivan\n",
       "highway_mpg                         23\n",
       "city_mpg                            16\n",
       "popularity                        2031\n",
       "Name: 10, dtype: object"
      ]
     },
     "execution_count": 42,
     "metadata": {},
     "output_type": "execute_result"
    }
   ],
   "source": [
    "xi = df_train.iloc[10] # take the 10th index for example\n",
    "xi"
   ]
  },
  {
   "cell_type": "code",
   "execution_count": null,
   "id": "ceeb80d1-eca1-407d-ae9e-6a4c8b74c1dc",
   "metadata": {},
   "outputs": [],
   "source": []
  },
  {
   "cell_type": "markdown",
   "id": "2e7f9534-4432-4502-bc16-5ae8e7542c2c",
   "metadata": {},
   "source": [
    "### 1. Take the features"
   ]
  },
  {
   "cell_type": "raw",
   "id": "9a0bd4c7-67f8-46b4-bff1-9d6514979358",
   "metadata": {},
   "source": [
    "For the sake of demonstration, we only take 3 numerical features: [engine_hp, city_mpg, popularity]"
   ]
  },
  {
   "cell_type": "code",
   "execution_count": 43,
   "id": "1ab6545c-5b03-4b1b-8a34-09b0295a7c58",
   "metadata": {},
   "outputs": [
    {
     "data": {
      "text/plain": [
       "array([266.0, 16, 2031], dtype=object)"
      ]
     },
     "execution_count": 43,
     "metadata": {},
     "output_type": "execute_result"
    }
   ],
   "source": [
    "feature = xi[ ['engine_hp', 'city_mpg', 'popularity'] ].values\n",
    "feature"
   ]
  },
  {
   "cell_type": "code",
   "execution_count": null,
   "id": "eefb251e-5743-4a99-8ad0-c380b294ce8b",
   "metadata": {},
   "outputs": [],
   "source": []
  },
  {
   "cell_type": "markdown",
   "id": "ea72f9d5-1691-4dfb-a8fb-41221a8564d2",
   "metadata": {},
   "source": [
    "### 2. Define weight"
   ]
  },
  {
   "cell_type": "raw",
   "id": "f05d3ecf-428c-45bb-b4ab-3fde8d0070dd",
   "metadata": {},
   "source": [
    "We haven't implemented a machine learning algorithm that determines the weight for each feature.\n",
    "I think weight refers to how much a feature can influence the target variable.\n",
    "In this module, we only defined tentative weights."
   ]
  },
  {
   "cell_type": "code",
   "execution_count": 44,
   "id": "2e72bb96-99be-4a1e-aade-9a6b91719ae5",
   "metadata": {},
   "outputs": [],
   "source": [
    "weight = [0.02, 0.01, 0.004]\n",
    "w0 = 2.17"
   ]
  },
  {
   "cell_type": "code",
   "execution_count": null,
   "id": "e03fc1b1-b746-494e-aa61-b6a85ecea7b8",
   "metadata": {},
   "outputs": [],
   "source": []
  },
  {
   "cell_type": "markdown",
   "id": "ad40e02f-db5a-4fed-8d5f-fecd264dedca",
   "metadata": {},
   "source": [
    "### 3. Build linear regression model"
   ]
  },
  {
   "cell_type": "code",
   "execution_count": 45,
   "id": "413c422a-a498-4ac3-83cd-6f836469cea0",
   "metadata": {},
   "outputs": [],
   "source": [
    "def linear_regression(xi):\n",
    "    n = len(feature)\n",
    "    pred = w0\n",
    "    \n",
    "    for i in range(n):\n",
    "        pred = pred + feature[i] * weight[i]\n",
    "    \n",
    "    return pred "
   ]
  },
  {
   "cell_type": "code",
   "execution_count": 46,
   "id": "788c1338-7561-4f7f-ac72-80da304d5a27",
   "metadata": {},
   "outputs": [
    {
     "data": {
      "text/plain": [
       "15.774000000000001"
      ]
     },
     "execution_count": 46,
     "metadata": {},
     "output_type": "execute_result"
    }
   ],
   "source": [
    "y_pred = linear_regression(xi)\n",
    "y_pred"
   ]
  },
  {
   "cell_type": "code",
   "execution_count": null,
   "id": "3ebb221a-b6d4-4c27-b696-38163be0fabe",
   "metadata": {},
   "outputs": [],
   "source": []
  },
  {
   "cell_type": "markdown",
   "id": "92e966ad-454d-441c-bc2f-739b44c44abb",
   "metadata": {},
   "source": [
    "### 4. Apply exponential on model's return value"
   ]
  },
  {
   "cell_type": "raw",
   "id": "67f02e13-bd58-43f6-9154-5a02932ec6e5",
   "metadata": {},
   "source": [
    "The data does not represent the final price.\n",
    "Remember that we applied log to the price.\n",
    "Now, we have to apply the reverse of log, which is exponential, to the predicted value."
   ]
  },
  {
   "cell_type": "code",
   "execution_count": 47,
   "id": "f7e61345-2d30-4eca-bf4b-0ac323beaef4",
   "metadata": {},
   "outputs": [
    {
     "data": {
      "text/plain": [
       "15.774000000000001"
      ]
     },
     "execution_count": 47,
     "metadata": {},
     "output_type": "execute_result"
    }
   ],
   "source": [
    "y_pred"
   ]
  },
  {
   "cell_type": "code",
   "execution_count": 48,
   "id": "5b4d3bb5-175a-4c7b-8c02-b7d84f7e8642",
   "metadata": {},
   "outputs": [
    {
     "data": {
      "text/plain": [
       "7088611.215610923"
      ]
     },
     "execution_count": 48,
     "metadata": {},
     "output_type": "execute_result"
    }
   ],
   "source": [
    "np.exp(y_pred)"
   ]
  },
  {
   "cell_type": "code",
   "execution_count": 49,
   "id": "4814367b-3739-4bf8-aff4-547737e50d7f",
   "metadata": {},
   "outputs": [
    {
     "data": {
      "text/plain": [
       "15.774000000000001"
      ]
     },
     "execution_count": 49,
     "metadata": {},
     "output_type": "execute_result"
    }
   ],
   "source": [
    "np.log(np.exp(y_pred))"
   ]
  },
  {
   "cell_type": "markdown",
   "id": "d2014ef6-08cb-411e-a80a-93c8c0e39d05",
   "metadata": {},
   "source": [
    "Use expm1 (-1) because we used log1p (+1).\n",
    "They negate each other, giving the original final price"
   ]
  },
  {
   "cell_type": "code",
   "execution_count": 50,
   "id": "8c72415f-ec40-4595-a0e7-e4607e04e165",
   "metadata": {},
   "outputs": [
    {
     "data": {
      "text/plain": [
       "7088610.215610923"
      ]
     },
     "execution_count": 50,
     "metadata": {},
     "output_type": "execute_result"
    }
   ],
   "source": [
    "y_pred = np.expm1(y_pred) # np.exp(x) - 1\n",
    "y_pred # y_pred is now the actual predicted car price ($)"
   ]
  },
  {
   "cell_type": "code",
   "execution_count": 51,
   "id": "27f64fd8-7e1c-4c32-b55e-799e1fd823fb",
   "metadata": {},
   "outputs": [
    {
     "data": {
      "text/plain": [
       "15.774000000000001"
      ]
     },
     "execution_count": 51,
     "metadata": {},
     "output_type": "execute_result"
    }
   ],
   "source": [
    "y_pred = np.log1p(y_pred)\n",
    "y_pred"
   ]
  },
  {
   "cell_type": "markdown",
   "id": "94b61b6f-c204-4ed6-8870-c8a863d4bd66",
   "metadata": {},
   "source": [
    "---"
   ]
  },
  {
   "cell_type": "markdown",
   "id": "76767288-31a4-474b-bbfb-1bdf3c0e132f",
   "metadata": {},
   "source": [
    "## Linear Regression: Vector Form"
   ]
  },
  {
   "cell_type": "raw",
   "id": "d7a25b53-2041-4fe5-bc87-6f97a6d2f677",
   "metadata": {},
   "source": [
    "Summary:\n",
    "The linear regression model can be done using matrix-vector multiplication.\n",
    "Appended the biased term to the weight vector.\n",
    "Consequently, append a column of 1's to the X matrix, to match the dimension for multiplication."
   ]
  },
  {
   "cell_type": "code",
   "execution_count": 52,
   "id": "1386cbfe-45cb-4ff9-acc0-1af3c8d3d0d1",
   "metadata": {},
   "outputs": [
    {
     "data": {
      "text/plain": [
       "array([266.0, 16, 2031], dtype=object)"
      ]
     },
     "execution_count": 52,
     "metadata": {},
     "output_type": "execute_result"
    }
   ],
   "source": [
    "xi = feature\n",
    "xi"
   ]
  },
  {
   "cell_type": "code",
   "execution_count": 53,
   "id": "4ea169b8-3d93-4739-84cc-16c1f05bf620",
   "metadata": {},
   "outputs": [],
   "source": [
    "w0 = 7.17\n",
    "w = [0.01, 0.04, 0.002]"
   ]
  },
  {
   "cell_type": "code",
   "execution_count": 54,
   "id": "45c6e623-d0ec-4caf-8b60-f5e46320b5b3",
   "metadata": {},
   "outputs": [],
   "source": [
    "def linear_regression(xi):\n",
    "    n = len(xi)\n",
    "    pred = w0\n",
    "    \n",
    "    for i in range(n):\n",
    "        pred = pred + xi[i] * w[i]\n",
    "    \n",
    "    return pred "
   ]
  },
  {
   "cell_type": "code",
   "execution_count": 55,
   "id": "56d0ca03-8912-4d5c-9f33-c6ecaa7d69ca",
   "metadata": {},
   "outputs": [
    {
     "data": {
      "text/plain": [
       "14.532"
      ]
     },
     "execution_count": 55,
     "metadata": {},
     "output_type": "execute_result"
    }
   ],
   "source": [
    "linear_regression(xi)"
   ]
  },
  {
   "cell_type": "code",
   "execution_count": 56,
   "id": "b96a10b3-6be6-465a-a14a-ae8d58f2ea39",
   "metadata": {},
   "outputs": [
    {
     "data": {
      "text/plain": [
       "14.532"
      ]
     },
     "execution_count": 56,
     "metadata": {},
     "output_type": "execute_result"
    }
   ],
   "source": [
    "w0 + xi.dot(w)"
   ]
  },
  {
   "cell_type": "code",
   "execution_count": null,
   "id": "475daea9-5906-40d6-94b3-ff97f299fc7b",
   "metadata": {},
   "outputs": [],
   "source": []
  },
  {
   "cell_type": "markdown",
   "id": "0597d739-d047-4036-9b0f-5f61e0f39923",
   "metadata": {},
   "source": [
    "We can get the dot product of feature and weights, then add to biased term"
   ]
  },
  {
   "cell_type": "code",
   "execution_count": 57,
   "id": "0d5ea168-b37a-46f2-afc9-20d486c1e6fa",
   "metadata": {},
   "outputs": [],
   "source": [
    "def dot(xi, w):\n",
    "    n = len(xi)\n",
    "    prod = 0\n",
    "    for i in range(n):\n",
    "        prod = prod + xi[i] * w[i]\n",
    "    return prod"
   ]
  },
  {
   "cell_type": "code",
   "execution_count": 58,
   "id": "27220047-443b-43fc-900a-b63989bd9026",
   "metadata": {},
   "outputs": [],
   "source": [
    "def linear_regression(xi):\n",
    "    return w0 + dot(xi, w)"
   ]
  },
  {
   "cell_type": "code",
   "execution_count": 59,
   "id": "257114a8-1f82-4a1d-b2eb-378effe9200e",
   "metadata": {},
   "outputs": [
    {
     "data": {
      "text/plain": [
       "14.532"
      ]
     },
     "execution_count": 59,
     "metadata": {},
     "output_type": "execute_result"
    }
   ],
   "source": [
    "linear_regression(xi)"
   ]
  },
  {
   "cell_type": "code",
   "execution_count": 60,
   "id": "b04c5980-305f-4244-9a08-527fbbfbbd31",
   "metadata": {},
   "outputs": [
    {
     "data": {
      "text/plain": [
       "array([266.0, 16, 2031], dtype=object)"
      ]
     },
     "execution_count": 60,
     "metadata": {},
     "output_type": "execute_result"
    }
   ],
   "source": [
    "xi"
   ]
  },
  {
   "cell_type": "code",
   "execution_count": null,
   "id": "d4749a68-cf87-440a-89fc-db8e5c4871ae",
   "metadata": {},
   "outputs": [],
   "source": []
  },
  {
   "cell_type": "markdown",
   "id": "54ccedae-1f69-4897-b5c0-a37c49a82fe2",
   "metadata": {},
   "source": [
    "We can combine the w0 to the weights, should also append 1 to match the matrix size."
   ]
  },
  {
   "cell_type": "code",
   "execution_count": 61,
   "id": "909df592-8903-4ed0-be3d-1a157c8de93a",
   "metadata": {},
   "outputs": [],
   "source": [
    "def linear_regression(xi):\n",
    "    xi = [1] + list(xi)\n",
    "    w_new = [w0] + w\n",
    "    return dot(xi, w_new)"
   ]
  },
  {
   "cell_type": "code",
   "execution_count": 62,
   "id": "eaefd97e-01c1-4bb8-b0e8-e4799f184b2a",
   "metadata": {},
   "outputs": [
    {
     "data": {
      "text/plain": [
       "14.532"
      ]
     },
     "execution_count": 62,
     "metadata": {},
     "output_type": "execute_result"
    }
   ],
   "source": [
    "linear_regression(xi)"
   ]
  },
  {
   "cell_type": "code",
   "execution_count": 63,
   "id": "563ee93b-d6f9-494a-8b44-2cb5ba61c2a4",
   "metadata": {},
   "outputs": [
    {
     "data": {
      "text/plain": [
       "[1, 266.0, 16, 2031]"
      ]
     },
     "execution_count": 63,
     "metadata": {},
     "output_type": "execute_result"
    }
   ],
   "source": [
    "# the operands should be a python list to concatenate\n",
    "[1] + list(xi)"
   ]
  },
  {
   "cell_type": "code",
   "execution_count": 64,
   "id": "7b698b93-f489-4450-9fc0-63e38218bc21",
   "metadata": {},
   "outputs": [
    {
     "data": {
      "text/plain": [
       "array([267.0, 17, 2032], dtype=object)"
      ]
     },
     "execution_count": 64,
     "metadata": {},
     "output_type": "execute_result"
    }
   ],
   "source": [
    "[1] + xi"
   ]
  },
  {
   "cell_type": "code",
   "execution_count": null,
   "id": "ceac7160-c70c-40be-a86c-2bf35b65c08a",
   "metadata": {},
   "outputs": [],
   "source": []
  },
  {
   "cell_type": "code",
   "execution_count": 65,
   "id": "7524fd4d-98c7-44af-a477-06a216a2a1dd",
   "metadata": {},
   "outputs": [
    {
     "data": {
      "text/plain": [
       "array([[ 148,   24, 1385],\n",
       "       [ 132,   25, 2031],\n",
       "       [ 453,   11,   86]])"
      ]
     },
     "execution_count": 65,
     "metadata": {},
     "output_type": "execute_result"
    }
   ],
   "source": [
    "x1  = [148, 24, 1385]\n",
    "x2  = [132, 25, 2031]\n",
    "x10 = [453, 11, 86]\n",
    "X = [x1, x2, x10]\n",
    "X = np.array(X) # convert to np array to use the dot function\n",
    "X"
   ]
  },
  {
   "cell_type": "code",
   "execution_count": 66,
   "id": "c3a67379-edd2-439e-8e64-dd8ea77641ef",
   "metadata": {},
   "outputs": [
    {
     "data": {
      "text/plain": [
       "[0.01, 0.04, 0.002]"
      ]
     },
     "execution_count": 66,
     "metadata": {},
     "output_type": "execute_result"
    }
   ],
   "source": [
    "w"
   ]
  },
  {
   "cell_type": "code",
   "execution_count": 67,
   "id": "715490b2-62b0-4669-a102-b470a0c324b0",
   "metadata": {},
   "outputs": [],
   "source": [
    "def linear_regression(X, w):\n",
    "    n = len(X)\n",
    "\n",
    "    X_new = np.ones((n, X.shape[1] + 1))\n",
    "    X_new[:, 1:] = X # selects all rows, starts from column 1 to end\n",
    "    X = X_new\n",
    "    X = np.array(X)\n",
    "    w_new = [w0] + w\n",
    "\n",
    "    return X.dot(w_new)"
   ]
  },
  {
   "cell_type": "code",
   "execution_count": 68,
   "id": "285d172d-07e0-436c-a7f6-c5ef2c75ff2e",
   "metadata": {},
   "outputs": [
    {
     "data": {
      "text/plain": [
       "[7.17, 0.01, 0.04, 0.002]"
      ]
     },
     "execution_count": 68,
     "metadata": {},
     "output_type": "execute_result"
    }
   ],
   "source": [
    "[w0] + w"
   ]
  },
  {
   "cell_type": "code",
   "execution_count": 69,
   "id": "f17d2d50-842a-438a-aad6-ccac287686cc",
   "metadata": {},
   "outputs": [
    {
     "data": {
      "text/plain": [
       "[1, 148, 24, 1385]"
      ]
     },
     "execution_count": 69,
     "metadata": {},
     "output_type": "execute_result"
    }
   ],
   "source": [
    "[1] + list(X[0])"
   ]
  },
  {
   "cell_type": "code",
   "execution_count": 70,
   "id": "b7705baf-8c75-46b5-b8d4-81d6e713d6d0",
   "metadata": {},
   "outputs": [
    {
     "data": {
      "text/plain": [
       "array([12.38 , 13.552, 12.312])"
      ]
     },
     "execution_count": 70,
     "metadata": {},
     "output_type": "execute_result"
    }
   ],
   "source": [
    "# prediction for 3 cars\n",
    "linear_regression(X, w)"
   ]
  },
  {
   "cell_type": "code",
   "execution_count": 71,
   "id": "f0aef27c-0622-4053-a409-b922978497cf",
   "metadata": {},
   "outputs": [
    {
     "data": {
      "text/plain": [
       "12.379999999999999"
      ]
     },
     "execution_count": 71,
     "metadata": {},
     "output_type": "execute_result"
    }
   ],
   "source": [
    "np.array(x1).dot(w) + w0"
   ]
  },
  {
   "cell_type": "code",
   "execution_count": 72,
   "id": "40d467c2-71ac-4c87-8f5f-8e3974cc84ad",
   "metadata": {},
   "outputs": [
    {
     "data": {
      "text/plain": [
       "13.552"
      ]
     },
     "execution_count": 72,
     "metadata": {},
     "output_type": "execute_result"
    }
   ],
   "source": [
    "np.array(x2).dot(w) + w0"
   ]
  },
  {
   "cell_type": "code",
   "execution_count": 73,
   "id": "d603d58d-d40b-4e77-94f3-efd9eaf95a58",
   "metadata": {},
   "outputs": [
    {
     "data": {
      "text/plain": [
       "12.312000000000001"
      ]
     },
     "execution_count": 73,
     "metadata": {},
     "output_type": "execute_result"
    }
   ],
   "source": [
    "np.array(x10).dot(w) + w0"
   ]
  },
  {
   "cell_type": "markdown",
   "id": "5acf813f-87a8-4e7e-90d4-2ee75801bbac",
   "metadata": {},
   "source": [
    "---"
   ]
  },
  {
   "cell_type": "markdown",
   "id": "5aa4b748-d48a-407c-a3a3-fd24126e8464",
   "metadata": {},
   "source": [
    "## 2.7 Training Linear Regression: Normal Equation"
   ]
  },
  {
   "cell_type": "raw",
   "id": "2f657b37-9c2f-4de0-b7f0-ac646df386db",
   "metadata": {},
   "source": [
    "Summary: This is lesson is about finding values for weights.\n",
    "From g(X) = y --> Xw = y\n",
    "To w = (XTX)^-1 (XT) y\n",
    "Add a column of 1's to X to include the biased term in the weights generated."
   ]
  },
  {
   "cell_type": "code",
   "execution_count": 74,
   "id": "2f6e5bf5-6dca-4142-9fec-79c0372e8a67",
   "metadata": {},
   "outputs": [
    {
     "data": {
      "text/plain": [
       "array([[ 148,   24, 1385],\n",
       "       [ 132,   25, 2031],\n",
       "       [ 453,   11,   86],\n",
       "       [ 158,   24,  185],\n",
       "       [ 172,   25,  201],\n",
       "       [ 413,   11,   83],\n",
       "       [  38,   54,  185],\n",
       "       [ 142,   25,  431],\n",
       "       [ 453,   31,   86]])"
      ]
     },
     "execution_count": 74,
     "metadata": {},
     "output_type": "execute_result"
    }
   ],
   "source": [
    "X =[\n",
    "    [148, 24, 1385],\n",
    "    [132, 25, 2031],\n",
    "    [453, 11, 86],\n",
    "    [158, 24, 185],\n",
    "    [172, 25, 201],\n",
    "    [413, 11, 83],\n",
    "    [38, 54, 185],\n",
    "    [142, 25, 431],\n",
    "    [453, 31, 86],  \n",
    "]\n",
    "X = np.array(X)\n",
    "X"
   ]
  },
  {
   "cell_type": "code",
   "execution_count": 75,
   "id": "751c3829-5263-4d63-9459-9b2753787abe",
   "metadata": {},
   "outputs": [],
   "source": [
    "y = [10000, 20000, 15000, 25000, 10000, 20000, 15000, 25000, 12000]"
   ]
  },
  {
   "cell_type": "code",
   "execution_count": 76,
   "id": "fdf6f5dd-6287-4cfc-8656-65552bfdf976",
   "metadata": {},
   "outputs": [],
   "source": [
    "def train_linear_regression(X, y):\n",
    "    XTX = X.T.dot(X)\n",
    "    XTX_inv = np.linalg.inv(XTX)\n",
    "    w_full = XTX_inv.dot(X.T).dot(y)\n",
    "\n",
    "    return w_full"
   ]
  },
  {
   "cell_type": "code",
   "execution_count": 77,
   "id": "ea4263e9-9023-4082-aeab-01523ef800e4",
   "metadata": {},
   "outputs": [
    {
     "data": {
      "text/plain": [
       "array([ 26.19943604, 306.12971274,   3.6929271 ])"
      ]
     },
     "execution_count": 77,
     "metadata": {},
     "output_type": "execute_result"
    }
   ],
   "source": [
    "train_linear_regression(X, y)"
   ]
  },
  {
   "cell_type": "code",
   "execution_count": null,
   "id": "bb85f9a4-a5d7-4ade-b207-a6baf1c23d9f",
   "metadata": {},
   "outputs": [],
   "source": []
  },
  {
   "cell_type": "code",
   "execution_count": 78,
   "id": "b68be39f-377b-49e4-a4d0-d5536b42a64d",
   "metadata": {},
   "outputs": [],
   "source": [
    "def train_linear_regression(X, y):\n",
    "    # To include the biased term in the calculation, add a column of 1's to the start of X.\n",
    "    ones = np.ones(len(X))\n",
    "    X = np.column_stack((ones, X))\n",
    "    \n",
    "    XTX = X.T.dot(X)\n",
    "    XTX_inv = np.linalg.inv(XTX)\n",
    "    \n",
    "    w_full = XTX_inv.dot(X.T).dot(y)\n",
    "    w0 = w_full[0]\n",
    "\n",
    "    return w0, w_full[1:]"
   ]
  },
  {
   "cell_type": "code",
   "execution_count": 79,
   "id": "0d8bcac2-5b6b-4735-b3d4-fa11eaf77efb",
   "metadata": {},
   "outputs": [
    {
     "data": {
      "text/plain": [
       "(30009.2529227667, array([ -22.78396914, -257.69087426,   -2.30322797]))"
      ]
     },
     "execution_count": 79,
     "metadata": {},
     "output_type": "execute_result"
    }
   ],
   "source": [
    "train_linear_regression(X, y)"
   ]
  },
  {
   "cell_type": "markdown",
   "id": "148f3feb-151e-44fd-a796-52a8165e1d98",
   "metadata": {},
   "source": [
    "---"
   ]
  },
  {
   "cell_type": "markdown",
   "id": "f5d0b565-ac3a-414f-91ba-237111d49b42",
   "metadata": {},
   "source": [
    "## 2.8 Baseline Model for Car Prediction"
   ]
  },
  {
   "cell_type": "raw",
   "id": "83ce30a0-de56-4322-bec2-3fb1dd46269d",
   "metadata": {},
   "source": [
    "Summary:\n",
    "Trained a model using training dataset for X and y.\n",
    "Filled null values with 0. Not the best way to handle null, mean could be better.\n",
    "Visually compared y_target and y_pred.\n",
    "We have not yet used the non-integer datafields in training a model.\n",
    "REMEMBER: Apply use the log of training target before training model."
   ]
  },
  {
   "cell_type": "code",
   "execution_count": 80,
   "id": "e6be6c28-278b-4ba0-8e8a-fbeb5b73fdbd",
   "metadata": {},
   "outputs": [],
   "source": [
    "def train_linear_regression(X, y):\n",
    "    # To include the biased term in the calculation, add a column of 1's to the start of X.\n",
    "    ones = np.ones(X.shape[0])\n",
    "    X = np.column_stack([ones, X])\n",
    "    \n",
    "    XTX = X.T.dot(X)\n",
    "    XTX_inv = np.linalg.inv(XTX)\n",
    "    \n",
    "    w_full = XTX_inv.dot(X.T).dot(y)\n",
    "    w0 = w_full[0]\n",
    "\n",
    "    return w0, w_full[1:]"
   ]
  },
  {
   "cell_type": "code",
   "execution_count": 81,
   "id": "9c6518b2-2a9f-42d6-b283-2d4885d5650c",
   "metadata": {},
   "outputs": [
    {
     "data": {
      "text/html": [
       "<div>\n",
       "<style scoped>\n",
       "    .dataframe tbody tr th:only-of-type {\n",
       "        vertical-align: middle;\n",
       "    }\n",
       "\n",
       "    .dataframe tbody tr th {\n",
       "        vertical-align: top;\n",
       "    }\n",
       "\n",
       "    .dataframe thead th {\n",
       "        text-align: right;\n",
       "    }\n",
       "</style>\n",
       "<table border=\"1\" class=\"dataframe\">\n",
       "  <thead>\n",
       "    <tr style=\"text-align: right;\">\n",
       "      <th></th>\n",
       "      <th>make</th>\n",
       "      <th>model</th>\n",
       "      <th>year</th>\n",
       "      <th>engine_fuel_type</th>\n",
       "      <th>engine_hp</th>\n",
       "      <th>engine_cylinders</th>\n",
       "      <th>transmission_type</th>\n",
       "      <th>driven_wheels</th>\n",
       "      <th>number_of_doors</th>\n",
       "      <th>market_category</th>\n",
       "      <th>vehicle_size</th>\n",
       "      <th>vehicle_style</th>\n",
       "      <th>highway_mpg</th>\n",
       "      <th>city_mpg</th>\n",
       "      <th>popularity</th>\n",
       "    </tr>\n",
       "  </thead>\n",
       "  <tbody>\n",
       "    <tr>\n",
       "      <th>0</th>\n",
       "      <td>volvo</td>\n",
       "      <td>s70</td>\n",
       "      <td>2000</td>\n",
       "      <td>regular_unleaded</td>\n",
       "      <td>190.0</td>\n",
       "      <td>5.0</td>\n",
       "      <td>automatic</td>\n",
       "      <td>front_wheel_drive</td>\n",
       "      <td>4.0</td>\n",
       "      <td>luxury</td>\n",
       "      <td>midsize</td>\n",
       "      <td>sedan</td>\n",
       "      <td>24</td>\n",
       "      <td>17</td>\n",
       "      <td>870</td>\n",
       "    </tr>\n",
       "    <tr>\n",
       "      <th>1</th>\n",
       "      <td>gmc</td>\n",
       "      <td>s-15</td>\n",
       "      <td>1990</td>\n",
       "      <td>regular_unleaded</td>\n",
       "      <td>105.0</td>\n",
       "      <td>4.0</td>\n",
       "      <td>manual</td>\n",
       "      <td>rear_wheel_drive</td>\n",
       "      <td>2.0</td>\n",
       "      <td>NaN</td>\n",
       "      <td>compact</td>\n",
       "      <td>extended_cab_pickup</td>\n",
       "      <td>25</td>\n",
       "      <td>21</td>\n",
       "      <td>549</td>\n",
       "    </tr>\n",
       "    <tr>\n",
       "      <th>2</th>\n",
       "      <td>oldsmobile</td>\n",
       "      <td>ninety-eight</td>\n",
       "      <td>1995</td>\n",
       "      <td>regular_unleaded</td>\n",
       "      <td>225.0</td>\n",
       "      <td>6.0</td>\n",
       "      <td>automatic</td>\n",
       "      <td>front_wheel_drive</td>\n",
       "      <td>4.0</td>\n",
       "      <td>NaN</td>\n",
       "      <td>large</td>\n",
       "      <td>sedan</td>\n",
       "      <td>26</td>\n",
       "      <td>17</td>\n",
       "      <td>26</td>\n",
       "    </tr>\n",
       "    <tr>\n",
       "      <th>3</th>\n",
       "      <td>aston_martin</td>\n",
       "      <td>dbs</td>\n",
       "      <td>2010</td>\n",
       "      <td>premium_unleaded_(required)</td>\n",
       "      <td>510.0</td>\n",
       "      <td>12.0</td>\n",
       "      <td>automatic</td>\n",
       "      <td>rear_wheel_drive</td>\n",
       "      <td>2.0</td>\n",
       "      <td>exotic,high-performance</td>\n",
       "      <td>midsize</td>\n",
       "      <td>convertible</td>\n",
       "      <td>18</td>\n",
       "      <td>12</td>\n",
       "      <td>259</td>\n",
       "    </tr>\n",
       "    <tr>\n",
       "      <th>4</th>\n",
       "      <td>chevrolet</td>\n",
       "      <td>s-10</td>\n",
       "      <td>2002</td>\n",
       "      <td>regular_unleaded</td>\n",
       "      <td>190.0</td>\n",
       "      <td>6.0</td>\n",
       "      <td>automatic</td>\n",
       "      <td>rear_wheel_drive</td>\n",
       "      <td>2.0</td>\n",
       "      <td>performance</td>\n",
       "      <td>compact</td>\n",
       "      <td>regular_cab_pickup</td>\n",
       "      <td>20</td>\n",
       "      <td>15</td>\n",
       "      <td>1385</td>\n",
       "    </tr>\n",
       "    <tr>\n",
       "      <th>...</th>\n",
       "      <td>...</td>\n",
       "      <td>...</td>\n",
       "      <td>...</td>\n",
       "      <td>...</td>\n",
       "      <td>...</td>\n",
       "      <td>...</td>\n",
       "      <td>...</td>\n",
       "      <td>...</td>\n",
       "      <td>...</td>\n",
       "      <td>...</td>\n",
       "      <td>...</td>\n",
       "      <td>...</td>\n",
       "      <td>...</td>\n",
       "      <td>...</td>\n",
       "      <td>...</td>\n",
       "    </tr>\n",
       "    <tr>\n",
       "      <th>7145</th>\n",
       "      <td>chevrolet</td>\n",
       "      <td>corvette</td>\n",
       "      <td>2017</td>\n",
       "      <td>premium_unleaded_(recommended)</td>\n",
       "      <td>455.0</td>\n",
       "      <td>8.0</td>\n",
       "      <td>manual</td>\n",
       "      <td>rear_wheel_drive</td>\n",
       "      <td>2.0</td>\n",
       "      <td>high-performance</td>\n",
       "      <td>compact</td>\n",
       "      <td>convertible</td>\n",
       "      <td>25</td>\n",
       "      <td>16</td>\n",
       "      <td>1385</td>\n",
       "    </tr>\n",
       "    <tr>\n",
       "      <th>7146</th>\n",
       "      <td>volkswagen</td>\n",
       "      <td>rabbit</td>\n",
       "      <td>2008</td>\n",
       "      <td>regular_unleaded</td>\n",
       "      <td>170.0</td>\n",
       "      <td>5.0</td>\n",
       "      <td>automatic</td>\n",
       "      <td>front_wheel_drive</td>\n",
       "      <td>2.0</td>\n",
       "      <td>hatchback</td>\n",
       "      <td>compact</td>\n",
       "      <td>2dr_hatchback</td>\n",
       "      <td>29</td>\n",
       "      <td>21</td>\n",
       "      <td>873</td>\n",
       "    </tr>\n",
       "    <tr>\n",
       "      <th>7147</th>\n",
       "      <td>volvo</td>\n",
       "      <td>740</td>\n",
       "      <td>1990</td>\n",
       "      <td>regular_unleaded</td>\n",
       "      <td>114.0</td>\n",
       "      <td>4.0</td>\n",
       "      <td>manual</td>\n",
       "      <td>rear_wheel_drive</td>\n",
       "      <td>4.0</td>\n",
       "      <td>luxury</td>\n",
       "      <td>midsize</td>\n",
       "      <td>wagon</td>\n",
       "      <td>26</td>\n",
       "      <td>19</td>\n",
       "      <td>870</td>\n",
       "    </tr>\n",
       "    <tr>\n",
       "      <th>7148</th>\n",
       "      <td>dodge</td>\n",
       "      <td>dart</td>\n",
       "      <td>2016</td>\n",
       "      <td>regular_unleaded</td>\n",
       "      <td>160.0</td>\n",
       "      <td>4.0</td>\n",
       "      <td>manual</td>\n",
       "      <td>front_wheel_drive</td>\n",
       "      <td>4.0</td>\n",
       "      <td>NaN</td>\n",
       "      <td>midsize</td>\n",
       "      <td>sedan</td>\n",
       "      <td>39</td>\n",
       "      <td>27</td>\n",
       "      <td>1851</td>\n",
       "    </tr>\n",
       "    <tr>\n",
       "      <th>7149</th>\n",
       "      <td>ford</td>\n",
       "      <td>taurus_x</td>\n",
       "      <td>2008</td>\n",
       "      <td>regular_unleaded</td>\n",
       "      <td>260.0</td>\n",
       "      <td>6.0</td>\n",
       "      <td>automatic</td>\n",
       "      <td>front_wheel_drive</td>\n",
       "      <td>4.0</td>\n",
       "      <td>crossover</td>\n",
       "      <td>large</td>\n",
       "      <td>wagon</td>\n",
       "      <td>24</td>\n",
       "      <td>16</td>\n",
       "      <td>5657</td>\n",
       "    </tr>\n",
       "  </tbody>\n",
       "</table>\n",
       "<p>7150 rows × 15 columns</p>\n",
       "</div>"
      ],
      "text/plain": [
       "              make         model  year                engine_fuel_type  \\\n",
       "0            volvo           s70  2000                regular_unleaded   \n",
       "1              gmc          s-15  1990                regular_unleaded   \n",
       "2       oldsmobile  ninety-eight  1995                regular_unleaded   \n",
       "3     aston_martin           dbs  2010     premium_unleaded_(required)   \n",
       "4        chevrolet          s-10  2002                regular_unleaded   \n",
       "...            ...           ...   ...                             ...   \n",
       "7145     chevrolet      corvette  2017  premium_unleaded_(recommended)   \n",
       "7146    volkswagen        rabbit  2008                regular_unleaded   \n",
       "7147         volvo           740  1990                regular_unleaded   \n",
       "7148         dodge          dart  2016                regular_unleaded   \n",
       "7149          ford      taurus_x  2008                regular_unleaded   \n",
       "\n",
       "      engine_hp  engine_cylinders transmission_type      driven_wheels  \\\n",
       "0         190.0               5.0         automatic  front_wheel_drive   \n",
       "1         105.0               4.0            manual   rear_wheel_drive   \n",
       "2         225.0               6.0         automatic  front_wheel_drive   \n",
       "3         510.0              12.0         automatic   rear_wheel_drive   \n",
       "4         190.0               6.0         automatic   rear_wheel_drive   \n",
       "...         ...               ...               ...                ...   \n",
       "7145      455.0               8.0            manual   rear_wheel_drive   \n",
       "7146      170.0               5.0         automatic  front_wheel_drive   \n",
       "7147      114.0               4.0            manual   rear_wheel_drive   \n",
       "7148      160.0               4.0            manual  front_wheel_drive   \n",
       "7149      260.0               6.0         automatic  front_wheel_drive   \n",
       "\n",
       "      number_of_doors          market_category vehicle_size  \\\n",
       "0                 4.0                   luxury      midsize   \n",
       "1                 2.0                      NaN      compact   \n",
       "2                 4.0                      NaN        large   \n",
       "3                 2.0  exotic,high-performance      midsize   \n",
       "4                 2.0              performance      compact   \n",
       "...               ...                      ...          ...   \n",
       "7145              2.0         high-performance      compact   \n",
       "7146              2.0                hatchback      compact   \n",
       "7147              4.0                   luxury      midsize   \n",
       "7148              4.0                      NaN      midsize   \n",
       "7149              4.0                crossover        large   \n",
       "\n",
       "            vehicle_style  highway_mpg  city_mpg  popularity  \n",
       "0                   sedan           24        17         870  \n",
       "1     extended_cab_pickup           25        21         549  \n",
       "2                   sedan           26        17          26  \n",
       "3             convertible           18        12         259  \n",
       "4      regular_cab_pickup           20        15        1385  \n",
       "...                   ...          ...       ...         ...  \n",
       "7145          convertible           25        16        1385  \n",
       "7146        2dr_hatchback           29        21         873  \n",
       "7147                wagon           26        19         870  \n",
       "7148                sedan           39        27        1851  \n",
       "7149                wagon           24        16        5657  \n",
       "\n",
       "[7150 rows x 15 columns]"
      ]
     },
     "execution_count": 81,
     "metadata": {},
     "output_type": "execute_result"
    }
   ],
   "source": [
    "df_train"
   ]
  },
  {
   "cell_type": "code",
   "execution_count": 82,
   "id": "fde7a73d-36cd-4590-a169-a0534cd4727a",
   "metadata": {},
   "outputs": [
    {
     "data": {
      "text/plain": [
       "make                  object\n",
       "model                 object\n",
       "year                   int64\n",
       "engine_fuel_type      object\n",
       "engine_hp            float64\n",
       "engine_cylinders     float64\n",
       "transmission_type     object\n",
       "driven_wheels         object\n",
       "number_of_doors      float64\n",
       "market_category       object\n",
       "vehicle_size          object\n",
       "vehicle_style         object\n",
       "highway_mpg            int64\n",
       "city_mpg               int64\n",
       "popularity             int64\n",
       "dtype: object"
      ]
     },
     "execution_count": 82,
     "metadata": {},
     "output_type": "execute_result"
    }
   ],
   "source": [
    "df_train.dtypes"
   ]
  },
  {
   "cell_type": "code",
   "execution_count": 83,
   "id": "d2ef5733-e7ec-4c55-a1ab-202e3cc3af99",
   "metadata": {},
   "outputs": [
    {
     "data": {
      "text/plain": [
       "Index(['make', 'model', 'year', 'engine_fuel_type', 'engine_hp',\n",
       "       'engine_cylinders', 'transmission_type', 'driven_wheels',\n",
       "       'number_of_doors', 'market_category', 'vehicle_size', 'vehicle_style',\n",
       "       'highway_mpg', 'city_mpg', 'popularity'],\n",
       "      dtype='object')"
      ]
     },
     "execution_count": 83,
     "metadata": {},
     "output_type": "execute_result"
    }
   ],
   "source": [
    "df_train.columns"
   ]
  },
  {
   "cell_type": "code",
   "execution_count": 84,
   "id": "119c88d6-e188-4bc6-bff3-d8890ea33389",
   "metadata": {},
   "outputs": [
    {
     "data": {
      "text/plain": [
       "array([[1.900e+02, 5.000e+00, 2.400e+01, 1.700e+01, 8.700e+02],\n",
       "       [1.050e+02, 4.000e+00, 2.500e+01, 2.100e+01, 5.490e+02],\n",
       "       [2.250e+02, 6.000e+00, 2.600e+01, 1.700e+01, 2.600e+01],\n",
       "       ...,\n",
       "       [1.140e+02, 4.000e+00, 2.600e+01, 1.900e+01, 8.700e+02],\n",
       "       [1.600e+02, 4.000e+00, 3.900e+01, 2.700e+01, 1.851e+03],\n",
       "       [2.600e+02, 6.000e+00, 2.400e+01, 1.600e+01, 5.657e+03]])"
      ]
     },
     "execution_count": 84,
     "metadata": {},
     "output_type": "execute_result"
    }
   ],
   "source": [
    "# lets take only these fields, for demonstration\n",
    "X_col = [ 'engine_hp', 'engine_cylinders', 'highway_mpg', 'city_mpg', 'popularity' ]\n",
    "X_train = df_train[X_col].values\n",
    "X_train"
   ]
  },
  {
   "cell_type": "code",
   "execution_count": 85,
   "id": "206ee33e-bb6c-477c-9139-9551797a234a",
   "metadata": {},
   "outputs": [
    {
     "data": {
      "text/plain": [
       "array([ 7.82444593,  7.60140233,  7.60140233, ...,  7.60140233,\n",
       "        9.95683873, 10.30129004])"
      ]
     },
     "execution_count": 85,
     "metadata": {},
     "output_type": "execute_result"
    }
   ],
   "source": [
    "y_train"
   ]
  },
  {
   "cell_type": "code",
   "execution_count": null,
   "id": "79ec1b91-7d44-45cc-a6bf-4205d9a42c79",
   "metadata": {},
   "outputs": [],
   "source": []
  },
  {
   "cell_type": "markdown",
   "id": "e23c0c15-c783-4593-be77-37d3fee0d75a",
   "metadata": {},
   "source": [
    "Training with missing values results with nan."
   ]
  },
  {
   "cell_type": "code",
   "execution_count": 86,
   "id": "859acef6-225a-47eb-8484-57262c873ad5",
   "metadata": {},
   "outputs": [
    {
     "data": {
      "text/plain": [
       "(nan, array([nan, nan, nan, nan, nan]))"
      ]
     },
     "execution_count": 86,
     "metadata": {},
     "output_type": "execute_result"
    }
   ],
   "source": [
    "train_linear_regression(X_train, y_train) "
   ]
  },
  {
   "cell_type": "code",
   "execution_count": 87,
   "id": "a7307c17-d28d-48d3-bc76-f98af7309672",
   "metadata": {},
   "outputs": [
    {
     "data": {
      "text/plain": [
       "engine_hp           37\n",
       "engine_cylinders    17\n",
       "highway_mpg          0\n",
       "city_mpg             0\n",
       "popularity           0\n",
       "dtype: int64"
      ]
     },
     "execution_count": 87,
     "metadata": {},
     "output_type": "execute_result"
    }
   ],
   "source": [
    "df_train[X_col].isnull().sum()"
   ]
  },
  {
   "cell_type": "code",
   "execution_count": null,
   "id": "69429b0b-e5ea-4fad-a59b-2a6b811b55a8",
   "metadata": {},
   "outputs": [],
   "source": []
  },
  {
   "cell_type": "markdown",
   "id": "84bc683e-e6e5-481e-bfcb-5ac0d386d06d",
   "metadata": {},
   "source": [
    "Fill the null with zero for now, this is not the best practice, but it is sufficient for this demo."
   ]
  },
  {
   "cell_type": "code",
   "execution_count": 88,
   "id": "32b233da-5f5c-469d-b345-661c7ee0d2b1",
   "metadata": {},
   "outputs": [
    {
     "data": {
      "text/plain": [
       "engine_hp           0\n",
       "engine_cylinders    0\n",
       "highway_mpg         0\n",
       "city_mpg            0\n",
       "popularity          0\n",
       "dtype: int64"
      ]
     },
     "execution_count": 88,
     "metadata": {},
     "output_type": "execute_result"
    }
   ],
   "source": [
    "df_train[X_col].fillna(0).isnull().sum()"
   ]
  },
  {
   "cell_type": "code",
   "execution_count": 89,
   "id": "eabf78d3-697b-441e-af5d-8127842e09c6",
   "metadata": {},
   "outputs": [],
   "source": [
    "X_train = df_train[X_col].fillna(0).values"
   ]
  },
  {
   "cell_type": "code",
   "execution_count": 90,
   "id": "fd26d03b-a5f8-4f31-b22a-7af246e062ae",
   "metadata": {},
   "outputs": [],
   "source": [
    "w0, w = train_linear_regression(X_train, y_train)"
   ]
  },
  {
   "cell_type": "code",
   "execution_count": 91,
   "id": "23b2f82a-e1d8-4660-9370-dc3c547de85d",
   "metadata": {},
   "outputs": [
    {
     "data": {
      "text/plain": [
       "(7.9977910894410575,\n",
       " array([ 9.38137552e-03, -1.48981699e-01,  1.48986791e-02,  1.29814906e-02,\n",
       "        -1.50934207e-05]))"
      ]
     },
     "execution_count": 91,
     "metadata": {},
     "output_type": "execute_result"
    }
   ],
   "source": [
    "w0, w"
   ]
  },
  {
   "cell_type": "code",
   "execution_count": null,
   "id": "98f14dba-5bc8-49fe-8aa1-b9af4c7ddd58",
   "metadata": {},
   "outputs": [],
   "source": []
  },
  {
   "cell_type": "markdown",
   "id": "35093526-17f7-49f8-8d07-cc1216e044b7",
   "metadata": {},
   "source": [
    "We have now trained a model, since we already found the values for weights"
   ]
  },
  {
   "cell_type": "markdown",
   "id": "76241408-22f8-485d-a142-7e23484808a0",
   "metadata": {},
   "source": [
    "Compare the predictions to the target value."
   ]
  },
  {
   "cell_type": "code",
   "execution_count": 92,
   "id": "9cb9e259-bb42-46f5-b44c-ee25c014fcca",
   "metadata": {},
   "outputs": [],
   "source": [
    "y_pred = w0 + X_train.dot(w)"
   ]
  },
  {
   "cell_type": "code",
   "execution_count": 93,
   "id": "2b51bbec-8a7c-40dd-8c5a-5941e6e7b0b2",
   "metadata": {},
   "outputs": [
    {
     "data": {
      "image/png": "[encoded data removed]",
      "text/plain": [
       "<Figure size 640x480 with 1 Axes>"
      ]
     },
     "metadata": {},
     "output_type": "display_data"
    }
   ],
   "source": [
    "sns.histplot(y_pred, bins=50, color='red', alpha=0.5)\n",
    "sns.histplot(y_train, bins=50, color='blue', alpha=0.5)\n",
    "plt.show()"
   ]
  },
  {
   "cell_type": "markdown",
   "id": "e181c54a-6781-4664-85e2-411189c84ee0",
   "metadata": {},
   "source": [
    "---"
   ]
  },
  {
   "cell_type": "markdown",
   "id": "edf59c64-9028-4d92-8dd7-ecccf77263ab",
   "metadata": {},
   "source": [
    "## 2.9 Root Mean Squared Error (RMSE)"
   ]
  },
  {
   "attachments": {},
   "cell_type": "raw",
   "id": "08631a6d-84c6-4e12-bc48-273e118103ea",
   "metadata": {},
   "source": [
    "Summary:\n",
    "RMSE is used to evalute the model.\n",
    "0 RMSE means perfect prediction\n",
    "RMSE tells the average difference between predictions and actual values. \n",
    "Error = prediction - target"
   ]
  },
  {
   "cell_type": "code",
   "execution_count": 94,
   "id": "54ec0603-c160-43de-966d-495c779034f7",
   "metadata": {},
   "outputs": [],
   "source": [
    "def rmse(y_pred, y_train):\n",
    "    se = (y_pred - y_train) ** 2\n",
    "    mse = se.mean()\n",
    "    rmse = np.sqrt(mse)\n",
    "\n",
    "    return rmse"
   ]
  },
  {
   "cell_type": "code",
   "execution_count": 95,
   "id": "e646a969-f80a-4117-ac5c-2d4878eb8fd6",
   "metadata": {},
   "outputs": [
    {
     "data": {
      "text/plain": [
       "0.7530702635167187"
      ]
     },
     "execution_count": 95,
     "metadata": {},
     "output_type": "execute_result"
    }
   ],
   "source": [
    "rmse(y_pred, y_train)"
   ]
  },
  {
   "cell_type": "markdown",
   "id": "353f09f3-158a-4757-98ed-16244712ebd3",
   "metadata": {},
   "source": [
    "---"
   ]
  },
  {
   "cell_type": "markdown",
   "id": "172cc4d9-7e9f-4d20-bfa5-3f2cb65f7809",
   "metadata": {},
   "source": [
    "## 2.10 Computing RMSE on Validation Data"
   ]
  },
  {
   "cell_type": "raw",
   "id": "dee45069-be03-4659-89bd-eb85df06f7d6",
   "metadata": {},
   "source": [
    "Summary:\n",
    "In linear regression ML, the model is pretty much the weights.\n",
    "The weights derived from the training dataset is applied on validation dataset.\n",
    "Validtion RMSE is calculated."
   ]
  },
  {
   "cell_type": "code",
   "execution_count": 96,
   "id": "02a97ec2-42e6-406a-82d8-b182e660654a",
   "metadata": {},
   "outputs": [],
   "source": [
    "# lets take only these fields, for demonstration\n",
    "X_col = [ 'engine_hp', 'engine_cylinders', 'highway_mpg', 'city_mpg', 'popularity' ]"
   ]
  },
  {
   "cell_type": "code",
   "execution_count": 97,
   "id": "2f628ca8-9110-4d51-aba3-386338e99ff5",
   "metadata": {},
   "outputs": [],
   "source": [
    "# Receives data frame, returns a coefficient matrix of selected colums\n",
    "def prepare_X(df):\n",
    "    df_num = df[X_col]\n",
    "    df_num = df_num.fillna(0)\n",
    "    X = df_num.values\n",
    "    return X"
   ]
  },
  {
   "cell_type": "code",
   "execution_count": 98,
   "id": "4d3a1482-8056-4667-bf56-66ca9e07413a",
   "metadata": {},
   "outputs": [],
   "source": [
    "#Train model\n",
    "X_train = prepare_X(df_train)\n",
    "w0, w = train_linear_regression(X_train, y_train)"
   ]
  },
  {
   "cell_type": "code",
   "execution_count": 99,
   "id": "afbac9e4-77f1-42ea-bede-67fd845d9568",
   "metadata": {},
   "outputs": [
    {
     "data": {
      "text/plain": [
       "0.7460612947996885"
      ]
     },
     "execution_count": 99,
     "metadata": {},
     "output_type": "execute_result"
    }
   ],
   "source": [
    "#Validate model\n",
    "X_val = prepare_X(df_val)\n",
    "y_pred = w0 + X_val.dot(w)\n",
    "rmse(y_pred, y_val)"
   ]
  },
  {
   "cell_type": "markdown",
   "id": "59f1ef36-78f3-4d77-9ba2-0696a57347f4",
   "metadata": {},
   "source": [
    "---"
   ]
  },
  {
   "cell_type": "markdown",
   "id": "5c54a9bc-17d9-4190-affc-0085d8677bdf",
   "metadata": {},
   "source": [
    "## 2.11 Feature Engineering"
   ]
  },
  {
   "cell_type": "raw",
   "id": "65ed9cdb-1afa-4f70-9feb-3ab6e73f8872",
   "metadata": {},
   "source": [
    "Summary:\n",
    "Feature engineering is making new features based on existing ones.\n",
    "Features like year can be misleading for the model.\n",
    "We can transform the year to age.\n",
    "When age is added to weights, the prediction improved.\n",
    "Again, we used RMSE to evaluate model performance."
   ]
  },
  {
   "cell_type": "code",
   "execution_count": 100,
   "id": "1ec60ef1-94eb-4df8-848b-1241e8257123",
   "metadata": {},
   "outputs": [],
   "source": [
    "# Receives data frame, returns a coefficient matrix of selected colums\n",
    "def prepare_X(df):\n",
    "    # duplicate, otherwise it affects the orignal df\n",
    "    df = df.copy()\n",
    "    \n",
    "    max_year = df['year'].max()\n",
    "    df['age'] = max_year - df['year']\n",
    "\n",
    "    features = X_col + ['age']\n",
    "    \n",
    "    df_num = df[features]\n",
    "    df_num = df_num.fillna(0)\n",
    "    X = df_num.values\n",
    "    \n",
    "    return X"
   ]
  },
  {
   "cell_type": "code",
   "execution_count": 101,
   "id": "30c20275-4fa6-4f14-be24-3dfdccc27dc0",
   "metadata": {},
   "outputs": [],
   "source": [
    "#Train model\n",
    "X_train = prepare_X(df_train)\n",
    "w0, w = train_linear_regression(X_train, y_train)"
   ]
  },
  {
   "cell_type": "code",
   "execution_count": null,
   "id": "efb10a54-6896-4ea3-be7f-4212bd1737af",
   "metadata": {},
   "outputs": [],
   "source": []
  },
  {
   "cell_type": "markdown",
   "id": "32b08f64-afc3-4e3f-ba42-3b2aa5924503",
   "metadata": {},
   "source": [
    "The RMSE is smaller now, it means better accuracy"
   ]
  },
  {
   "cell_type": "code",
   "execution_count": 102,
   "id": "5e021ce1-465a-49de-be63-581945acf981",
   "metadata": {},
   "outputs": [
    {
     "data": {
      "text/plain": [
       "0.5123851644442666"
      ]
     },
     "execution_count": 102,
     "metadata": {},
     "output_type": "execute_result"
    }
   ],
   "source": [
    "#Validate model\n",
    "X_val = prepare_X(df_val)\n",
    "y_pred = w0 + X_val.dot(w)\n",
    "rmse(y_pred, y_val)"
   ]
  },
  {
   "cell_type": "code",
   "execution_count": null,
   "id": "bcebe9c1-a990-4c96-a804-7c5cfea817a1",
   "metadata": {},
   "outputs": [],
   "source": []
  },
  {
   "cell_type": "markdown",
   "id": "bb79b531-1c9f-44f8-9e76-9b395402abfc",
   "metadata": {},
   "source": [
    "There's still room for improvement, but it's doing okay in the middle to late tail"
   ]
  },
  {
   "cell_type": "code",
   "execution_count": 103,
   "id": "0c8143ed-6fd8-4856-9438-506dd4721fc7",
   "metadata": {},
   "outputs": [
    {
     "data": {
      "image/png": "[encoded data removed]",
      "text/plain": [
       "<Figure size 640x480 with 1 Axes>"
      ]
     },
     "metadata": {},
     "output_type": "display_data"
    }
   ],
   "source": [
    "sns.histplot(y_pred, bins=50, color='red', alpha=0.5)\n",
    "sns.histplot(y_val, bins=50, color='blue', alpha=0.5)\n",
    "plt.show()"
   ]
  },
  {
   "cell_type": "markdown",
   "id": "74c5bf01-899c-4781-8a11-9dce584faf72",
   "metadata": {},
   "source": [
    "---"
   ]
  },
  {
   "cell_type": "markdown",
   "id": "db557eb9-8c8a-4433-be98-6e09dd668fb7",
   "metadata": {},
   "source": [
    "## 2.12 Categorical Variables"
   ]
  },
  {
   "cell_type": "raw",
   "id": "81cf7213-56c1-42ef-8778-819537fce94d",
   "metadata": {},
   "source": [
    "Summary:\n",
    "There are two types of data: numerical and categorical.\n",
    "Numerical data are much easier to use in model training, because it's a number.\n",
    "Categorical data, on the other hand, usually comes in the form of strings.\n",
    "\n",
    "To transform categorical data into a useable format, we can represent it into binary columns.\n",
    "For example, take the N most popular(by count) in a categorical column and produce N binary columns.\n",
    "Binary columns are basically boolean columns, it tells whether an object instance belongs to what column (1), \n",
    "or maybe it does not belong to any (0) because it's not popular.\n",
    "\n",
    "However, mindlessly converting categoricals into numericals is not always good, as shown in the video.\n",
    "Also, there are features with numerical values but should be treated as categorical."
   ]
  },
  {
   "cell_type": "raw",
   "id": "329deb82-21a0-477c-a32f-b4e38af32fa1",
   "metadata": {},
   "source": [
    "Questions:\n",
    "Why did the model perform significantly worse when we added more one-hot encoded data?\n",
    "Could I represent all categorical columns are binary columns? What if there are 48 unique values?\n",
    "What is the good number of binary columns?\n",
    "Other than one-hot encoding, are there better ways to transform categorical data?"
   ]
  },
  {
   "cell_type": "code",
   "execution_count": 104,
   "id": "6fb3aaa0-a9b2-493e-9d7b-c48f6fa2f664",
   "metadata": {},
   "outputs": [
    {
     "data": {
      "text/plain": [
       "['engine_hp', 'engine_cylinders', 'highway_mpg', 'city_mpg', 'popularity']"
      ]
     },
     "execution_count": 104,
     "metadata": {},
     "output_type": "execute_result"
    }
   ],
   "source": [
    "X_col"
   ]
  },
  {
   "cell_type": "code",
   "execution_count": 105,
   "id": "17bbbbe2-4727-4fb4-aa6f-6320f4231dcd",
   "metadata": {},
   "outputs": [
    {
     "data": {
      "text/plain": [
       "make                  object\n",
       "model                 object\n",
       "year                   int64\n",
       "engine_fuel_type      object\n",
       "engine_hp            float64\n",
       "engine_cylinders     float64\n",
       "transmission_type     object\n",
       "driven_wheels         object\n",
       "number_of_doors      float64\n",
       "market_category       object\n",
       "vehicle_size          object\n",
       "vehicle_style         object\n",
       "highway_mpg            int64\n",
       "city_mpg               int64\n",
       "popularity             int64\n",
       "msrp                   int64\n",
       "dtype: object"
      ]
     },
     "execution_count": 105,
     "metadata": {},
     "output_type": "execute_result"
    }
   ],
   "source": [
    "df.dtypes"
   ]
  },
  {
   "cell_type": "code",
   "execution_count": 106,
   "id": "3adcc168-ca8a-4ced-b5f1-4e8ec7b3e648",
   "metadata": {},
   "outputs": [],
   "source": [
    "bff = df.copy()\n",
    "\n",
    "for i in [2, 3, 4]:\n",
    "    bff['number_of_doors_%s' % i] = (bff['number_of_doors'] == i).astype(int)"
   ]
  },
  {
   "cell_type": "code",
   "execution_count": 107,
   "id": "6189111a-9e18-4dd7-805d-15bc1e7fc459",
   "metadata": {},
   "outputs": [],
   "source": [
    "# Receives data frame, returns a coefficient matrix of selected colums\n",
    "def prepare_X(df):\n",
    "    # duplicate, otherwise it affects the orignal df\n",
    "    df = df.copy()\n",
    "    features = X_col.copy()\n",
    "    \n",
    "    max_year = df['year'].max()\n",
    "    df['age'] = max_year - df['year']\n",
    "    features.append('age')\n",
    "\n",
    "    for i in [2, 3, 4]:\n",
    "        df['number_of_doors_%s' % i] = (df['number_of_doors'] == i).astype(int)\n",
    "        features.append('number_of_doors_%s' % i)\n",
    "    \n",
    "    df_num = df[features]\n",
    "    df_num = df_num.fillna(0)\n",
    "    X = df_num.values\n",
    "    \n",
    "    return X"
   ]
  },
  {
   "cell_type": "markdown",
   "id": "9e2ed376-d7cd-4930-b74a-77b454d88f57",
   "metadata": {},
   "source": [
    "We've now added the number of doors in training. Let's evaluate the model."
   ]
  },
  {
   "cell_type": "code",
   "execution_count": 108,
   "id": "0c3fada6-fc86-48ff-9fd1-60cd68ee4e38",
   "metadata": {},
   "outputs": [],
   "source": [
    "#Train model\n",
    "X_train = prepare_X(df_train)\n",
    "w0, w = train_linear_regression(X_train, y_train)"
   ]
  },
  {
   "cell_type": "code",
   "execution_count": 109,
   "id": "f482413d-784a-4bdc-bf4d-f471e1b07b69",
   "metadata": {},
   "outputs": [
    {
     "data": {
      "text/plain": [
       "0.5127833091911723"
      ]
     },
     "execution_count": 109,
     "metadata": {},
     "output_type": "execute_result"
    }
   ],
   "source": [
    "#Validate model\n",
    "X_val = prepare_X(df_val)\n",
    "y_pred = w0 + X_val.dot(w)\n",
    "rmse(y_pred, y_val)"
   ]
  },
  {
   "cell_type": "markdown",
   "id": "109df6f1-b30d-4c02-b1b3-fa78a4a7cec4",
   "metadata": {},
   "source": [
    "Old RMSE: 0.5034941452073737\n",
    "\n",
    "We can see that it only improved very slightly.\n",
    "Let's try adding more categorical data in training."
   ]
  },
  {
   "cell_type": "code",
   "execution_count": 110,
   "id": "c37d5b20-3857-4470-8847-22bc0a68fb8c",
   "metadata": {},
   "outputs": [
    {
     "data": {
      "text/plain": [
       "make                  object\n",
       "model                 object\n",
       "year                   int64\n",
       "engine_fuel_type      object\n",
       "engine_hp            float64\n",
       "engine_cylinders     float64\n",
       "transmission_type     object\n",
       "driven_wheels         object\n",
       "number_of_doors      float64\n",
       "market_category       object\n",
       "vehicle_size          object\n",
       "vehicle_style         object\n",
       "highway_mpg            int64\n",
       "city_mpg               int64\n",
       "popularity             int64\n",
       "msrp                   int64\n",
       "dtype: object"
      ]
     },
     "execution_count": 110,
     "metadata": {},
     "output_type": "execute_result"
    }
   ],
   "source": [
    "df.dtypes"
   ]
  },
  {
   "cell_type": "markdown",
   "id": "cff44f4e-783b-4237-a484-ac5b5a08c74a",
   "metadata": {},
   "source": [
    "\n",
    "Take only the top 5"
   ]
  },
  {
   "cell_type": "code",
   "execution_count": 111,
   "id": "b919e2d4-1399-4ed9-8fa0-9b74eab3743e",
   "metadata": {},
   "outputs": [],
   "source": [
    "makes = list(df.make.value_counts().head().index)"
   ]
  },
  {
   "cell_type": "code",
   "execution_count": 112,
   "id": "f846bcb1-2c8b-4b9d-9528-407a7552f26e",
   "metadata": {},
   "outputs": [],
   "source": [
    "for i in makes:\n",
    "    bff['make_%s' % i] = (bff['make'] == i).astype(int)"
   ]
  },
  {
   "cell_type": "code",
   "execution_count": 113,
   "id": "d7f9fc74-8169-4f59-92bc-c1fc78e779f6",
   "metadata": {},
   "outputs": [],
   "source": [
    "categories = { 'make', 'engine_fuel_type', 'transmission_type', \n",
    "           'driven_wheels', 'market_category', 'vehicle_size', 'vehicle_style', }\n",
    "\n",
    "categorical_values = {}"
   ]
  },
  {
   "cell_type": "code",
   "execution_count": 114,
   "id": "cee11c21-67c1-44bf-ac70-405f79a7912e",
   "metadata": {},
   "outputs": [],
   "source": [
    "for c in categories:\n",
    "    categorical_values[c] = list(df[c].value_counts().head().index)"
   ]
  },
  {
   "cell_type": "code",
   "execution_count": 115,
   "id": "2e45e3f5-2b8b-4d77-9add-94864be040c0",
   "metadata": {},
   "outputs": [],
   "source": [
    "# Receives data frame, returns a coefficient matrix of selected colums\n",
    "def prepare_X(df):\n",
    "    # duplicate, otherwise it affects the orignal df\n",
    "    df = df.copy()\n",
    "    features = X_col.copy()\n",
    "    \n",
    "    max_year = df['year'].max()\n",
    "    df['age'] = max_year - df['year']\n",
    "    features.append('age')\n",
    "\n",
    "    for i in [2, 3, 4]:\n",
    "        df['number_of_doors_%s' % i] = (df['number_of_doors'] == i).astype(int)\n",
    "        features.append('number_of_doors_%s' % i)\n",
    "\n",
    "    for c, i in categorical_values.items():\n",
    "        for v in i:\n",
    "            df['%s_%s' % (c, v)] = (df[c] == v).astype(int)\n",
    "            features.append('%s_%s' % (c, v))\n",
    "    \n",
    "    df_num = df[features]\n",
    "    df_num = df_num.fillna(0)\n",
    "    X = df_num.values\n",
    "    \n",
    "    return X"
   ]
  },
  {
   "cell_type": "code",
   "execution_count": 116,
   "id": "5a5c9784-e01f-4a3f-8916-4d1b19a9ab8a",
   "metadata": {},
   "outputs": [],
   "source": [
    "#Train model\n",
    "X_train = prepare_X(df_train)\n",
    "w0, w = train_linear_regression(X_train, y_train)"
   ]
  },
  {
   "cell_type": "code",
   "execution_count": 117,
   "id": "61bc52cd-e243-43a4-b70c-d0c0eaebea1a",
   "metadata": {},
   "outputs": [
    {
     "data": {
      "text/plain": [
       "291.20274464117114"
      ]
     },
     "execution_count": 117,
     "metadata": {},
     "output_type": "execute_result"
    }
   ],
   "source": [
    "#Validate model\n",
    "X_val = prepare_X(df_val)\n",
    "y_pred = w0 + X_val.dot(w)\n",
    "rmse(y_pred, y_val)"
   ]
  },
  {
   "cell_type": "markdown",
   "id": "bcf30307-939c-4ec0-84a9-e36d9a3904c3",
   "metadata": {},
   "source": [
    "From 0.0.5025913561115913 to 64.27875159933929\n",
    "The model has become very bad after adding all the categorical variables.\n",
    "The next lesson shows the fix."
   ]
  },
  {
   "cell_type": "markdown",
   "id": "2a8d114b-0b6c-4512-a3ac-ada4a3944fb6",
   "metadata": {},
   "source": [
    "---"
   ]
  },
  {
   "cell_type": "markdown",
   "id": "b43d0f55-95e4-41a1-b458-f0aede1a7b02",
   "metadata": {},
   "source": [
    "## 2.13 Regularization"
   ]
  },
  {
   "cell_type": "raw",
   "id": "42d4f0c2-034c-438a-8586-4b18b863d8eb",
   "metadata": {},
   "source": [
    "Summary:\n",
    "Some gram matrix are not invertible. One reason is because some columns are equivalent to other columns.\n",
    "Although some gram matrix are invertible, it may have columns that are only barely different from another by neglible values (0.0001).\n",
    "The resulting inverted matrix is bad for the weights.\n",
    "\n",
    "We can add a value alpha to the diagonal of the gram matrix before invertion.\n",
    "The larger the value of alpha, the less chance of having column duplicates.\n",
    "Regularization is about controlling the matrix so that the weights don't grow too much.\n",
    "It's about solving the duplicated columns."
   ]
  },
  {
   "cell_type": "code",
   "execution_count": 118,
   "id": "2aa70ebd-3d93-487f-9897-506db675bfbc",
   "metadata": {},
   "outputs": [],
   "source": [
    "X = [\n",
    "    [4, 4, 4],\n",
    "    [3, 5, 5],\n",
    "    [5, 1, 1],\n",
    "    [5, 4, 4],\n",
    "    [7, 5, 5],\n",
    "    [4, 5, 5]\n",
    "]\n",
    "X = np.array(X)"
   ]
  },
  {
   "cell_type": "code",
   "execution_count": 119,
   "id": "f9687822-5444-4860-a47d-3ec95b459847",
   "metadata": {},
   "outputs": [
    {
     "data": {
      "text/plain": [
       "array([[140, 111, 111],\n",
       "       [111, 108, 108],\n",
       "       [111, 108, 108]])"
      ]
     },
     "execution_count": 119,
     "metadata": {},
     "output_type": "execute_result"
    }
   ],
   "source": [
    "XTX = X.T.dot(X)\n",
    "XTX"
   ]
  },
  {
   "cell_type": "code",
   "execution_count": 120,
   "id": "164ae9df-d27b-44c6-8037-0a1573881a09",
   "metadata": {},
   "outputs": [],
   "source": [
    "# XTX_inv = np.linalg.inv(XTX)\n",
    "# Output: LinAlgError: Singular matrix"
   ]
  },
  {
   "cell_type": "markdown",
   "id": "41acf002-db1f-46c1-a363-22eed667d3f8",
   "metadata": {},
   "source": [
    "In linear algebra, a matrix is **not invertible** if there are two or more columns or rows with the same value.\n",
    "This is called linear dependence, where one column can be expressed by a different column.\n",
    "For a matrix to be invertible, its columns and rows must be linearly independent."
   ]
  },
  {
   "cell_type": "markdown",
   "id": "53d50440-82b8-472d-9c25-5071a2407998",
   "metadata": {},
   "source": [
    "Let's try adding negligible small values to the linearly dependent columns."
   ]
  },
  {
   "cell_type": "code",
   "execution_count": 121,
   "id": "62fcfc0c-af44-406b-a4b1-af22c67e139d",
   "metadata": {},
   "outputs": [],
   "source": [
    "XTX = [\n",
    "    [140, 111, 111],\n",
    "    [111, 108, 108.00001],\n",
    "    [111, 108, 108]\n",
    "]\n",
    "XTX = np.array(XTX)"
   ]
  },
  {
   "cell_type": "code",
   "execution_count": 122,
   "id": "6ec8d121-adb9-404f-bb35-a8ec6752ed8e",
   "metadata": {},
   "outputs": [
    {
     "data": {
      "text/plain": [
       "array([[ 3.85852090e-02,  3.53403656e-12, -3.96570204e-02],\n",
       "       [-3.96570204e-02, -1.00000000e+05,  1.00000050e+05],\n",
       "       [-0.00000000e+00,  1.00000000e+05, -1.00000000e+05]])"
      ]
     },
     "execution_count": 122,
     "metadata": {},
     "output_type": "execute_result"
    }
   ],
   "source": [
    "XTX_inv = np.linalg.inv(XTX)\n",
    "XTX_inv"
   ]
  },
  {
   "cell_type": "markdown",
   "id": "0151f232-854f-4672-82a2-2be154a7d31c",
   "metadata": {},
   "source": [
    "The gram matrix is not invertible, however, the values are very big."
   ]
  },
  {
   "cell_type": "markdown",
   "id": "99d53440-3444-49c6-9214-f480e16821ac",
   "metadata": {},
   "source": [
    "This is the reason why the model is bad in the previous module; the matrix is not regularized."
   ]
  },
  {
   "cell_type": "markdown",
   "id": "28c005aa-25b7-427a-827d-2aea456bbd8b",
   "metadata": {},
   "source": [
    "Now, we will regulate the matrix by adding a small value to the diagonals."
   ]
  },
  {
   "cell_type": "code",
   "execution_count": 123,
   "id": "b5de2fa5-e542-4bcc-9b19-9881e8b8a181",
   "metadata": {},
   "outputs": [],
   "source": [
    "XTX = [\n",
    "    [140, 111, 111],\n",
    "    [111, 108, 108],\n",
    "    [111, 108, 108]\n",
    "]\n",
    "XTX = np.array(XTX)"
   ]
  },
  {
   "cell_type": "code",
   "execution_count": 124,
   "id": "0ce3bdb3-a452-4d5c-af2d-a6b8c97fd4cc",
   "metadata": {},
   "outputs": [],
   "source": [
    "XTX = XTX + 0.01 * np.eye(XTX.shape[0])"
   ]
  },
  {
   "cell_type": "code",
   "execution_count": 125,
   "id": "6b07bfac-c4bd-4469-b1b4-0cdab791fc72",
   "metadata": {},
   "outputs": [
    {
     "data": {
      "text/plain": [
       "array([[ 3.85624712e-02, -1.98159081e-02, -1.98159081e-02],\n",
       "       [-1.98159081e-02,  5.00124974e+01, -4.99875026e+01],\n",
       "       [-1.98159081e-02, -4.99875026e+01,  5.00124974e+01]])"
      ]
     },
     "execution_count": 125,
     "metadata": {},
     "output_type": "execute_result"
    }
   ],
   "source": [
    "XTX_inv = np.linalg.inv(XTX)\n",
    "XTX_inv"
   ]
  },
  {
   "cell_type": "markdown",
   "id": "f9850f68-51d9-47a5-92c5-be2b7e3d2a71",
   "metadata": {},
   "source": [
    "The values are much controlled now."
   ]
  },
  {
   "cell_type": "markdown",
   "id": "7250521b-4b3f-4576-8abe-2a4e429e340d",
   "metadata": {},
   "source": [
    "Let's apply regularization in model training and look at the RMSE."
   ]
  },
  {
   "cell_type": "code",
   "execution_count": 126,
   "id": "36256519-ea80-474e-a77d-f30fd7bd0b6c",
   "metadata": {},
   "outputs": [],
   "source": [
    "def train_linear_regression_reg(X, y, r=0.001):\n",
    "    # To include the biased term in the calculation, add a column of 1's to the start of X.\n",
    "    ones = np.ones(X.shape[0])\n",
    "    X = np.column_stack([ones, X])\n",
    "    \n",
    "    XTX = X.T.dot(X)\n",
    "    XTX = XTX + r * np.eye(XTX.shape[0])\n",
    "    XTX_inv = np.linalg.inv(XTX)\n",
    "    \n",
    "    w_full = XTX_inv.dot(X.T).dot(y)\n",
    "    w0 = w_full[0]\n",
    "\n",
    "    return w0, w_full[1:]"
   ]
  },
  {
   "cell_type": "code",
   "execution_count": 127,
   "id": "b5b5f5d6-7c58-49e8-a215-139ac886d9f6",
   "metadata": {},
   "outputs": [],
   "source": [
    "#Train model\n",
    "X_train = prepare_X(df_train)\n",
    "w0, w = train_linear_regression_reg(X_train, y_train, r=0.01)"
   ]
  },
  {
   "cell_type": "code",
   "execution_count": 128,
   "id": "6318820e-ee9b-470d-ae86-dfcfb97462f2",
   "metadata": {},
   "outputs": [
    {
     "data": {
      "text/plain": [
       "0.45623618295581925"
      ]
     },
     "execution_count": 128,
     "metadata": {},
     "output_type": "execute_result"
    }
   ],
   "source": [
    "#Validate model\n",
    "X_val = prepare_X(df_val)\n",
    "y_pred = w0 + X_val.dot(w)\n",
    "rmse(y_pred, y_val)"
   ]
  },
  {
   "cell_type": "raw",
   "id": "64113efc-7d59-48c7-829c-59a696806e3e",
   "metadata": {},
   "source": [
    "From 0.5025913561115913 with limited categorical values, \n",
    "to 90.02582332136399 with all categoricals w/o regularization, \n",
    "to 0.47011151015635305 with all categoricals w/ regularization."
   ]
  },
  {
   "cell_type": "markdown",
   "id": "3476c1d5-f43d-407f-9710-59724b0bb6b9",
   "metadata": {},
   "source": [
    "We can say that the model improved considerably."
   ]
  },
  {
   "cell_type": "markdown",
   "id": "d0debc0a-2d48-4917-b0d2-381fe49e7dc0",
   "metadata": {},
   "source": [
    "The next module tackles how to find the best value for alpha."
   ]
  },
  {
   "cell_type": "markdown",
   "id": "231c84ac-ae02-4943-9081-bc646adfa8ce",
   "metadata": {},
   "source": [
    "---"
   ]
  },
  {
   "cell_type": "markdown",
   "id": "708c657f-fc76-4226-a78e-62f7d02653e7",
   "metadata": {},
   "source": [
    "## 2.14 Tuning the model"
   ]
  },
  {
   "cell_type": "raw",
   "id": "9c96f668-4286-4d8b-bcdc-0dea8a50d9e7",
   "metadata": {},
   "source": [
    "Summary:\n",
    "Find the best regularization parameter by providing hard-coded values and choosing the best one.\n",
    "We choose the best regularization parameter from the validation dataset.\n",
    "Then use the reg. parameter to retrain the variable.\n",
    "\n",
    "Question:\n",
    "What better way is there to find the best regularization parameter? Is there a formula?\n",
    "Does choosing the best regularization parameter matter if the differences are miniscule, down to the decimal hundred thousandths."
   ]
  },
  {
   "cell_type": "code",
   "execution_count": 129,
   "id": "ecde8fe7-5f14-49a2-8060-b956cebe080c",
   "metadata": {},
   "outputs": [
    {
     "name": "stdout",
     "output_type": "stream",
     "text": [
      "0.0 -1.8914964768036736e+16 291.20274464117114\n",
      "1e-05 3.0821953664043953 0.45624050239230507\n",
      "0.0001 6.334810417659081 0.4562404803810196\n",
      "0.001 6.342718595281935 0.45624008551795925\n",
      "0.01 6.330440834616567 0.45623618295581925\n",
      "0.1 6.2129311851179585 0.45620237486064463\n",
      "1 5.554566566575559 0.45621182145746264\n",
      "10 4.251198788564124 0.4668718633832716\n",
      "100 2.5167195309085724 0.5664832220561995\n"
     ]
    }
   ],
   "source": [
    "for r in [0.0, 0.00001, 0.0001, 0.001, 0.01, 0.1, 1, 10, 100]:\n",
    "    X_train = prepare_X(df_train)\n",
    "    w0, w = train_linear_regression_reg(X_train, y_train, r = r)\n",
    "\n",
    "    X_val = prepare_X(df_val)\n",
    "    y_pred = w0 + X_val.dot(w)\n",
    "    score = rmse(y_pred, y_val)\n",
    "    print(r, w0, score)"
   ]
  },
  {
   "cell_type": "markdown",
   "id": "10d92827-8f54-4884-8886-22948794de76",
   "metadata": {},
   "source": [
    "We can handpick the best regularization variable.\n",
    "\n",
    "It's 0.00001 in this case."
   ]
  },
  {
   "cell_type": "code",
   "execution_count": 130,
   "id": "ae1ffcbe-b3db-4e56-bb74-f98cb2fc050e",
   "metadata": {},
   "outputs": [
    {
     "data": {
      "text/plain": [
       "0.45624050239230507"
      ]
     },
     "execution_count": 130,
     "metadata": {},
     "output_type": "execute_result"
    }
   ],
   "source": [
    "r = 0.00001\n",
    "X_train = prepare_X(df_train)\n",
    "w0, w = train_linear_regression_reg(X_train, y_train, r = r)\n",
    "\n",
    "X_val = prepare_X(df_val)\n",
    "y_pred = w0 + X_val.dot(w)\n",
    "rmse(y_pred, y_val)"
   ]
  },
  {
   "cell_type": "markdown",
   "id": "83c8b7bb-7d17-4a42-a943-793f48e340b2",
   "metadata": {},
   "source": [
    "---"
   ]
  },
  {
   "cell_type": "markdown",
   "id": "7fd6d97e-8cf2-4ccb-8240-8aff7244e286",
   "metadata": {},
   "source": [
    "## 2.15 Using the model"
   ]
  },
  {
   "cell_type": "raw",
   "id": "86a23e77-fe05-4233-b076-788f689c9737",
   "metadata": {},
   "source": [
    "Summary:\n",
    "Trained a new model using the training and validation data set, this is called full train.\n",
    "The test the full trained model on the dataset to ensure it generalizes well.\n",
    "We also considered a real life scenario, where an object's features are feed into the model from dictionary to dataframe.\n",
    "\n",
    "Question:\n",
    "If the result on the test data is good, can I cut it down from 20 to 10 percent, to use the other 10 percent in training?"
   ]
  },
  {
   "cell_type": "code",
   "execution_count": 131,
   "id": "78bdf81f-db98-4ff1-94fb-87876a77d3ac",
   "metadata": {},
   "outputs": [],
   "source": [
    "df_full_train = pd.concat([df_train, df_val])"
   ]
  },
  {
   "cell_type": "code",
   "execution_count": 132,
   "id": "33fc4f5e-45ae-490a-a4ec-6377a9655d39",
   "metadata": {},
   "outputs": [],
   "source": [
    "df_full_train = df_full_train.reset_index(drop=True)"
   ]
  },
  {
   "cell_type": "code",
   "execution_count": 133,
   "id": "8c7d7115-e111-4101-a11f-a6a86c3f513c",
   "metadata": {},
   "outputs": [],
   "source": [
    "y_full_train = np.concatenate([y_train, y_val])"
   ]
  },
  {
   "cell_type": "code",
   "execution_count": 134,
   "id": "9ceeafb5-bea9-4b7e-a61b-0f6ce207a9b6",
   "metadata": {},
   "outputs": [],
   "source": [
    "# Training the model\n",
    "X_full_train = prepare_X(df_full_train)\n",
    "w0, w = train_linear_regression_reg(X_full_train, y_full_train, r = r)"
   ]
  },
  {
   "cell_type": "code",
   "execution_count": 135,
   "id": "5e71eeed-2321-4cf0-9678-9861bd2750e5",
   "metadata": {},
   "outputs": [
    {
     "data": {
      "text/plain": [
       "0.4543466938335673"
      ]
     },
     "execution_count": 135,
     "metadata": {},
     "output_type": "execute_result"
    }
   ],
   "source": [
    "# Testing the model\n",
    "X_test = prepare_X(df_test)\n",
    "y_pred = w0 + X_test.dot(w)\n",
    "rmse(y_pred, y_test)"
   ]
  },
  {
   "cell_type": "markdown",
   "id": "08f0d5f2-a9a7-41d7-932e-95578ff16d2a",
   "metadata": {},
   "source": [
    "From 0.4562404988426898 validation rmse to 0.45434675365429195 test rmse.\n",
    "\n",
    "This is a good sign. Our model generalizes well."
   ]
  },
  {
   "cell_type": "markdown",
   "id": "3aba5990-14b7-48ff-949b-182d30aa46fe",
   "metadata": {},
   "source": [
    "Now, let's simulate a real life scenario where we make a prediction on dictionary."
   ]
  },
  {
   "cell_type": "code",
   "execution_count": 136,
   "id": "2f6456aa-b253-4b88-bec0-b08fe55b647d",
   "metadata": {},
   "outputs": [
    {
     "data": {
      "text/plain": [
       "{'make': 'chevrolet',\n",
       " 'model': 'sonic',\n",
       " 'year': 2016,\n",
       " 'engine_fuel_type': 'regular_unleaded',\n",
       " 'engine_hp': 138.0,\n",
       " 'engine_cylinders': 4.0,\n",
       " 'transmission_type': 'automatic',\n",
       " 'driven_wheels': 'front_wheel_drive',\n",
       " 'number_of_doors': 4.0,\n",
       " 'market_category': nan,\n",
       " 'vehicle_size': 'compact',\n",
       " 'vehicle_style': 'sedan',\n",
       " 'highway_mpg': 33,\n",
       " 'city_mpg': 25,\n",
       " 'popularity': 1385}"
      ]
     },
     "execution_count": 136,
     "metadata": {},
     "output_type": "execute_result"
    }
   ],
   "source": [
    "car = df_test.iloc[20].to_dict()\n",
    "car"
   ]
  },
  {
   "cell_type": "markdown",
   "id": "42958ecb-d78f-40f2-b3c9-d519afdf1843",
   "metadata": {},
   "source": [
    "Process the dictionary called car."
   ]
  },
  {
   "cell_type": "code",
   "execution_count": 137,
   "id": "540befe7-0328-479a-a681-838ef3b2a200",
   "metadata": {},
   "outputs": [
    {
     "data": {
      "text/html": [
       "<div>\n",
       "<style scoped>\n",
       "    .dataframe tbody tr th:only-of-type {\n",
       "        vertical-align: middle;\n",
       "    }\n",
       "\n",
       "    .dataframe tbody tr th {\n",
       "        vertical-align: top;\n",
       "    }\n",
       "\n",
       "    .dataframe thead th {\n",
       "        text-align: right;\n",
       "    }\n",
       "</style>\n",
       "<table border=\"1\" class=\"dataframe\">\n",
       "  <thead>\n",
       "    <tr style=\"text-align: right;\">\n",
       "      <th></th>\n",
       "      <th>make</th>\n",
       "      <th>model</th>\n",
       "      <th>year</th>\n",
       "      <th>engine_fuel_type</th>\n",
       "      <th>engine_hp</th>\n",
       "      <th>engine_cylinders</th>\n",
       "      <th>transmission_type</th>\n",
       "      <th>driven_wheels</th>\n",
       "      <th>number_of_doors</th>\n",
       "      <th>market_category</th>\n",
       "      <th>vehicle_size</th>\n",
       "      <th>vehicle_style</th>\n",
       "      <th>highway_mpg</th>\n",
       "      <th>city_mpg</th>\n",
       "      <th>popularity</th>\n",
       "    </tr>\n",
       "  </thead>\n",
       "  <tbody>\n",
       "    <tr>\n",
       "      <th>0</th>\n",
       "      <td>chevrolet</td>\n",
       "      <td>sonic</td>\n",
       "      <td>2016</td>\n",
       "      <td>regular_unleaded</td>\n",
       "      <td>138.0</td>\n",
       "      <td>4.0</td>\n",
       "      <td>automatic</td>\n",
       "      <td>front_wheel_drive</td>\n",
       "      <td>4.0</td>\n",
       "      <td>NaN</td>\n",
       "      <td>compact</td>\n",
       "      <td>sedan</td>\n",
       "      <td>33</td>\n",
       "      <td>25</td>\n",
       "      <td>1385</td>\n",
       "    </tr>\n",
       "  </tbody>\n",
       "</table>\n",
       "</div>"
      ],
      "text/plain": [
       "        make  model  year  engine_fuel_type  engine_hp  engine_cylinders  \\\n",
       "0  chevrolet  sonic  2016  regular_unleaded      138.0               4.0   \n",
       "\n",
       "  transmission_type      driven_wheels  number_of_doors  market_category  \\\n",
       "0         automatic  front_wheel_drive              4.0              NaN   \n",
       "\n",
       "  vehicle_size vehicle_style  highway_mpg  city_mpg  popularity  \n",
       "0      compact         sedan           33        25        1385  "
      ]
     },
     "execution_count": 137,
     "metadata": {},
     "output_type": "execute_result"
    }
   ],
   "source": [
    "df_small = pd.DataFrame([car])\n",
    "df_small"
   ]
  },
  {
   "cell_type": "code",
   "execution_count": 138,
   "id": "db6609d1-ac4c-4b88-a086-16361db9b87b",
   "metadata": {},
   "outputs": [],
   "source": [
    "y_small = y_test[20]"
   ]
  },
  {
   "cell_type": "code",
   "execution_count": 139,
   "id": "66777d9f-4eb6-4f9f-a192-15e169b2270a",
   "metadata": {},
   "outputs": [],
   "source": [
    "X_small = prepare_X(df_small)\n",
    "y_pred = w0 + X_small.dot(w)"
   ]
  },
  {
   "cell_type": "markdown",
   "id": "c3d244cf-2c5b-45db-9ba8-60f1a3b28c7d",
   "metadata": {},
   "source": [
    "The prediction is:"
   ]
  },
  {
   "cell_type": "code",
   "execution_count": 140,
   "id": "3a7f3f1f-d010-488b-8e59-cd90c171025f",
   "metadata": {},
   "outputs": [
    {
     "data": {
      "text/plain": [
       "30337.564804298992"
      ]
     },
     "execution_count": 140,
     "metadata": {},
     "output_type": "execute_result"
    }
   ],
   "source": [
    "np.expm1(y_pred[0])"
   ]
  },
  {
   "cell_type": "code",
   "execution_count": 141,
   "id": "65cd9919-9519-4e43-816d-1fc2c94906f9",
   "metadata": {},
   "outputs": [
    {
     "data": {
      "text/plain": [
       "21495.00000000001"
      ]
     },
     "execution_count": 141,
     "metadata": {},
     "output_type": "execute_result"
    }
   ],
   "source": [
    "np.expm1(y_test[20])"
   ]
  },
  {
   "cell_type": "markdown",
   "id": "0eec13ba-031b-4657-a140-d5b784f1d7b4",
   "metadata": {},
   "source": [
    "---"
   ]
  },
  {
   "cell_type": "markdown",
   "id": "5c784d74-da88-4462-8480-f930088cd6d9",
   "metadata": {},
   "source": [
    "## 2.16 Summary"
   ]
  },
  {
   "cell_type": "raw",
   "id": "0e35ad62-fbe7-42de-9a5e-cea51ff587ea",
   "metadata": {},
   "source": [
    "Data preparation and exploration:\n",
    "    EDA - explored the data, ensured the data format is uniform\n",
    "    visualized the MSRP to identify the skewed pattern.\n",
    "    imputation with zeros\n",
    "    feature engineering - remove static values from year\n",
    "    one-hot encoded categorical values and regularization\n",
    "\n",
    "Implementation\n",
    "    Model training using normal equation\n",
    "\n",
    "Model evaluation\n",
    "    RMSE"
   ]
  },
  {
   "cell_type": "markdown",
   "id": "8be5226d-f859-4f11-ad56-305da5319493",
   "metadata": {},
   "source": [
    "---"
   ]
  },
  {
   "cell_type": "markdown",
   "id": "3e584ecc-36da-4ce4-a19e-4f7acafc5f66",
   "metadata": {},
   "source": [
    "## 2.17 Explore more"
   ]
  },
  {
   "cell_type": "code",
   "execution_count": 142,
   "id": "c17ac90b-cff1-4010-b38e-71196e2a0b4d",
   "metadata": {},
   "outputs": [],
   "source": [
    "categories = { 'make', 'engine_fuel_type', 'transmission_type', \n",
    "           'driven_wheels', 'market_category', 'vehicle_size', 'vehicle_style', }\n",
    "\n",
    "categorical_values = {}"
   ]
  },
  {
   "cell_type": "code",
   "execution_count": 143,
   "id": "5470bccd-d43a-4ee9-bccf-e35115953688",
   "metadata": {},
   "outputs": [],
   "source": [
    "for c in categories:\n",
    "    categorical_values[c] = list(df[c].value_counts().head(20).index)"
   ]
  },
  {
   "cell_type": "code",
   "execution_count": 144,
   "id": "7c8a5757-3e23-4b16-8113-0db112860378",
   "metadata": {},
   "outputs": [],
   "source": [
    "# Receives data frame, returns a coefficient matrix of selected colums\n",
    "def prepare_X(df):\n",
    "    # duplicate, otherwise it affects the orignal df\n",
    "    df = df.copy()\n",
    "    features = X_col.copy()\n",
    "    \n",
    "    max_year = df['year'].max()\n",
    "    df['age'] = max_year - df['year']\n",
    "    features.append('age')\n",
    "\n",
    "    for i in [2, 3, 4]:\n",
    "        df['number_of_doors_%s' % i] = (df['number_of_doors'] == i).astype(int)\n",
    "        features.append('number_of_doors_%s' % i)\n",
    "\n",
    "    for c, i in categorical_values.items():\n",
    "        for v in i:\n",
    "            df['%s_%s' % (c, v)] = (df[c] == v).astype(int)\n",
    "            features.append('%s_%s' % (c, v))\n",
    "    \n",
    "    df_num = df[features]\n",
    "    df_num = df_num.fillna(0)\n",
    "    X = df_num.values\n",
    "    \n",
    "    return X"
   ]
  },
  {
   "cell_type": "code",
   "execution_count": 145,
   "id": "0ceeef57-0508-44ec-ac8e-03807ab06eaa",
   "metadata": {},
   "outputs": [],
   "source": [
    "X_full_train = prepare_X(df_full_train)\n",
    "w0, w = train_linear_regression_reg(X_full_train, y_full_train, r = r)"
   ]
  },
  {
   "cell_type": "code",
   "execution_count": 146,
   "id": "4250eae2-7302-4fbe-a3d2-51618ef65d3e",
   "metadata": {},
   "outputs": [
    {
     "data": {
      "text/plain": [
       "0.4268920108875124"
      ]
     },
     "execution_count": 146,
     "metadata": {},
     "output_type": "execute_result"
    }
   ],
   "source": [
    "X_test = prepare_X(df_test)\n",
    "y_pred = w0 + X_test.dot(w)\n",
    "rmse(y_pred, y_test)"
   ]
  },
  {
   "cell_type": "markdown",
   "id": "bedbe44e-e036-40e9-963e-c51150a5c1b3",
   "metadata": {},
   "source": [
    "Top 5 rmse is 0.45434667117548816"
   ]
  },
  {
   "cell_type": "markdown",
   "id": "97af91e5-cfff-42cb-aad8-6eb8f59234f9",
   "metadata": {},
   "source": [
    "We can see that it improves considerably the more popular variables we add."
   ]
  },
  {
   "cell_type": "markdown",
   "id": "0d80a062-f3db-4d61-b9c4-cad553fc96ab",
   "metadata": {},
   "source": [
    "However, it causes a Performance Issue when I use the top 30 because of repeatedly inserting new columns to dataframe."
   ]
  }
 ],
 "metadata": {
  "kernelspec": {
   "display_name": "Python 3 (ipykernel)",
   "language": "python",
   "name": "python3"
  },
  "language_info": {
   "codemirror_mode": {
    "name": "ipython",
    "version": 3
   },
   "file_extension": ".py",
   "mimetype": "text/x-python",
   "name": "python",
   "nbconvert_exporter": "python",
   "pygments_lexer": "ipython3",
   "version": "3.11.9"
  }
 },
 "nbformat": 4,
 "nbformat_minor": 5
}
